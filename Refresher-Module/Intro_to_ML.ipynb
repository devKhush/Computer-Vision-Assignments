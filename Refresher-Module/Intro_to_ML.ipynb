{
  "cells": [
    {
      "cell_type": "markdown",
      "metadata": {
        "id": "1H91fp-OQzdx"
      },
      "source": [
        "# Image Classification"
      ]
    },
    {
      "cell_type": "code",
      "execution_count": 25,
      "metadata": {
        "id": "J-xna4WrOgZt"
      },
      "outputs": [],
      "source": [
        "from sklearn import datasets\n",
        "from matplotlib import pyplot as plt\n",
        "import matplotlib as mpl\n",
        "mpl.rcParams['figure.facecolor'] = 'white'\n",
        "import numpy as np"
      ]
    },
    {
      "cell_type": "code",
      "execution_count": 15,
      "metadata": {
        "id": "aCKxTXEqQ4c-"
      },
      "outputs": [
        {
          "name": "stdout",
          "output_type": "stream",
          "text": [
            "4\n"
          ]
        }
      ],
      "source": [
        "# digits = datasets.load_digits()\n",
        "# X = digits.images\n",
        "# y = digits.target"
      ]
    },
    {
      "cell_type": "markdown",
      "metadata": {
        "id": "kV9Bc88a1l4l"
      },
      "source": [
        "Load MNIST Dataset\n",
        "(Documentation: https://www.engati.com/glossary/mnist-dataset)"
      ]
    },
    {
      "cell_type": "code",
      "execution_count": 16,
      "metadata": {
        "id": "F_Ock5VUoLCu"
      },
      "outputs": [],
      "source": [
        "X, y = datasets.fetch_openml('mnist_784', version=1, return_X_y=True)\n",
        "X = X.to_numpy().reshape(-1, 28, 28)\n",
        "y = y.to_numpy().astype(int)"
      ]
    },
    {
      "cell_type": "code",
      "execution_count": 17,
      "metadata": {
        "colab": {
          "base_uri": "https://localhost:8080/"
        },
        "id": "rycNAySUSYJj",
        "outputId": "03e373d3-5662-451a-823b-a39722956e7f"
      },
      "outputs": [
        {
          "name": "stdout",
          "output_type": "stream",
          "text": [
            "# Data samples: 70000\n",
            "Dimension of each image: (28, 28)\n",
            "Range of input values: 0.0 - 255.0\n"
          ]
        }
      ],
      "source": [
        "print(\"# Data samples:\", len(y))\n",
        "print(\"Dimension of each image:\", X[0].shape)\n",
        "print(\"Range of input values:\", np.min(X), \"-\", np.max(X))"
      ]
    },
    {
      "cell_type": "markdown",
      "metadata": {
        "id": "1Oty2PBX4Ca7"
      },
      "source": [
        "View image as a matrix"
      ]
    },
    {
      "cell_type": "code",
      "execution_count": 18,
      "metadata": {
        "colab": {
          "base_uri": "https://localhost:8080/",
          "height": 957
        },
        "id": "wUGije3p2lYT",
        "outputId": "2c91fa29-b32d-45e6-8eac-1cddce6044fd"
      },
      "outputs": [
        {
          "data": {
            "text/html": [
              "<div>\n",
              "<style scoped>\n",
              "    .dataframe tbody tr th:only-of-type {\n",
              "        vertical-align: middle;\n",
              "    }\n",
              "\n",
              "    .dataframe tbody tr th {\n",
              "        vertical-align: top;\n",
              "    }\n",
              "\n",
              "    .dataframe thead th {\n",
              "        text-align: right;\n",
              "    }\n",
              "</style>\n",
              "<table border=\"1\" class=\"dataframe\">\n",
              "  <thead>\n",
              "    <tr style=\"text-align: right;\">\n",
              "      <th></th>\n",
              "      <th>0</th>\n",
              "      <th>1</th>\n",
              "      <th>2</th>\n",
              "      <th>3</th>\n",
              "      <th>4</th>\n",
              "      <th>5</th>\n",
              "      <th>6</th>\n",
              "      <th>7</th>\n",
              "      <th>8</th>\n",
              "      <th>9</th>\n",
              "      <th>...</th>\n",
              "      <th>18</th>\n",
              "      <th>19</th>\n",
              "      <th>20</th>\n",
              "      <th>21</th>\n",
              "      <th>22</th>\n",
              "      <th>23</th>\n",
              "      <th>24</th>\n",
              "      <th>25</th>\n",
              "      <th>26</th>\n",
              "      <th>27</th>\n",
              "    </tr>\n",
              "  </thead>\n",
              "  <tbody>\n",
              "    <tr>\n",
              "      <th>0</th>\n",
              "      <td>0.0</td>\n",
              "      <td>0.0</td>\n",
              "      <td>0.0</td>\n",
              "      <td>0.0</td>\n",
              "      <td>0.0</td>\n",
              "      <td>0.0</td>\n",
              "      <td>0.0</td>\n",
              "      <td>0.0</td>\n",
              "      <td>0.0</td>\n",
              "      <td>0.0</td>\n",
              "      <td>...</td>\n",
              "      <td>0.0</td>\n",
              "      <td>0.0</td>\n",
              "      <td>0.0</td>\n",
              "      <td>0.0</td>\n",
              "      <td>0.0</td>\n",
              "      <td>0.0</td>\n",
              "      <td>0.0</td>\n",
              "      <td>0.0</td>\n",
              "      <td>0.0</td>\n",
              "      <td>0.0</td>\n",
              "    </tr>\n",
              "    <tr>\n",
              "      <th>1</th>\n",
              "      <td>0.0</td>\n",
              "      <td>0.0</td>\n",
              "      <td>0.0</td>\n",
              "      <td>0.0</td>\n",
              "      <td>0.0</td>\n",
              "      <td>0.0</td>\n",
              "      <td>0.0</td>\n",
              "      <td>0.0</td>\n",
              "      <td>0.0</td>\n",
              "      <td>0.0</td>\n",
              "      <td>...</td>\n",
              "      <td>0.0</td>\n",
              "      <td>0.0</td>\n",
              "      <td>0.0</td>\n",
              "      <td>0.0</td>\n",
              "      <td>0.0</td>\n",
              "      <td>0.0</td>\n",
              "      <td>0.0</td>\n",
              "      <td>0.0</td>\n",
              "      <td>0.0</td>\n",
              "      <td>0.0</td>\n",
              "    </tr>\n",
              "    <tr>\n",
              "      <th>2</th>\n",
              "      <td>0.0</td>\n",
              "      <td>0.0</td>\n",
              "      <td>0.0</td>\n",
              "      <td>0.0</td>\n",
              "      <td>0.0</td>\n",
              "      <td>0.0</td>\n",
              "      <td>0.0</td>\n",
              "      <td>0.0</td>\n",
              "      <td>0.0</td>\n",
              "      <td>0.0</td>\n",
              "      <td>...</td>\n",
              "      <td>0.0</td>\n",
              "      <td>0.0</td>\n",
              "      <td>0.0</td>\n",
              "      <td>0.0</td>\n",
              "      <td>0.0</td>\n",
              "      <td>0.0</td>\n",
              "      <td>0.0</td>\n",
              "      <td>0.0</td>\n",
              "      <td>0.0</td>\n",
              "      <td>0.0</td>\n",
              "    </tr>\n",
              "    <tr>\n",
              "      <th>3</th>\n",
              "      <td>0.0</td>\n",
              "      <td>0.0</td>\n",
              "      <td>0.0</td>\n",
              "      <td>0.0</td>\n",
              "      <td>0.0</td>\n",
              "      <td>0.0</td>\n",
              "      <td>0.0</td>\n",
              "      <td>0.0</td>\n",
              "      <td>0.0</td>\n",
              "      <td>0.0</td>\n",
              "      <td>...</td>\n",
              "      <td>0.0</td>\n",
              "      <td>0.0</td>\n",
              "      <td>0.0</td>\n",
              "      <td>0.0</td>\n",
              "      <td>0.0</td>\n",
              "      <td>0.0</td>\n",
              "      <td>0.0</td>\n",
              "      <td>0.0</td>\n",
              "      <td>0.0</td>\n",
              "      <td>0.0</td>\n",
              "    </tr>\n",
              "    <tr>\n",
              "      <th>4</th>\n",
              "      <td>0.0</td>\n",
              "      <td>0.0</td>\n",
              "      <td>0.0</td>\n",
              "      <td>0.0</td>\n",
              "      <td>0.0</td>\n",
              "      <td>0.0</td>\n",
              "      <td>0.0</td>\n",
              "      <td>0.0</td>\n",
              "      <td>0.0</td>\n",
              "      <td>0.0</td>\n",
              "      <td>...</td>\n",
              "      <td>0.0</td>\n",
              "      <td>0.0</td>\n",
              "      <td>0.0</td>\n",
              "      <td>0.0</td>\n",
              "      <td>0.0</td>\n",
              "      <td>0.0</td>\n",
              "      <td>0.0</td>\n",
              "      <td>0.0</td>\n",
              "      <td>0.0</td>\n",
              "      <td>0.0</td>\n",
              "    </tr>\n",
              "    <tr>\n",
              "      <th>5</th>\n",
              "      <td>0.0</td>\n",
              "      <td>0.0</td>\n",
              "      <td>0.0</td>\n",
              "      <td>0.0</td>\n",
              "      <td>0.0</td>\n",
              "      <td>0.0</td>\n",
              "      <td>0.0</td>\n",
              "      <td>0.0</td>\n",
              "      <td>0.0</td>\n",
              "      <td>0.0</td>\n",
              "      <td>...</td>\n",
              "      <td>175.0</td>\n",
              "      <td>26.0</td>\n",
              "      <td>166.0</td>\n",
              "      <td>255.0</td>\n",
              "      <td>247.0</td>\n",
              "      <td>127.0</td>\n",
              "      <td>0.0</td>\n",
              "      <td>0.0</td>\n",
              "      <td>0.0</td>\n",
              "      <td>0.0</td>\n",
              "    </tr>\n",
              "    <tr>\n",
              "      <th>6</th>\n",
              "      <td>0.0</td>\n",
              "      <td>0.0</td>\n",
              "      <td>0.0</td>\n",
              "      <td>0.0</td>\n",
              "      <td>0.0</td>\n",
              "      <td>0.0</td>\n",
              "      <td>0.0</td>\n",
              "      <td>0.0</td>\n",
              "      <td>30.0</td>\n",
              "      <td>36.0</td>\n",
              "      <td>...</td>\n",
              "      <td>225.0</td>\n",
              "      <td>172.0</td>\n",
              "      <td>253.0</td>\n",
              "      <td>242.0</td>\n",
              "      <td>195.0</td>\n",
              "      <td>64.0</td>\n",
              "      <td>0.0</td>\n",
              "      <td>0.0</td>\n",
              "      <td>0.0</td>\n",
              "      <td>0.0</td>\n",
              "    </tr>\n",
              "    <tr>\n",
              "      <th>7</th>\n",
              "      <td>0.0</td>\n",
              "      <td>0.0</td>\n",
              "      <td>0.0</td>\n",
              "      <td>0.0</td>\n",
              "      <td>0.0</td>\n",
              "      <td>0.0</td>\n",
              "      <td>0.0</td>\n",
              "      <td>49.0</td>\n",
              "      <td>238.0</td>\n",
              "      <td>253.0</td>\n",
              "      <td>...</td>\n",
              "      <td>93.0</td>\n",
              "      <td>82.0</td>\n",
              "      <td>82.0</td>\n",
              "      <td>56.0</td>\n",
              "      <td>39.0</td>\n",
              "      <td>0.0</td>\n",
              "      <td>0.0</td>\n",
              "      <td>0.0</td>\n",
              "      <td>0.0</td>\n",
              "      <td>0.0</td>\n",
              "    </tr>\n",
              "    <tr>\n",
              "      <th>8</th>\n",
              "      <td>0.0</td>\n",
              "      <td>0.0</td>\n",
              "      <td>0.0</td>\n",
              "      <td>0.0</td>\n",
              "      <td>0.0</td>\n",
              "      <td>0.0</td>\n",
              "      <td>0.0</td>\n",
              "      <td>18.0</td>\n",
              "      <td>219.0</td>\n",
              "      <td>253.0</td>\n",
              "      <td>...</td>\n",
              "      <td>0.0</td>\n",
              "      <td>0.0</td>\n",
              "      <td>0.0</td>\n",
              "      <td>0.0</td>\n",
              "      <td>0.0</td>\n",
              "      <td>0.0</td>\n",
              "      <td>0.0</td>\n",
              "      <td>0.0</td>\n",
              "      <td>0.0</td>\n",
              "      <td>0.0</td>\n",
              "    </tr>\n",
              "    <tr>\n",
              "      <th>9</th>\n",
              "      <td>0.0</td>\n",
              "      <td>0.0</td>\n",
              "      <td>0.0</td>\n",
              "      <td>0.0</td>\n",
              "      <td>0.0</td>\n",
              "      <td>0.0</td>\n",
              "      <td>0.0</td>\n",
              "      <td>0.0</td>\n",
              "      <td>80.0</td>\n",
              "      <td>156.0</td>\n",
              "      <td>...</td>\n",
              "      <td>0.0</td>\n",
              "      <td>0.0</td>\n",
              "      <td>0.0</td>\n",
              "      <td>0.0</td>\n",
              "      <td>0.0</td>\n",
              "      <td>0.0</td>\n",
              "      <td>0.0</td>\n",
              "      <td>0.0</td>\n",
              "      <td>0.0</td>\n",
              "      <td>0.0</td>\n",
              "    </tr>\n",
              "    <tr>\n",
              "      <th>10</th>\n",
              "      <td>0.0</td>\n",
              "      <td>0.0</td>\n",
              "      <td>0.0</td>\n",
              "      <td>0.0</td>\n",
              "      <td>0.0</td>\n",
              "      <td>0.0</td>\n",
              "      <td>0.0</td>\n",
              "      <td>0.0</td>\n",
              "      <td>0.0</td>\n",
              "      <td>14.0</td>\n",
              "      <td>...</td>\n",
              "      <td>0.0</td>\n",
              "      <td>0.0</td>\n",
              "      <td>0.0</td>\n",
              "      <td>0.0</td>\n",
              "      <td>0.0</td>\n",
              "      <td>0.0</td>\n",
              "      <td>0.0</td>\n",
              "      <td>0.0</td>\n",
              "      <td>0.0</td>\n",
              "      <td>0.0</td>\n",
              "    </tr>\n",
              "    <tr>\n",
              "      <th>11</th>\n",
              "      <td>0.0</td>\n",
              "      <td>0.0</td>\n",
              "      <td>0.0</td>\n",
              "      <td>0.0</td>\n",
              "      <td>0.0</td>\n",
              "      <td>0.0</td>\n",
              "      <td>0.0</td>\n",
              "      <td>0.0</td>\n",
              "      <td>0.0</td>\n",
              "      <td>0.0</td>\n",
              "      <td>...</td>\n",
              "      <td>0.0</td>\n",
              "      <td>0.0</td>\n",
              "      <td>0.0</td>\n",
              "      <td>0.0</td>\n",
              "      <td>0.0</td>\n",
              "      <td>0.0</td>\n",
              "      <td>0.0</td>\n",
              "      <td>0.0</td>\n",
              "      <td>0.0</td>\n",
              "      <td>0.0</td>\n",
              "    </tr>\n",
              "    <tr>\n",
              "      <th>12</th>\n",
              "      <td>0.0</td>\n",
              "      <td>0.0</td>\n",
              "      <td>0.0</td>\n",
              "      <td>0.0</td>\n",
              "      <td>0.0</td>\n",
              "      <td>0.0</td>\n",
              "      <td>0.0</td>\n",
              "      <td>0.0</td>\n",
              "      <td>0.0</td>\n",
              "      <td>0.0</td>\n",
              "      <td>...</td>\n",
              "      <td>0.0</td>\n",
              "      <td>0.0</td>\n",
              "      <td>0.0</td>\n",
              "      <td>0.0</td>\n",
              "      <td>0.0</td>\n",
              "      <td>0.0</td>\n",
              "      <td>0.0</td>\n",
              "      <td>0.0</td>\n",
              "      <td>0.0</td>\n",
              "      <td>0.0</td>\n",
              "    </tr>\n",
              "    <tr>\n",
              "      <th>13</th>\n",
              "      <td>0.0</td>\n",
              "      <td>0.0</td>\n",
              "      <td>0.0</td>\n",
              "      <td>0.0</td>\n",
              "      <td>0.0</td>\n",
              "      <td>0.0</td>\n",
              "      <td>0.0</td>\n",
              "      <td>0.0</td>\n",
              "      <td>0.0</td>\n",
              "      <td>0.0</td>\n",
              "      <td>...</td>\n",
              "      <td>0.0</td>\n",
              "      <td>0.0</td>\n",
              "      <td>0.0</td>\n",
              "      <td>0.0</td>\n",
              "      <td>0.0</td>\n",
              "      <td>0.0</td>\n",
              "      <td>0.0</td>\n",
              "      <td>0.0</td>\n",
              "      <td>0.0</td>\n",
              "      <td>0.0</td>\n",
              "    </tr>\n",
              "    <tr>\n",
              "      <th>14</th>\n",
              "      <td>0.0</td>\n",
              "      <td>0.0</td>\n",
              "      <td>0.0</td>\n",
              "      <td>0.0</td>\n",
              "      <td>0.0</td>\n",
              "      <td>0.0</td>\n",
              "      <td>0.0</td>\n",
              "      <td>0.0</td>\n",
              "      <td>0.0</td>\n",
              "      <td>0.0</td>\n",
              "      <td>...</td>\n",
              "      <td>25.0</td>\n",
              "      <td>0.0</td>\n",
              "      <td>0.0</td>\n",
              "      <td>0.0</td>\n",
              "      <td>0.0</td>\n",
              "      <td>0.0</td>\n",
              "      <td>0.0</td>\n",
              "      <td>0.0</td>\n",
              "      <td>0.0</td>\n",
              "      <td>0.0</td>\n",
              "    </tr>\n",
              "    <tr>\n",
              "      <th>15</th>\n",
              "      <td>0.0</td>\n",
              "      <td>0.0</td>\n",
              "      <td>0.0</td>\n",
              "      <td>0.0</td>\n",
              "      <td>0.0</td>\n",
              "      <td>0.0</td>\n",
              "      <td>0.0</td>\n",
              "      <td>0.0</td>\n",
              "      <td>0.0</td>\n",
              "      <td>0.0</td>\n",
              "      <td>...</td>\n",
              "      <td>150.0</td>\n",
              "      <td>27.0</td>\n",
              "      <td>0.0</td>\n",
              "      <td>0.0</td>\n",
              "      <td>0.0</td>\n",
              "      <td>0.0</td>\n",
              "      <td>0.0</td>\n",
              "      <td>0.0</td>\n",
              "      <td>0.0</td>\n",
              "      <td>0.0</td>\n",
              "    </tr>\n",
              "    <tr>\n",
              "      <th>16</th>\n",
              "      <td>0.0</td>\n",
              "      <td>0.0</td>\n",
              "      <td>0.0</td>\n",
              "      <td>0.0</td>\n",
              "      <td>0.0</td>\n",
              "      <td>0.0</td>\n",
              "      <td>0.0</td>\n",
              "      <td>0.0</td>\n",
              "      <td>0.0</td>\n",
              "      <td>0.0</td>\n",
              "      <td>...</td>\n",
              "      <td>253.0</td>\n",
              "      <td>187.0</td>\n",
              "      <td>0.0</td>\n",
              "      <td>0.0</td>\n",
              "      <td>0.0</td>\n",
              "      <td>0.0</td>\n",
              "      <td>0.0</td>\n",
              "      <td>0.0</td>\n",
              "      <td>0.0</td>\n",
              "      <td>0.0</td>\n",
              "    </tr>\n",
              "    <tr>\n",
              "      <th>17</th>\n",
              "      <td>0.0</td>\n",
              "      <td>0.0</td>\n",
              "      <td>0.0</td>\n",
              "      <td>0.0</td>\n",
              "      <td>0.0</td>\n",
              "      <td>0.0</td>\n",
              "      <td>0.0</td>\n",
              "      <td>0.0</td>\n",
              "      <td>0.0</td>\n",
              "      <td>0.0</td>\n",
              "      <td>...</td>\n",
              "      <td>253.0</td>\n",
              "      <td>249.0</td>\n",
              "      <td>64.0</td>\n",
              "      <td>0.0</td>\n",
              "      <td>0.0</td>\n",
              "      <td>0.0</td>\n",
              "      <td>0.0</td>\n",
              "      <td>0.0</td>\n",
              "      <td>0.0</td>\n",
              "      <td>0.0</td>\n",
              "    </tr>\n",
              "    <tr>\n",
              "      <th>18</th>\n",
              "      <td>0.0</td>\n",
              "      <td>0.0</td>\n",
              "      <td>0.0</td>\n",
              "      <td>0.0</td>\n",
              "      <td>0.0</td>\n",
              "      <td>0.0</td>\n",
              "      <td>0.0</td>\n",
              "      <td>0.0</td>\n",
              "      <td>0.0</td>\n",
              "      <td>0.0</td>\n",
              "      <td>...</td>\n",
              "      <td>253.0</td>\n",
              "      <td>207.0</td>\n",
              "      <td>2.0</td>\n",
              "      <td>0.0</td>\n",
              "      <td>0.0</td>\n",
              "      <td>0.0</td>\n",
              "      <td>0.0</td>\n",
              "      <td>0.0</td>\n",
              "      <td>0.0</td>\n",
              "      <td>0.0</td>\n",
              "    </tr>\n",
              "    <tr>\n",
              "      <th>19</th>\n",
              "      <td>0.0</td>\n",
              "      <td>0.0</td>\n",
              "      <td>0.0</td>\n",
              "      <td>0.0</td>\n",
              "      <td>0.0</td>\n",
              "      <td>0.0</td>\n",
              "      <td>0.0</td>\n",
              "      <td>0.0</td>\n",
              "      <td>0.0</td>\n",
              "      <td>0.0</td>\n",
              "      <td>...</td>\n",
              "      <td>250.0</td>\n",
              "      <td>182.0</td>\n",
              "      <td>0.0</td>\n",
              "      <td>0.0</td>\n",
              "      <td>0.0</td>\n",
              "      <td>0.0</td>\n",
              "      <td>0.0</td>\n",
              "      <td>0.0</td>\n",
              "      <td>0.0</td>\n",
              "      <td>0.0</td>\n",
              "    </tr>\n",
              "    <tr>\n",
              "      <th>20</th>\n",
              "      <td>0.0</td>\n",
              "      <td>0.0</td>\n",
              "      <td>0.0</td>\n",
              "      <td>0.0</td>\n",
              "      <td>0.0</td>\n",
              "      <td>0.0</td>\n",
              "      <td>0.0</td>\n",
              "      <td>0.0</td>\n",
              "      <td>0.0</td>\n",
              "      <td>0.0</td>\n",
              "      <td>...</td>\n",
              "      <td>78.0</td>\n",
              "      <td>0.0</td>\n",
              "      <td>0.0</td>\n",
              "      <td>0.0</td>\n",
              "      <td>0.0</td>\n",
              "      <td>0.0</td>\n",
              "      <td>0.0</td>\n",
              "      <td>0.0</td>\n",
              "      <td>0.0</td>\n",
              "      <td>0.0</td>\n",
              "    </tr>\n",
              "    <tr>\n",
              "      <th>21</th>\n",
              "      <td>0.0</td>\n",
              "      <td>0.0</td>\n",
              "      <td>0.0</td>\n",
              "      <td>0.0</td>\n",
              "      <td>0.0</td>\n",
              "      <td>0.0</td>\n",
              "      <td>0.0</td>\n",
              "      <td>0.0</td>\n",
              "      <td>23.0</td>\n",
              "      <td>66.0</td>\n",
              "      <td>...</td>\n",
              "      <td>0.0</td>\n",
              "      <td>0.0</td>\n",
              "      <td>0.0</td>\n",
              "      <td>0.0</td>\n",
              "      <td>0.0</td>\n",
              "      <td>0.0</td>\n",
              "      <td>0.0</td>\n",
              "      <td>0.0</td>\n",
              "      <td>0.0</td>\n",
              "      <td>0.0</td>\n",
              "    </tr>\n",
              "    <tr>\n",
              "      <th>22</th>\n",
              "      <td>0.0</td>\n",
              "      <td>0.0</td>\n",
              "      <td>0.0</td>\n",
              "      <td>0.0</td>\n",
              "      <td>0.0</td>\n",
              "      <td>0.0</td>\n",
              "      <td>18.0</td>\n",
              "      <td>171.0</td>\n",
              "      <td>219.0</td>\n",
              "      <td>253.0</td>\n",
              "      <td>...</td>\n",
              "      <td>0.0</td>\n",
              "      <td>0.0</td>\n",
              "      <td>0.0</td>\n",
              "      <td>0.0</td>\n",
              "      <td>0.0</td>\n",
              "      <td>0.0</td>\n",
              "      <td>0.0</td>\n",
              "      <td>0.0</td>\n",
              "      <td>0.0</td>\n",
              "      <td>0.0</td>\n",
              "    </tr>\n",
              "    <tr>\n",
              "      <th>23</th>\n",
              "      <td>0.0</td>\n",
              "      <td>0.0</td>\n",
              "      <td>0.0</td>\n",
              "      <td>0.0</td>\n",
              "      <td>55.0</td>\n",
              "      <td>172.0</td>\n",
              "      <td>226.0</td>\n",
              "      <td>253.0</td>\n",
              "      <td>253.0</td>\n",
              "      <td>253.0</td>\n",
              "      <td>...</td>\n",
              "      <td>0.0</td>\n",
              "      <td>0.0</td>\n",
              "      <td>0.0</td>\n",
              "      <td>0.0</td>\n",
              "      <td>0.0</td>\n",
              "      <td>0.0</td>\n",
              "      <td>0.0</td>\n",
              "      <td>0.0</td>\n",
              "      <td>0.0</td>\n",
              "      <td>0.0</td>\n",
              "    </tr>\n",
              "    <tr>\n",
              "      <th>24</th>\n",
              "      <td>0.0</td>\n",
              "      <td>0.0</td>\n",
              "      <td>0.0</td>\n",
              "      <td>0.0</td>\n",
              "      <td>136.0</td>\n",
              "      <td>253.0</td>\n",
              "      <td>253.0</td>\n",
              "      <td>253.0</td>\n",
              "      <td>212.0</td>\n",
              "      <td>135.0</td>\n",
              "      <td>...</td>\n",
              "      <td>0.0</td>\n",
              "      <td>0.0</td>\n",
              "      <td>0.0</td>\n",
              "      <td>0.0</td>\n",
              "      <td>0.0</td>\n",
              "      <td>0.0</td>\n",
              "      <td>0.0</td>\n",
              "      <td>0.0</td>\n",
              "      <td>0.0</td>\n",
              "      <td>0.0</td>\n",
              "    </tr>\n",
              "    <tr>\n",
              "      <th>25</th>\n",
              "      <td>0.0</td>\n",
              "      <td>0.0</td>\n",
              "      <td>0.0</td>\n",
              "      <td>0.0</td>\n",
              "      <td>0.0</td>\n",
              "      <td>0.0</td>\n",
              "      <td>0.0</td>\n",
              "      <td>0.0</td>\n",
              "      <td>0.0</td>\n",
              "      <td>0.0</td>\n",
              "      <td>...</td>\n",
              "      <td>0.0</td>\n",
              "      <td>0.0</td>\n",
              "      <td>0.0</td>\n",
              "      <td>0.0</td>\n",
              "      <td>0.0</td>\n",
              "      <td>0.0</td>\n",
              "      <td>0.0</td>\n",
              "      <td>0.0</td>\n",
              "      <td>0.0</td>\n",
              "      <td>0.0</td>\n",
              "    </tr>\n",
              "    <tr>\n",
              "      <th>26</th>\n",
              "      <td>0.0</td>\n",
              "      <td>0.0</td>\n",
              "      <td>0.0</td>\n",
              "      <td>0.0</td>\n",
              "      <td>0.0</td>\n",
              "      <td>0.0</td>\n",
              "      <td>0.0</td>\n",
              "      <td>0.0</td>\n",
              "      <td>0.0</td>\n",
              "      <td>0.0</td>\n",
              "      <td>...</td>\n",
              "      <td>0.0</td>\n",
              "      <td>0.0</td>\n",
              "      <td>0.0</td>\n",
              "      <td>0.0</td>\n",
              "      <td>0.0</td>\n",
              "      <td>0.0</td>\n",
              "      <td>0.0</td>\n",
              "      <td>0.0</td>\n",
              "      <td>0.0</td>\n",
              "      <td>0.0</td>\n",
              "    </tr>\n",
              "    <tr>\n",
              "      <th>27</th>\n",
              "      <td>0.0</td>\n",
              "      <td>0.0</td>\n",
              "      <td>0.0</td>\n",
              "      <td>0.0</td>\n",
              "      <td>0.0</td>\n",
              "      <td>0.0</td>\n",
              "      <td>0.0</td>\n",
              "      <td>0.0</td>\n",
              "      <td>0.0</td>\n",
              "      <td>0.0</td>\n",
              "      <td>...</td>\n",
              "      <td>0.0</td>\n",
              "      <td>0.0</td>\n",
              "      <td>0.0</td>\n",
              "      <td>0.0</td>\n",
              "      <td>0.0</td>\n",
              "      <td>0.0</td>\n",
              "      <td>0.0</td>\n",
              "      <td>0.0</td>\n",
              "      <td>0.0</td>\n",
              "      <td>0.0</td>\n",
              "    </tr>\n",
              "  </tbody>\n",
              "</table>\n",
              "<p>28 rows × 28 columns</p>\n",
              "</div>"
            ],
            "text/plain": [
              "     0    1    2    3      4      5      6      7      8      9   ...     18  \\\n",
              "0   0.0  0.0  0.0  0.0    0.0    0.0    0.0    0.0    0.0    0.0  ...    0.0   \n",
              "1   0.0  0.0  0.0  0.0    0.0    0.0    0.0    0.0    0.0    0.0  ...    0.0   \n",
              "2   0.0  0.0  0.0  0.0    0.0    0.0    0.0    0.0    0.0    0.0  ...    0.0   \n",
              "3   0.0  0.0  0.0  0.0    0.0    0.0    0.0    0.0    0.0    0.0  ...    0.0   \n",
              "4   0.0  0.0  0.0  0.0    0.0    0.0    0.0    0.0    0.0    0.0  ...    0.0   \n",
              "5   0.0  0.0  0.0  0.0    0.0    0.0    0.0    0.0    0.0    0.0  ...  175.0   \n",
              "6   0.0  0.0  0.0  0.0    0.0    0.0    0.0    0.0   30.0   36.0  ...  225.0   \n",
              "7   0.0  0.0  0.0  0.0    0.0    0.0    0.0   49.0  238.0  253.0  ...   93.0   \n",
              "8   0.0  0.0  0.0  0.0    0.0    0.0    0.0   18.0  219.0  253.0  ...    0.0   \n",
              "9   0.0  0.0  0.0  0.0    0.0    0.0    0.0    0.0   80.0  156.0  ...    0.0   \n",
              "10  0.0  0.0  0.0  0.0    0.0    0.0    0.0    0.0    0.0   14.0  ...    0.0   \n",
              "11  0.0  0.0  0.0  0.0    0.0    0.0    0.0    0.0    0.0    0.0  ...    0.0   \n",
              "12  0.0  0.0  0.0  0.0    0.0    0.0    0.0    0.0    0.0    0.0  ...    0.0   \n",
              "13  0.0  0.0  0.0  0.0    0.0    0.0    0.0    0.0    0.0    0.0  ...    0.0   \n",
              "14  0.0  0.0  0.0  0.0    0.0    0.0    0.0    0.0    0.0    0.0  ...   25.0   \n",
              "15  0.0  0.0  0.0  0.0    0.0    0.0    0.0    0.0    0.0    0.0  ...  150.0   \n",
              "16  0.0  0.0  0.0  0.0    0.0    0.0    0.0    0.0    0.0    0.0  ...  253.0   \n",
              "17  0.0  0.0  0.0  0.0    0.0    0.0    0.0    0.0    0.0    0.0  ...  253.0   \n",
              "18  0.0  0.0  0.0  0.0    0.0    0.0    0.0    0.0    0.0    0.0  ...  253.0   \n",
              "19  0.0  0.0  0.0  0.0    0.0    0.0    0.0    0.0    0.0    0.0  ...  250.0   \n",
              "20  0.0  0.0  0.0  0.0    0.0    0.0    0.0    0.0    0.0    0.0  ...   78.0   \n",
              "21  0.0  0.0  0.0  0.0    0.0    0.0    0.0    0.0   23.0   66.0  ...    0.0   \n",
              "22  0.0  0.0  0.0  0.0    0.0    0.0   18.0  171.0  219.0  253.0  ...    0.0   \n",
              "23  0.0  0.0  0.0  0.0   55.0  172.0  226.0  253.0  253.0  253.0  ...    0.0   \n",
              "24  0.0  0.0  0.0  0.0  136.0  253.0  253.0  253.0  212.0  135.0  ...    0.0   \n",
              "25  0.0  0.0  0.0  0.0    0.0    0.0    0.0    0.0    0.0    0.0  ...    0.0   \n",
              "26  0.0  0.0  0.0  0.0    0.0    0.0    0.0    0.0    0.0    0.0  ...    0.0   \n",
              "27  0.0  0.0  0.0  0.0    0.0    0.0    0.0    0.0    0.0    0.0  ...    0.0   \n",
              "\n",
              "       19     20     21     22     23   24   25   26   27  \n",
              "0     0.0    0.0    0.0    0.0    0.0  0.0  0.0  0.0  0.0  \n",
              "1     0.0    0.0    0.0    0.0    0.0  0.0  0.0  0.0  0.0  \n",
              "2     0.0    0.0    0.0    0.0    0.0  0.0  0.0  0.0  0.0  \n",
              "3     0.0    0.0    0.0    0.0    0.0  0.0  0.0  0.0  0.0  \n",
              "4     0.0    0.0    0.0    0.0    0.0  0.0  0.0  0.0  0.0  \n",
              "5    26.0  166.0  255.0  247.0  127.0  0.0  0.0  0.0  0.0  \n",
              "6   172.0  253.0  242.0  195.0   64.0  0.0  0.0  0.0  0.0  \n",
              "7    82.0   82.0   56.0   39.0    0.0  0.0  0.0  0.0  0.0  \n",
              "8     0.0    0.0    0.0    0.0    0.0  0.0  0.0  0.0  0.0  \n",
              "9     0.0    0.0    0.0    0.0    0.0  0.0  0.0  0.0  0.0  \n",
              "10    0.0    0.0    0.0    0.0    0.0  0.0  0.0  0.0  0.0  \n",
              "11    0.0    0.0    0.0    0.0    0.0  0.0  0.0  0.0  0.0  \n",
              "12    0.0    0.0    0.0    0.0    0.0  0.0  0.0  0.0  0.0  \n",
              "13    0.0    0.0    0.0    0.0    0.0  0.0  0.0  0.0  0.0  \n",
              "14    0.0    0.0    0.0    0.0    0.0  0.0  0.0  0.0  0.0  \n",
              "15   27.0    0.0    0.0    0.0    0.0  0.0  0.0  0.0  0.0  \n",
              "16  187.0    0.0    0.0    0.0    0.0  0.0  0.0  0.0  0.0  \n",
              "17  249.0   64.0    0.0    0.0    0.0  0.0  0.0  0.0  0.0  \n",
              "18  207.0    2.0    0.0    0.0    0.0  0.0  0.0  0.0  0.0  \n",
              "19  182.0    0.0    0.0    0.0    0.0  0.0  0.0  0.0  0.0  \n",
              "20    0.0    0.0    0.0    0.0    0.0  0.0  0.0  0.0  0.0  \n",
              "21    0.0    0.0    0.0    0.0    0.0  0.0  0.0  0.0  0.0  \n",
              "22    0.0    0.0    0.0    0.0    0.0  0.0  0.0  0.0  0.0  \n",
              "23    0.0    0.0    0.0    0.0    0.0  0.0  0.0  0.0  0.0  \n",
              "24    0.0    0.0    0.0    0.0    0.0  0.0  0.0  0.0  0.0  \n",
              "25    0.0    0.0    0.0    0.0    0.0  0.0  0.0  0.0  0.0  \n",
              "26    0.0    0.0    0.0    0.0    0.0  0.0  0.0  0.0  0.0  \n",
              "27    0.0    0.0    0.0    0.0    0.0  0.0  0.0  0.0  0.0  \n",
              "\n",
              "[28 rows x 28 columns]"
            ]
          },
          "execution_count": 18,
          "metadata": {},
          "output_type": "execute_result"
        }
      ],
      "source": [
        "import pandas as pd\n",
        "pd.DataFrame(X[0])"
      ]
    },
    {
      "cell_type": "markdown",
      "metadata": {
        "id": "TLcBJ2xh4GK4"
      },
      "source": [
        "Normalize the image"
      ]
    },
    {
      "cell_type": "code",
      "execution_count": 19,
      "metadata": {
        "id": "9ERZT73C3yxL"
      },
      "outputs": [],
      "source": [
        "X = X / 255."
      ]
    },
    {
      "cell_type": "code",
      "execution_count": 20,
      "metadata": {
        "colab": {
          "base_uri": "https://localhost:8080/",
          "height": 956
        },
        "id": "0wcAF3Cg32gm",
        "outputId": "37e306de-8877-4ebf-8820-8dd6fc014dcb"
      },
      "outputs": [
        {
          "data": {
            "text/html": [
              "<div>\n",
              "<style scoped>\n",
              "    .dataframe tbody tr th:only-of-type {\n",
              "        vertical-align: middle;\n",
              "    }\n",
              "\n",
              "    .dataframe tbody tr th {\n",
              "        vertical-align: top;\n",
              "    }\n",
              "\n",
              "    .dataframe thead th {\n",
              "        text-align: right;\n",
              "    }\n",
              "</style>\n",
              "<table border=\"1\" class=\"dataframe\">\n",
              "  <thead>\n",
              "    <tr style=\"text-align: right;\">\n",
              "      <th></th>\n",
              "      <th>0</th>\n",
              "      <th>1</th>\n",
              "      <th>2</th>\n",
              "      <th>3</th>\n",
              "      <th>4</th>\n",
              "      <th>5</th>\n",
              "      <th>6</th>\n",
              "      <th>7</th>\n",
              "      <th>8</th>\n",
              "      <th>9</th>\n",
              "      <th>...</th>\n",
              "      <th>18</th>\n",
              "      <th>19</th>\n",
              "      <th>20</th>\n",
              "      <th>21</th>\n",
              "      <th>22</th>\n",
              "      <th>23</th>\n",
              "      <th>24</th>\n",
              "      <th>25</th>\n",
              "      <th>26</th>\n",
              "      <th>27</th>\n",
              "    </tr>\n",
              "  </thead>\n",
              "  <tbody>\n",
              "    <tr>\n",
              "      <th>0</th>\n",
              "      <td>0.0</td>\n",
              "      <td>0.0</td>\n",
              "      <td>0.0</td>\n",
              "      <td>0.0</td>\n",
              "      <td>0.000000</td>\n",
              "      <td>0.000000</td>\n",
              "      <td>0.000000</td>\n",
              "      <td>0.000000</td>\n",
              "      <td>0.000000</td>\n",
              "      <td>0.000000</td>\n",
              "      <td>...</td>\n",
              "      <td>0.000000</td>\n",
              "      <td>0.000000</td>\n",
              "      <td>0.000000</td>\n",
              "      <td>0.000000</td>\n",
              "      <td>0.000000</td>\n",
              "      <td>0.000000</td>\n",
              "      <td>0.0</td>\n",
              "      <td>0.0</td>\n",
              "      <td>0.0</td>\n",
              "      <td>0.0</td>\n",
              "    </tr>\n",
              "    <tr>\n",
              "      <th>1</th>\n",
              "      <td>0.0</td>\n",
              "      <td>0.0</td>\n",
              "      <td>0.0</td>\n",
              "      <td>0.0</td>\n",
              "      <td>0.000000</td>\n",
              "      <td>0.000000</td>\n",
              "      <td>0.000000</td>\n",
              "      <td>0.000000</td>\n",
              "      <td>0.000000</td>\n",
              "      <td>0.000000</td>\n",
              "      <td>...</td>\n",
              "      <td>0.000000</td>\n",
              "      <td>0.000000</td>\n",
              "      <td>0.000000</td>\n",
              "      <td>0.000000</td>\n",
              "      <td>0.000000</td>\n",
              "      <td>0.000000</td>\n",
              "      <td>0.0</td>\n",
              "      <td>0.0</td>\n",
              "      <td>0.0</td>\n",
              "      <td>0.0</td>\n",
              "    </tr>\n",
              "    <tr>\n",
              "      <th>2</th>\n",
              "      <td>0.0</td>\n",
              "      <td>0.0</td>\n",
              "      <td>0.0</td>\n",
              "      <td>0.0</td>\n",
              "      <td>0.000000</td>\n",
              "      <td>0.000000</td>\n",
              "      <td>0.000000</td>\n",
              "      <td>0.000000</td>\n",
              "      <td>0.000000</td>\n",
              "      <td>0.000000</td>\n",
              "      <td>...</td>\n",
              "      <td>0.000000</td>\n",
              "      <td>0.000000</td>\n",
              "      <td>0.000000</td>\n",
              "      <td>0.000000</td>\n",
              "      <td>0.000000</td>\n",
              "      <td>0.000000</td>\n",
              "      <td>0.0</td>\n",
              "      <td>0.0</td>\n",
              "      <td>0.0</td>\n",
              "      <td>0.0</td>\n",
              "    </tr>\n",
              "    <tr>\n",
              "      <th>3</th>\n",
              "      <td>0.0</td>\n",
              "      <td>0.0</td>\n",
              "      <td>0.0</td>\n",
              "      <td>0.0</td>\n",
              "      <td>0.000000</td>\n",
              "      <td>0.000000</td>\n",
              "      <td>0.000000</td>\n",
              "      <td>0.000000</td>\n",
              "      <td>0.000000</td>\n",
              "      <td>0.000000</td>\n",
              "      <td>...</td>\n",
              "      <td>0.000000</td>\n",
              "      <td>0.000000</td>\n",
              "      <td>0.000000</td>\n",
              "      <td>0.000000</td>\n",
              "      <td>0.000000</td>\n",
              "      <td>0.000000</td>\n",
              "      <td>0.0</td>\n",
              "      <td>0.0</td>\n",
              "      <td>0.0</td>\n",
              "      <td>0.0</td>\n",
              "    </tr>\n",
              "    <tr>\n",
              "      <th>4</th>\n",
              "      <td>0.0</td>\n",
              "      <td>0.0</td>\n",
              "      <td>0.0</td>\n",
              "      <td>0.0</td>\n",
              "      <td>0.000000</td>\n",
              "      <td>0.000000</td>\n",
              "      <td>0.000000</td>\n",
              "      <td>0.000000</td>\n",
              "      <td>0.000000</td>\n",
              "      <td>0.000000</td>\n",
              "      <td>...</td>\n",
              "      <td>0.000000</td>\n",
              "      <td>0.000000</td>\n",
              "      <td>0.000000</td>\n",
              "      <td>0.000000</td>\n",
              "      <td>0.000000</td>\n",
              "      <td>0.000000</td>\n",
              "      <td>0.0</td>\n",
              "      <td>0.0</td>\n",
              "      <td>0.0</td>\n",
              "      <td>0.0</td>\n",
              "    </tr>\n",
              "    <tr>\n",
              "      <th>5</th>\n",
              "      <td>0.0</td>\n",
              "      <td>0.0</td>\n",
              "      <td>0.0</td>\n",
              "      <td>0.0</td>\n",
              "      <td>0.000000</td>\n",
              "      <td>0.000000</td>\n",
              "      <td>0.000000</td>\n",
              "      <td>0.000000</td>\n",
              "      <td>0.000000</td>\n",
              "      <td>0.000000</td>\n",
              "      <td>...</td>\n",
              "      <td>0.686275</td>\n",
              "      <td>0.101961</td>\n",
              "      <td>0.650980</td>\n",
              "      <td>1.000000</td>\n",
              "      <td>0.968627</td>\n",
              "      <td>0.498039</td>\n",
              "      <td>0.0</td>\n",
              "      <td>0.0</td>\n",
              "      <td>0.0</td>\n",
              "      <td>0.0</td>\n",
              "    </tr>\n",
              "    <tr>\n",
              "      <th>6</th>\n",
              "      <td>0.0</td>\n",
              "      <td>0.0</td>\n",
              "      <td>0.0</td>\n",
              "      <td>0.0</td>\n",
              "      <td>0.000000</td>\n",
              "      <td>0.000000</td>\n",
              "      <td>0.000000</td>\n",
              "      <td>0.000000</td>\n",
              "      <td>0.117647</td>\n",
              "      <td>0.141176</td>\n",
              "      <td>...</td>\n",
              "      <td>0.882353</td>\n",
              "      <td>0.674510</td>\n",
              "      <td>0.992157</td>\n",
              "      <td>0.949020</td>\n",
              "      <td>0.764706</td>\n",
              "      <td>0.250980</td>\n",
              "      <td>0.0</td>\n",
              "      <td>0.0</td>\n",
              "      <td>0.0</td>\n",
              "      <td>0.0</td>\n",
              "    </tr>\n",
              "    <tr>\n",
              "      <th>7</th>\n",
              "      <td>0.0</td>\n",
              "      <td>0.0</td>\n",
              "      <td>0.0</td>\n",
              "      <td>0.0</td>\n",
              "      <td>0.000000</td>\n",
              "      <td>0.000000</td>\n",
              "      <td>0.000000</td>\n",
              "      <td>0.192157</td>\n",
              "      <td>0.933333</td>\n",
              "      <td>0.992157</td>\n",
              "      <td>...</td>\n",
              "      <td>0.364706</td>\n",
              "      <td>0.321569</td>\n",
              "      <td>0.321569</td>\n",
              "      <td>0.219608</td>\n",
              "      <td>0.152941</td>\n",
              "      <td>0.000000</td>\n",
              "      <td>0.0</td>\n",
              "      <td>0.0</td>\n",
              "      <td>0.0</td>\n",
              "      <td>0.0</td>\n",
              "    </tr>\n",
              "    <tr>\n",
              "      <th>8</th>\n",
              "      <td>0.0</td>\n",
              "      <td>0.0</td>\n",
              "      <td>0.0</td>\n",
              "      <td>0.0</td>\n",
              "      <td>0.000000</td>\n",
              "      <td>0.000000</td>\n",
              "      <td>0.000000</td>\n",
              "      <td>0.070588</td>\n",
              "      <td>0.858824</td>\n",
              "      <td>0.992157</td>\n",
              "      <td>...</td>\n",
              "      <td>0.000000</td>\n",
              "      <td>0.000000</td>\n",
              "      <td>0.000000</td>\n",
              "      <td>0.000000</td>\n",
              "      <td>0.000000</td>\n",
              "      <td>0.000000</td>\n",
              "      <td>0.0</td>\n",
              "      <td>0.0</td>\n",
              "      <td>0.0</td>\n",
              "      <td>0.0</td>\n",
              "    </tr>\n",
              "    <tr>\n",
              "      <th>9</th>\n",
              "      <td>0.0</td>\n",
              "      <td>0.0</td>\n",
              "      <td>0.0</td>\n",
              "      <td>0.0</td>\n",
              "      <td>0.000000</td>\n",
              "      <td>0.000000</td>\n",
              "      <td>0.000000</td>\n",
              "      <td>0.000000</td>\n",
              "      <td>0.313725</td>\n",
              "      <td>0.611765</td>\n",
              "      <td>...</td>\n",
              "      <td>0.000000</td>\n",
              "      <td>0.000000</td>\n",
              "      <td>0.000000</td>\n",
              "      <td>0.000000</td>\n",
              "      <td>0.000000</td>\n",
              "      <td>0.000000</td>\n",
              "      <td>0.0</td>\n",
              "      <td>0.0</td>\n",
              "      <td>0.0</td>\n",
              "      <td>0.0</td>\n",
              "    </tr>\n",
              "    <tr>\n",
              "      <th>10</th>\n",
              "      <td>0.0</td>\n",
              "      <td>0.0</td>\n",
              "      <td>0.0</td>\n",
              "      <td>0.0</td>\n",
              "      <td>0.000000</td>\n",
              "      <td>0.000000</td>\n",
              "      <td>0.000000</td>\n",
              "      <td>0.000000</td>\n",
              "      <td>0.000000</td>\n",
              "      <td>0.054902</td>\n",
              "      <td>...</td>\n",
              "      <td>0.000000</td>\n",
              "      <td>0.000000</td>\n",
              "      <td>0.000000</td>\n",
              "      <td>0.000000</td>\n",
              "      <td>0.000000</td>\n",
              "      <td>0.000000</td>\n",
              "      <td>0.0</td>\n",
              "      <td>0.0</td>\n",
              "      <td>0.0</td>\n",
              "      <td>0.0</td>\n",
              "    </tr>\n",
              "    <tr>\n",
              "      <th>11</th>\n",
              "      <td>0.0</td>\n",
              "      <td>0.0</td>\n",
              "      <td>0.0</td>\n",
              "      <td>0.0</td>\n",
              "      <td>0.000000</td>\n",
              "      <td>0.000000</td>\n",
              "      <td>0.000000</td>\n",
              "      <td>0.000000</td>\n",
              "      <td>0.000000</td>\n",
              "      <td>0.000000</td>\n",
              "      <td>...</td>\n",
              "      <td>0.000000</td>\n",
              "      <td>0.000000</td>\n",
              "      <td>0.000000</td>\n",
              "      <td>0.000000</td>\n",
              "      <td>0.000000</td>\n",
              "      <td>0.000000</td>\n",
              "      <td>0.0</td>\n",
              "      <td>0.0</td>\n",
              "      <td>0.0</td>\n",
              "      <td>0.0</td>\n",
              "    </tr>\n",
              "    <tr>\n",
              "      <th>12</th>\n",
              "      <td>0.0</td>\n",
              "      <td>0.0</td>\n",
              "      <td>0.0</td>\n",
              "      <td>0.0</td>\n",
              "      <td>0.000000</td>\n",
              "      <td>0.000000</td>\n",
              "      <td>0.000000</td>\n",
              "      <td>0.000000</td>\n",
              "      <td>0.000000</td>\n",
              "      <td>0.000000</td>\n",
              "      <td>...</td>\n",
              "      <td>0.000000</td>\n",
              "      <td>0.000000</td>\n",
              "      <td>0.000000</td>\n",
              "      <td>0.000000</td>\n",
              "      <td>0.000000</td>\n",
              "      <td>0.000000</td>\n",
              "      <td>0.0</td>\n",
              "      <td>0.0</td>\n",
              "      <td>0.0</td>\n",
              "      <td>0.0</td>\n",
              "    </tr>\n",
              "    <tr>\n",
              "      <th>13</th>\n",
              "      <td>0.0</td>\n",
              "      <td>0.0</td>\n",
              "      <td>0.0</td>\n",
              "      <td>0.0</td>\n",
              "      <td>0.000000</td>\n",
              "      <td>0.000000</td>\n",
              "      <td>0.000000</td>\n",
              "      <td>0.000000</td>\n",
              "      <td>0.000000</td>\n",
              "      <td>0.000000</td>\n",
              "      <td>...</td>\n",
              "      <td>0.000000</td>\n",
              "      <td>0.000000</td>\n",
              "      <td>0.000000</td>\n",
              "      <td>0.000000</td>\n",
              "      <td>0.000000</td>\n",
              "      <td>0.000000</td>\n",
              "      <td>0.0</td>\n",
              "      <td>0.0</td>\n",
              "      <td>0.0</td>\n",
              "      <td>0.0</td>\n",
              "    </tr>\n",
              "    <tr>\n",
              "      <th>14</th>\n",
              "      <td>0.0</td>\n",
              "      <td>0.0</td>\n",
              "      <td>0.0</td>\n",
              "      <td>0.0</td>\n",
              "      <td>0.000000</td>\n",
              "      <td>0.000000</td>\n",
              "      <td>0.000000</td>\n",
              "      <td>0.000000</td>\n",
              "      <td>0.000000</td>\n",
              "      <td>0.000000</td>\n",
              "      <td>...</td>\n",
              "      <td>0.098039</td>\n",
              "      <td>0.000000</td>\n",
              "      <td>0.000000</td>\n",
              "      <td>0.000000</td>\n",
              "      <td>0.000000</td>\n",
              "      <td>0.000000</td>\n",
              "      <td>0.0</td>\n",
              "      <td>0.0</td>\n",
              "      <td>0.0</td>\n",
              "      <td>0.0</td>\n",
              "    </tr>\n",
              "    <tr>\n",
              "      <th>15</th>\n",
              "      <td>0.0</td>\n",
              "      <td>0.0</td>\n",
              "      <td>0.0</td>\n",
              "      <td>0.0</td>\n",
              "      <td>0.000000</td>\n",
              "      <td>0.000000</td>\n",
              "      <td>0.000000</td>\n",
              "      <td>0.000000</td>\n",
              "      <td>0.000000</td>\n",
              "      <td>0.000000</td>\n",
              "      <td>...</td>\n",
              "      <td>0.588235</td>\n",
              "      <td>0.105882</td>\n",
              "      <td>0.000000</td>\n",
              "      <td>0.000000</td>\n",
              "      <td>0.000000</td>\n",
              "      <td>0.000000</td>\n",
              "      <td>0.0</td>\n",
              "      <td>0.0</td>\n",
              "      <td>0.0</td>\n",
              "      <td>0.0</td>\n",
              "    </tr>\n",
              "    <tr>\n",
              "      <th>16</th>\n",
              "      <td>0.0</td>\n",
              "      <td>0.0</td>\n",
              "      <td>0.0</td>\n",
              "      <td>0.0</td>\n",
              "      <td>0.000000</td>\n",
              "      <td>0.000000</td>\n",
              "      <td>0.000000</td>\n",
              "      <td>0.000000</td>\n",
              "      <td>0.000000</td>\n",
              "      <td>0.000000</td>\n",
              "      <td>...</td>\n",
              "      <td>0.992157</td>\n",
              "      <td>0.733333</td>\n",
              "      <td>0.000000</td>\n",
              "      <td>0.000000</td>\n",
              "      <td>0.000000</td>\n",
              "      <td>0.000000</td>\n",
              "      <td>0.0</td>\n",
              "      <td>0.0</td>\n",
              "      <td>0.0</td>\n",
              "      <td>0.0</td>\n",
              "    </tr>\n",
              "    <tr>\n",
              "      <th>17</th>\n",
              "      <td>0.0</td>\n",
              "      <td>0.0</td>\n",
              "      <td>0.0</td>\n",
              "      <td>0.0</td>\n",
              "      <td>0.000000</td>\n",
              "      <td>0.000000</td>\n",
              "      <td>0.000000</td>\n",
              "      <td>0.000000</td>\n",
              "      <td>0.000000</td>\n",
              "      <td>0.000000</td>\n",
              "      <td>...</td>\n",
              "      <td>0.992157</td>\n",
              "      <td>0.976471</td>\n",
              "      <td>0.250980</td>\n",
              "      <td>0.000000</td>\n",
              "      <td>0.000000</td>\n",
              "      <td>0.000000</td>\n",
              "      <td>0.0</td>\n",
              "      <td>0.0</td>\n",
              "      <td>0.0</td>\n",
              "      <td>0.0</td>\n",
              "    </tr>\n",
              "    <tr>\n",
              "      <th>18</th>\n",
              "      <td>0.0</td>\n",
              "      <td>0.0</td>\n",
              "      <td>0.0</td>\n",
              "      <td>0.0</td>\n",
              "      <td>0.000000</td>\n",
              "      <td>0.000000</td>\n",
              "      <td>0.000000</td>\n",
              "      <td>0.000000</td>\n",
              "      <td>0.000000</td>\n",
              "      <td>0.000000</td>\n",
              "      <td>...</td>\n",
              "      <td>0.992157</td>\n",
              "      <td>0.811765</td>\n",
              "      <td>0.007843</td>\n",
              "      <td>0.000000</td>\n",
              "      <td>0.000000</td>\n",
              "      <td>0.000000</td>\n",
              "      <td>0.0</td>\n",
              "      <td>0.0</td>\n",
              "      <td>0.0</td>\n",
              "      <td>0.0</td>\n",
              "    </tr>\n",
              "    <tr>\n",
              "      <th>19</th>\n",
              "      <td>0.0</td>\n",
              "      <td>0.0</td>\n",
              "      <td>0.0</td>\n",
              "      <td>0.0</td>\n",
              "      <td>0.000000</td>\n",
              "      <td>0.000000</td>\n",
              "      <td>0.000000</td>\n",
              "      <td>0.000000</td>\n",
              "      <td>0.000000</td>\n",
              "      <td>0.000000</td>\n",
              "      <td>...</td>\n",
              "      <td>0.980392</td>\n",
              "      <td>0.713725</td>\n",
              "      <td>0.000000</td>\n",
              "      <td>0.000000</td>\n",
              "      <td>0.000000</td>\n",
              "      <td>0.000000</td>\n",
              "      <td>0.0</td>\n",
              "      <td>0.0</td>\n",
              "      <td>0.0</td>\n",
              "      <td>0.0</td>\n",
              "    </tr>\n",
              "    <tr>\n",
              "      <th>20</th>\n",
              "      <td>0.0</td>\n",
              "      <td>0.0</td>\n",
              "      <td>0.0</td>\n",
              "      <td>0.0</td>\n",
              "      <td>0.000000</td>\n",
              "      <td>0.000000</td>\n",
              "      <td>0.000000</td>\n",
              "      <td>0.000000</td>\n",
              "      <td>0.000000</td>\n",
              "      <td>0.000000</td>\n",
              "      <td>...</td>\n",
              "      <td>0.305882</td>\n",
              "      <td>0.000000</td>\n",
              "      <td>0.000000</td>\n",
              "      <td>0.000000</td>\n",
              "      <td>0.000000</td>\n",
              "      <td>0.000000</td>\n",
              "      <td>0.0</td>\n",
              "      <td>0.0</td>\n",
              "      <td>0.0</td>\n",
              "      <td>0.0</td>\n",
              "    </tr>\n",
              "    <tr>\n",
              "      <th>21</th>\n",
              "      <td>0.0</td>\n",
              "      <td>0.0</td>\n",
              "      <td>0.0</td>\n",
              "      <td>0.0</td>\n",
              "      <td>0.000000</td>\n",
              "      <td>0.000000</td>\n",
              "      <td>0.000000</td>\n",
              "      <td>0.000000</td>\n",
              "      <td>0.090196</td>\n",
              "      <td>0.258824</td>\n",
              "      <td>...</td>\n",
              "      <td>0.000000</td>\n",
              "      <td>0.000000</td>\n",
              "      <td>0.000000</td>\n",
              "      <td>0.000000</td>\n",
              "      <td>0.000000</td>\n",
              "      <td>0.000000</td>\n",
              "      <td>0.0</td>\n",
              "      <td>0.0</td>\n",
              "      <td>0.0</td>\n",
              "      <td>0.0</td>\n",
              "    </tr>\n",
              "    <tr>\n",
              "      <th>22</th>\n",
              "      <td>0.0</td>\n",
              "      <td>0.0</td>\n",
              "      <td>0.0</td>\n",
              "      <td>0.0</td>\n",
              "      <td>0.000000</td>\n",
              "      <td>0.000000</td>\n",
              "      <td>0.070588</td>\n",
              "      <td>0.670588</td>\n",
              "      <td>0.858824</td>\n",
              "      <td>0.992157</td>\n",
              "      <td>...</td>\n",
              "      <td>0.000000</td>\n",
              "      <td>0.000000</td>\n",
              "      <td>0.000000</td>\n",
              "      <td>0.000000</td>\n",
              "      <td>0.000000</td>\n",
              "      <td>0.000000</td>\n",
              "      <td>0.0</td>\n",
              "      <td>0.0</td>\n",
              "      <td>0.0</td>\n",
              "      <td>0.0</td>\n",
              "    </tr>\n",
              "    <tr>\n",
              "      <th>23</th>\n",
              "      <td>0.0</td>\n",
              "      <td>0.0</td>\n",
              "      <td>0.0</td>\n",
              "      <td>0.0</td>\n",
              "      <td>0.215686</td>\n",
              "      <td>0.674510</td>\n",
              "      <td>0.886275</td>\n",
              "      <td>0.992157</td>\n",
              "      <td>0.992157</td>\n",
              "      <td>0.992157</td>\n",
              "      <td>...</td>\n",
              "      <td>0.000000</td>\n",
              "      <td>0.000000</td>\n",
              "      <td>0.000000</td>\n",
              "      <td>0.000000</td>\n",
              "      <td>0.000000</td>\n",
              "      <td>0.000000</td>\n",
              "      <td>0.0</td>\n",
              "      <td>0.0</td>\n",
              "      <td>0.0</td>\n",
              "      <td>0.0</td>\n",
              "    </tr>\n",
              "    <tr>\n",
              "      <th>24</th>\n",
              "      <td>0.0</td>\n",
              "      <td>0.0</td>\n",
              "      <td>0.0</td>\n",
              "      <td>0.0</td>\n",
              "      <td>0.533333</td>\n",
              "      <td>0.992157</td>\n",
              "      <td>0.992157</td>\n",
              "      <td>0.992157</td>\n",
              "      <td>0.831373</td>\n",
              "      <td>0.529412</td>\n",
              "      <td>...</td>\n",
              "      <td>0.000000</td>\n",
              "      <td>0.000000</td>\n",
              "      <td>0.000000</td>\n",
              "      <td>0.000000</td>\n",
              "      <td>0.000000</td>\n",
              "      <td>0.000000</td>\n",
              "      <td>0.0</td>\n",
              "      <td>0.0</td>\n",
              "      <td>0.0</td>\n",
              "      <td>0.0</td>\n",
              "    </tr>\n",
              "    <tr>\n",
              "      <th>25</th>\n",
              "      <td>0.0</td>\n",
              "      <td>0.0</td>\n",
              "      <td>0.0</td>\n",
              "      <td>0.0</td>\n",
              "      <td>0.000000</td>\n",
              "      <td>0.000000</td>\n",
              "      <td>0.000000</td>\n",
              "      <td>0.000000</td>\n",
              "      <td>0.000000</td>\n",
              "      <td>0.000000</td>\n",
              "      <td>...</td>\n",
              "      <td>0.000000</td>\n",
              "      <td>0.000000</td>\n",
              "      <td>0.000000</td>\n",
              "      <td>0.000000</td>\n",
              "      <td>0.000000</td>\n",
              "      <td>0.000000</td>\n",
              "      <td>0.0</td>\n",
              "      <td>0.0</td>\n",
              "      <td>0.0</td>\n",
              "      <td>0.0</td>\n",
              "    </tr>\n",
              "    <tr>\n",
              "      <th>26</th>\n",
              "      <td>0.0</td>\n",
              "      <td>0.0</td>\n",
              "      <td>0.0</td>\n",
              "      <td>0.0</td>\n",
              "      <td>0.000000</td>\n",
              "      <td>0.000000</td>\n",
              "      <td>0.000000</td>\n",
              "      <td>0.000000</td>\n",
              "      <td>0.000000</td>\n",
              "      <td>0.000000</td>\n",
              "      <td>...</td>\n",
              "      <td>0.000000</td>\n",
              "      <td>0.000000</td>\n",
              "      <td>0.000000</td>\n",
              "      <td>0.000000</td>\n",
              "      <td>0.000000</td>\n",
              "      <td>0.000000</td>\n",
              "      <td>0.0</td>\n",
              "      <td>0.0</td>\n",
              "      <td>0.0</td>\n",
              "      <td>0.0</td>\n",
              "    </tr>\n",
              "    <tr>\n",
              "      <th>27</th>\n",
              "      <td>0.0</td>\n",
              "      <td>0.0</td>\n",
              "      <td>0.0</td>\n",
              "      <td>0.0</td>\n",
              "      <td>0.000000</td>\n",
              "      <td>0.000000</td>\n",
              "      <td>0.000000</td>\n",
              "      <td>0.000000</td>\n",
              "      <td>0.000000</td>\n",
              "      <td>0.000000</td>\n",
              "      <td>...</td>\n",
              "      <td>0.000000</td>\n",
              "      <td>0.000000</td>\n",
              "      <td>0.000000</td>\n",
              "      <td>0.000000</td>\n",
              "      <td>0.000000</td>\n",
              "      <td>0.000000</td>\n",
              "      <td>0.0</td>\n",
              "      <td>0.0</td>\n",
              "      <td>0.0</td>\n",
              "      <td>0.0</td>\n",
              "    </tr>\n",
              "  </tbody>\n",
              "</table>\n",
              "<p>28 rows × 28 columns</p>\n",
              "</div>"
            ],
            "text/plain": [
              "     0    1    2    3         4         5         6         7         8   \\\n",
              "0   0.0  0.0  0.0  0.0  0.000000  0.000000  0.000000  0.000000  0.000000   \n",
              "1   0.0  0.0  0.0  0.0  0.000000  0.000000  0.000000  0.000000  0.000000   \n",
              "2   0.0  0.0  0.0  0.0  0.000000  0.000000  0.000000  0.000000  0.000000   \n",
              "3   0.0  0.0  0.0  0.0  0.000000  0.000000  0.000000  0.000000  0.000000   \n",
              "4   0.0  0.0  0.0  0.0  0.000000  0.000000  0.000000  0.000000  0.000000   \n",
              "5   0.0  0.0  0.0  0.0  0.000000  0.000000  0.000000  0.000000  0.000000   \n",
              "6   0.0  0.0  0.0  0.0  0.000000  0.000000  0.000000  0.000000  0.117647   \n",
              "7   0.0  0.0  0.0  0.0  0.000000  0.000000  0.000000  0.192157  0.933333   \n",
              "8   0.0  0.0  0.0  0.0  0.000000  0.000000  0.000000  0.070588  0.858824   \n",
              "9   0.0  0.0  0.0  0.0  0.000000  0.000000  0.000000  0.000000  0.313725   \n",
              "10  0.0  0.0  0.0  0.0  0.000000  0.000000  0.000000  0.000000  0.000000   \n",
              "11  0.0  0.0  0.0  0.0  0.000000  0.000000  0.000000  0.000000  0.000000   \n",
              "12  0.0  0.0  0.0  0.0  0.000000  0.000000  0.000000  0.000000  0.000000   \n",
              "13  0.0  0.0  0.0  0.0  0.000000  0.000000  0.000000  0.000000  0.000000   \n",
              "14  0.0  0.0  0.0  0.0  0.000000  0.000000  0.000000  0.000000  0.000000   \n",
              "15  0.0  0.0  0.0  0.0  0.000000  0.000000  0.000000  0.000000  0.000000   \n",
              "16  0.0  0.0  0.0  0.0  0.000000  0.000000  0.000000  0.000000  0.000000   \n",
              "17  0.0  0.0  0.0  0.0  0.000000  0.000000  0.000000  0.000000  0.000000   \n",
              "18  0.0  0.0  0.0  0.0  0.000000  0.000000  0.000000  0.000000  0.000000   \n",
              "19  0.0  0.0  0.0  0.0  0.000000  0.000000  0.000000  0.000000  0.000000   \n",
              "20  0.0  0.0  0.0  0.0  0.000000  0.000000  0.000000  0.000000  0.000000   \n",
              "21  0.0  0.0  0.0  0.0  0.000000  0.000000  0.000000  0.000000  0.090196   \n",
              "22  0.0  0.0  0.0  0.0  0.000000  0.000000  0.070588  0.670588  0.858824   \n",
              "23  0.0  0.0  0.0  0.0  0.215686  0.674510  0.886275  0.992157  0.992157   \n",
              "24  0.0  0.0  0.0  0.0  0.533333  0.992157  0.992157  0.992157  0.831373   \n",
              "25  0.0  0.0  0.0  0.0  0.000000  0.000000  0.000000  0.000000  0.000000   \n",
              "26  0.0  0.0  0.0  0.0  0.000000  0.000000  0.000000  0.000000  0.000000   \n",
              "27  0.0  0.0  0.0  0.0  0.000000  0.000000  0.000000  0.000000  0.000000   \n",
              "\n",
              "          9   ...        18        19        20        21        22        23  \\\n",
              "0   0.000000  ...  0.000000  0.000000  0.000000  0.000000  0.000000  0.000000   \n",
              "1   0.000000  ...  0.000000  0.000000  0.000000  0.000000  0.000000  0.000000   \n",
              "2   0.000000  ...  0.000000  0.000000  0.000000  0.000000  0.000000  0.000000   \n",
              "3   0.000000  ...  0.000000  0.000000  0.000000  0.000000  0.000000  0.000000   \n",
              "4   0.000000  ...  0.000000  0.000000  0.000000  0.000000  0.000000  0.000000   \n",
              "5   0.000000  ...  0.686275  0.101961  0.650980  1.000000  0.968627  0.498039   \n",
              "6   0.141176  ...  0.882353  0.674510  0.992157  0.949020  0.764706  0.250980   \n",
              "7   0.992157  ...  0.364706  0.321569  0.321569  0.219608  0.152941  0.000000   \n",
              "8   0.992157  ...  0.000000  0.000000  0.000000  0.000000  0.000000  0.000000   \n",
              "9   0.611765  ...  0.000000  0.000000  0.000000  0.000000  0.000000  0.000000   \n",
              "10  0.054902  ...  0.000000  0.000000  0.000000  0.000000  0.000000  0.000000   \n",
              "11  0.000000  ...  0.000000  0.000000  0.000000  0.000000  0.000000  0.000000   \n",
              "12  0.000000  ...  0.000000  0.000000  0.000000  0.000000  0.000000  0.000000   \n",
              "13  0.000000  ...  0.000000  0.000000  0.000000  0.000000  0.000000  0.000000   \n",
              "14  0.000000  ...  0.098039  0.000000  0.000000  0.000000  0.000000  0.000000   \n",
              "15  0.000000  ...  0.588235  0.105882  0.000000  0.000000  0.000000  0.000000   \n",
              "16  0.000000  ...  0.992157  0.733333  0.000000  0.000000  0.000000  0.000000   \n",
              "17  0.000000  ...  0.992157  0.976471  0.250980  0.000000  0.000000  0.000000   \n",
              "18  0.000000  ...  0.992157  0.811765  0.007843  0.000000  0.000000  0.000000   \n",
              "19  0.000000  ...  0.980392  0.713725  0.000000  0.000000  0.000000  0.000000   \n",
              "20  0.000000  ...  0.305882  0.000000  0.000000  0.000000  0.000000  0.000000   \n",
              "21  0.258824  ...  0.000000  0.000000  0.000000  0.000000  0.000000  0.000000   \n",
              "22  0.992157  ...  0.000000  0.000000  0.000000  0.000000  0.000000  0.000000   \n",
              "23  0.992157  ...  0.000000  0.000000  0.000000  0.000000  0.000000  0.000000   \n",
              "24  0.529412  ...  0.000000  0.000000  0.000000  0.000000  0.000000  0.000000   \n",
              "25  0.000000  ...  0.000000  0.000000  0.000000  0.000000  0.000000  0.000000   \n",
              "26  0.000000  ...  0.000000  0.000000  0.000000  0.000000  0.000000  0.000000   \n",
              "27  0.000000  ...  0.000000  0.000000  0.000000  0.000000  0.000000  0.000000   \n",
              "\n",
              "     24   25   26   27  \n",
              "0   0.0  0.0  0.0  0.0  \n",
              "1   0.0  0.0  0.0  0.0  \n",
              "2   0.0  0.0  0.0  0.0  \n",
              "3   0.0  0.0  0.0  0.0  \n",
              "4   0.0  0.0  0.0  0.0  \n",
              "5   0.0  0.0  0.0  0.0  \n",
              "6   0.0  0.0  0.0  0.0  \n",
              "7   0.0  0.0  0.0  0.0  \n",
              "8   0.0  0.0  0.0  0.0  \n",
              "9   0.0  0.0  0.0  0.0  \n",
              "10  0.0  0.0  0.0  0.0  \n",
              "11  0.0  0.0  0.0  0.0  \n",
              "12  0.0  0.0  0.0  0.0  \n",
              "13  0.0  0.0  0.0  0.0  \n",
              "14  0.0  0.0  0.0  0.0  \n",
              "15  0.0  0.0  0.0  0.0  \n",
              "16  0.0  0.0  0.0  0.0  \n",
              "17  0.0  0.0  0.0  0.0  \n",
              "18  0.0  0.0  0.0  0.0  \n",
              "19  0.0  0.0  0.0  0.0  \n",
              "20  0.0  0.0  0.0  0.0  \n",
              "21  0.0  0.0  0.0  0.0  \n",
              "22  0.0  0.0  0.0  0.0  \n",
              "23  0.0  0.0  0.0  0.0  \n",
              "24  0.0  0.0  0.0  0.0  \n",
              "25  0.0  0.0  0.0  0.0  \n",
              "26  0.0  0.0  0.0  0.0  \n",
              "27  0.0  0.0  0.0  0.0  \n",
              "\n",
              "[28 rows x 28 columns]"
            ]
          },
          "execution_count": 20,
          "metadata": {},
          "output_type": "execute_result"
        }
      ],
      "source": [
        "import pandas as pd\n",
        "pd.DataFrame(X[0])"
      ]
    },
    {
      "cell_type": "markdown",
      "metadata": {
        "id": "-5vdaMw44O-g"
      },
      "source": [
        "Visualize a few images"
      ]
    },
    {
      "cell_type": "code",
      "execution_count": 26,
      "metadata": {
        "colab": {
          "base_uri": "https://localhost:8080/",
          "height": 141
        },
        "id": "TiRgemcsUVCw",
        "outputId": "2a047395-bcfa-4f42-fc76-a13e1add3a49"
      },
      "outputs": [
        {
          "data": {
            "image/png": "[encoded data removed]",
            "text/plain": [
              "<Figure size 1440x216 with 10 Axes>"
            ]
          },
          "metadata": {},
          "output_type": "display_data"
        }
      ],
      "source": [
        "_, axes = plt.subplots(nrows=1, ncols=10, figsize=(20, 3))\n",
        "for ax, image, label in zip(axes, X, y):\n",
        "    ax.set_axis_off()\n",
        "    ax.imshow(image, cmap=plt.cm.gray_r)\n",
        "    ax.set_title(\"Target: %i\" % label)"
      ]
    },
    {
      "cell_type": "markdown",
      "metadata": {
        "id": "HP9Vx91g4Rj_"
      },
      "source": [
        "Split the dataset into train, validation and test sets {The train and val size are kept very small for fast training}"
      ]
    },
    {
      "cell_type": "code",
      "execution_count": 30,
      "metadata": {
        "colab": {
          "base_uri": "https://localhost:8080/"
        },
        "id": "ifvOJhiHlc_a",
        "outputId": "847216cf-6643-4250-8154-ff0acc4530ba"
      },
      "outputs": [
        {
          "name": "stdout",
          "output_type": "stream",
          "text": [
            "# Train samples: 3500\n",
            "# Val samples: 3500\n",
            "# Test samples: 63000\n"
          ]
        }
      ],
      "source": [
        "from sklearn.model_selection import train_test_split\n",
        "n_samples = len(y)\n",
        "data = X.reshape((n_samples, -1))\n",
        "\n",
        "X_train, X_test, y_train, y_test = train_test_split(\n",
        "    data, y, test_size=0.9, shuffle=False\n",
        ")\n",
        "X_train, X_val, y_train, y_val = train_test_split(\n",
        "    X_train, y_train, test_size=0.5, shuffle=False\n",
        ")\n",
        "\n",
        "print(\"# Train samples:\", len(y_train))\n",
        "print(\"# Val samples:\", len(y_val))\n",
        "print(\"# Test samples:\", len(y_test))"
      ]
    },
    {
      "cell_type": "markdown",
      "metadata": {
        "id": "TayHayHY4i7B"
      },
      "source": [
        "Analyse the data distribution"
      ]
    },
    {
      "cell_type": "code",
      "execution_count": 31,
      "metadata": {
        "colab": {
          "base_uri": "https://localhost:8080/",
          "height": 241
        },
        "id": "-vlUP6-vkZQ7",
        "outputId": "7010362a-9526-4cd8-ce3e-8569644f4ed1"
      },
      "outputs": [
        {
          "data": {
            "image/png": "[encoded data removed]",
            "text/plain": [
              "<Figure size 1440x216 with 3 Axes>"
            ]
          },
          "metadata": {},
          "output_type": "display_data"
        }
      ],
      "source": [
        "_, axes = plt.subplots(nrows=1, ncols=3, figsize=(20, 3))\n",
        "\n",
        "axes[0].hist(y_train)\n",
        "axes[0].set_xticks([0, 1, 2, 3, 4, 5, 6, 7, 8, 9])\n",
        "axes[0].set_title(\"Class-Wise Data Distribution [Train]\")\n",
        "axes[0].set_xlabel(\"Target Labels\")\n",
        "axes[0].set_ylabel(\"Count\")\n",
        "\n",
        "axes[1].hist(y_val)\n",
        "axes[1].set_xticks([0, 1, 2, 3, 4, 5, 6, 7, 8, 9])\n",
        "axes[1].set_title(\"Class-Wise Data Distribution [Val]\")\n",
        "axes[1].set_xlabel(\"Target Labels\")\n",
        "axes[1].set_ylabel(\"Count\")\n",
        "\n",
        "axes[2].hist(y_test)\n",
        "axes[2].set_xticks([0, 1, 2, 3, 4, 5, 6, 7, 8, 9])\n",
        "axes[2].set_title(\"Class-Wise Data Distribution [Test\")\n",
        "axes[2].set_xlabel(\"Target Labels\")\n",
        "axes[2].set_ylabel(\"Count\")\n",
        "plt.show()"
      ]
    },
    {
      "cell_type": "markdown",
      "metadata": {
        "id": "H9_nrrzw5BFz"
      },
      "source": [
        "## Let's train a Logistic Regression model (using sklearn)"
      ]
    },
    {
      "cell_type": "markdown",
      "metadata": {
        "id": "GQt0Zvc66f09"
      },
      "source": [
        "No regularization"
      ]
    },
    {
      "cell_type": "code",
      "execution_count": 32,
      "metadata": {
        "colab": {
          "base_uri": "https://localhost:8080/"
        },
        "id": "ufE0xhjGuljc",
        "outputId": "6375ebc5-c89b-4748-f425-171ba932952a"
      },
      "outputs": [
        {
          "name": "stdout",
          "output_type": "stream",
          "text": [
            "No regularization\n",
            "Train Score: 0.9965714285714286\n",
            "Val Score: 0.8945714285714286\n"
          ]
        },
        {
          "name": "stderr",
          "output_type": "stream",
          "text": [
            "c:\\Users\\khush\\AppData\\Local\\Programs\\Python\\Python310\\lib\\site-packages\\sklearn\\linear_model\\_sag.py:350: ConvergenceWarning: The max_iter was reached which means the coef_ did not converge\n",
            "  warnings.warn(\n"
          ]
        }
      ],
      "source": [
        "from sklearn.linear_model import LogisticRegression\n",
        "classifier_no_reg = LogisticRegression(penalty='none', solver='saga', n_jobs=-1).fit(X_train, y_train)\n",
        "\n",
        "print(\"No regularization\")\n",
        "print(f\"Train Score: {classifier_no_reg.score(X_train, y_train)}\")\n",
        "print(f\"Val Score: {classifier_no_reg.score(X_val, y_val)}\")"
      ]
    },
    {
      "cell_type": "markdown",
      "metadata": {
        "id": "MkRzmJe36iG7"
      },
      "source": [
        "L1 regularization"
      ]
    },
    {
      "cell_type": "code",
      "execution_count": 33,
      "metadata": {
        "colab": {
          "base_uri": "https://localhost:8080/"
        },
        "id": "u2HmgNxnvU-d",
        "outputId": "112b7fca-8f93-4d93-c2ac-ff04264cff8a"
      },
      "outputs": [
        {
          "name": "stdout",
          "output_type": "stream",
          "text": [
            "L1 Regularization\n",
            "Train Score: 0.9688571428571429\n",
            "Val Score: 0.9017142857142857\n"
          ]
        },
        {
          "name": "stderr",
          "output_type": "stream",
          "text": [
            "c:\\Users\\khush\\AppData\\Local\\Programs\\Python\\Python310\\lib\\site-packages\\sklearn\\linear_model\\_sag.py:350: ConvergenceWarning: The max_iter was reached which means the coef_ did not converge\n",
            "  warnings.warn(\n"
          ]
        }
      ],
      "source": [
        "classifier_l1 = LogisticRegression(penalty='l1', solver='saga', n_jobs=-1).fit(X_train, y_train)\n",
        "\n",
        "print(\"L1 Regularization\")\n",
        "print(f\"Train Score: {classifier_l1.score(X_train, y_train)}\")\n",
        "print(f\"Val Score: {classifier_l1.score(X_val, y_val)}\")"
      ]
    },
    {
      "cell_type": "markdown",
      "metadata": {
        "id": "ubdsSwa76k7U"
      },
      "source": [
        "L2 regularization"
      ]
    },
    {
      "cell_type": "code",
      "execution_count": 34,
      "metadata": {
        "colab": {
          "base_uri": "https://localhost:8080/"
        },
        "id": "H5GNbJYvvfJ4",
        "outputId": "b6b2105f-a23c-4513-f5e7-723e3fdd65ed"
      },
      "outputs": [
        {
          "name": "stdout",
          "output_type": "stream",
          "text": [
            "L2 Regularization\n",
            "Train Score: 0.99\n",
            "Val Score: 0.9028571428571428\n"
          ]
        },
        {
          "name": "stderr",
          "output_type": "stream",
          "text": [
            "c:\\Users\\khush\\AppData\\Local\\Programs\\Python\\Python310\\lib\\site-packages\\sklearn\\linear_model\\_sag.py:350: ConvergenceWarning: The max_iter was reached which means the coef_ did not converge\n",
            "  warnings.warn(\n"
          ]
        }
      ],
      "source": [
        "classifier_l2 = LogisticRegression(penalty='l2', solver='saga', n_jobs=-1).fit(X_train, y_train)\n",
        "\n",
        "print(\"L2 Regularization\")\n",
        "print(f\"Train Score: {classifier_l2.score(X_train, y_train)}\")\n",
        "print(f\"Val Score: {classifier_l2.score(X_val, y_val)}\")"
      ]
    },
    {
      "cell_type": "markdown",
      "metadata": {
        "id": "Fpa_Teoa6muQ"
      },
      "source": [
        "Both L1 & L2 regularization"
      ]
    },
    {
      "cell_type": "code",
      "execution_count": null,
      "metadata": {
        "colab": {
          "base_uri": "https://localhost:8080/"
        },
        "id": "hlKIuwc7lx-P",
        "outputId": "4282cf5c-6ae4-45a6-d279-2710eb1b1224"
      },
      "outputs": [
        {
          "name": "stdout",
          "output_type": "stream",
          "text": [
            "L2 Regularization\n",
            "Train Score: 0.9962857142857143\n",
            "Val Score: 0.894\n"
          ]
        },
        {
          "name": "stderr",
          "output_type": "stream",
          "text": [
            "/usr/local/lib/python3.8/dist-packages/sklearn/linear_model/_sag.py:352: ConvergenceWarning: The max_iter was reached which means the coef_ did not converge\n",
            "  warnings.warn(\n"
          ]
        }
      ],
      "source": [
        "classifier_l1_l2 = LogisticRegression(penalty='elasticnet', solver='saga', l1_ratio=0.5, n_jobs=-1).fit(X_train, y_train)\n",
        "\n",
        "print(\"L2 Regularization\")\n",
        "print(f\"Train Score: {classifier_l1_l2.score(X_train, y_train)}\")\n",
        "print(f\"Val Score: {classifier_l1_l2.score(X_val, y_val)}\")"
      ]
    },
    {
      "cell_type": "markdown",
      "metadata": {
        "id": "Vt_oyb_b5Nae"
      },
      "source": [
        "## Analyze the performance of the trained model (best) on the test set"
      ]
    },
    {
      "cell_type": "markdown",
      "metadata": {
        "id": "znG71IO86sWf"
      },
      "source": [
        "How to get predictions and compute a metric"
      ]
    },
    {
      "cell_type": "code",
      "execution_count": 35,
      "metadata": {
        "colab": {
          "base_uri": "https://localhost:8080/",
          "height": 352
        },
        "id": "kKoODDXkVfb2",
        "outputId": "cded309e-b396-492d-ed58-057b7378bf8e"
      },
      "outputs": [
        {
          "name": "stdout",
          "output_type": "stream",
          "text": [
            "Shape of y_test_proba: (63000, 10)\n",
            "Prediction probabilities for 1st test sample: [0.   0.01 0.01 0.4  0.02 0.   0.   0.   0.54 0.02]\n",
            "Prediction of 1st test sample: 8\n",
            "Test Accuracy (custom implementation): 0.8807619047619047\n",
            "Test Accuracy (using sklearn): 0.8807619047619047\n"
          ]
        },
        {
          "data": {
            "image/png": "[encoded data removed]",
            "text/plain": [
              "<Figure size 432x288 with 1 Axes>"
            ]
          },
          "metadata": {},
          "output_type": "display_data"
        }
      ],
      "source": [
        "y_test_proba = classifier_no_reg.predict_proba(X_test)\n",
        "print(\"Shape of y_test_proba:\", y_test_proba.shape)\n",
        "print(\"Prediction probabilities for 1st test sample:\", np.round(y_test_proba[0], 2))\n",
        "print(\"Prediction of 1st test sample:\", np.argmax(y_test_proba[0]))\n",
        "print(\"Test Accuracy (custom implementation):\", sum((np.argmax(y_test_proba, 1) == y_test).astype(int)) / len(y_test))\n",
        "print(\"Test Accuracy (using sklearn):\", classifier_no_reg.score(X_test, y_test))\n",
        "plt.imshow(X_test[0].reshape(28, 28), cmap=plt.cm.gray_r, interpolation=\"nearest\")\n",
        "plt.show()"
      ]
    },
    {
      "cell_type": "markdown",
      "metadata": {
        "id": "PdSEPBrQ6xog"
      },
      "source": [
        "Analyzing the classification probabilities of the misclassifications"
      ]
    },
    {
      "cell_type": "code",
      "execution_count": 46,
      "metadata": {
        "colab": {
          "base_uri": "https://localhost:8080/",
          "height": 282
        },
        "id": "qgNbwYXudb54",
        "outputId": "2c60e42c-d15f-4317-9e24-38cf193b8181"
      },
      "outputs": [
        {
          "name": "stdout",
          "output_type": "stream",
          "text": [
            "0\n",
            "[0.78265934 0.98474572 0.77164916 ... 0.973534   0.93300078 0.84454049]\n"
          ]
        },
        {
          "data": {
            "image/png": "[encoded data removed]",
            "text/plain": [
              "<Figure size 432x288 with 1 Axes>"
            ]
          },
          "metadata": {},
          "output_type": "display_data"
        }
      ],
      "source": [
        "misclassification_idx = np.where((np.argmax(y_test_proba, 1) != y_test))\n",
        "print(sum(np.argmax(y_test_proba[misclassification_idx], 1) == y_test[misclassification_idx]).astype('int'))\n",
        "probabilities = np.max(y_test_proba[misclassification_idx], 1)\n",
        "print(probabilities)\n",
        "plt.hist(probabilities)\n",
        "plt.show()"
      ]
    },
    {
      "cell_type": "markdown",
      "metadata": {
        "id": "I2dQHy0b7L9-"
      },
      "source": [
        "Visualize some non-confident predictions that were misclassified (confidence < 0.5)"
      ]
    },
    {
      "cell_type": "code",
      "execution_count": 47,
      "metadata": {
        "colab": {
          "base_uri": "https://localhost:8080/",
          "height": 158
        },
        "id": "_tlp6WBnjo3W",
        "outputId": "5e574a9c-7b30-4e2d-e3bb-aa782d8bd2ea"
      },
      "outputs": [
        {
          "data": {
            "image/png": "[encoded data removed]",
            "text/plain": [
              "<Figure size 1440x216 with 10 Axes>"
            ]
          },
          "metadata": {},
          "output_type": "display_data"
        },
        {
          "name": "stdout",
          "output_type": "stream",
          "text": [
            "# Non Confident Misclassifications: (780,)\n"
          ]
        }
      ],
      "source": [
        "non_confident_misclassifications_idx = np.where(np.max(y_test_proba[misclassification_idx], 1) < 0.5)\n",
        "_, axes = plt.subplots(nrows=1, ncols=10, figsize=(20, 3))\n",
        "images = X_test[misclassification_idx[0][non_confident_misclassifications_idx]].reshape(-1, 28, 28)\n",
        "predictions = np.argmax(y_test_proba[misclassification_idx[0][non_confident_misclassifications_idx]], 1)\n",
        "labels = y_test[misclassification_idx[0][non_confident_misclassifications_idx]]\n",
        "for ax, image, pred, label in zip(axes, images, predictions, labels):\n",
        "    ax.set_axis_off()\n",
        "    ax.imshow(image, cmap=plt.cm.gray_r, interpolation=\"nearest\")\n",
        "    ax.set_title(f\"Pred: {pred}; Label: {label}\")\n",
        "plt.show()\n",
        "print(\"# Non Confident Misclassifications:\", non_confident_misclassifications_idx[0].shape)"
      ]
    },
    {
      "cell_type": "markdown",
      "metadata": {
        "id": "NflfHrfN7bA3"
      },
      "source": [
        "Visualize some very-confident predictions that were misclassified (confidence > 0.9)"
      ]
    },
    {
      "cell_type": "code",
      "execution_count": 57,
      "metadata": {
        "colab": {
          "base_uri": "https://localhost:8080/",
          "height": 158
        },
        "id": "NSTrfLfDfkc6",
        "outputId": "9c6aefb3-184e-4dff-8b51-be7c5ac2657f"
      },
      "outputs": [
        {
          "name": "stdout",
          "output_type": "stream",
          "text": [
            "(array([   1,    3,    4, ..., 7506, 7509, 7510], dtype=int64),)\n",
            "(array([    5,     6,     9, ..., 62980, 62982, 62986], dtype=int64),)\n"
          ]
        },
        {
          "data": {
            "image/png": "[encoded data removed]",
            "text/plain": [
              "<Figure size 1440x216 with 10 Axes>"
            ]
          },
          "metadata": {},
          "output_type": "display_data"
        },
        {
          "name": "stdout",
          "output_type": "stream",
          "text": [
            "# Confident Misclassifications: (2424,)\n"
          ]
        }
      ],
      "source": [
        "confident_misclassifications_idx = np.where(np.max(y_test_proba[misclassification_idx], 1) > 0.9)\n",
        "_, axes = plt.subplots(nrows=1, ncols=10, figsize=(20, 3))\n",
        "images = X_test[misclassification_idx[0][confident_misclassifications_idx]].reshape(-1, 28, 28)\n",
        "predictions = np.argmax(y_test_proba[misclassification_idx[0][confident_misclassifications_idx]], 1)\n",
        "labels = y_test[misclassification_idx[0][confident_misclassifications_idx]]\n",
        "for ax, image, pred, label in zip(axes, images, predictions, labels):\n",
        "    ax.set_axis_off()\n",
        "    ax.imshow(image, cmap=plt.cm.gray_r, interpolation=\"nearest\")\n",
        "    ax.set_title(f\"Pred: {pred}; Label: {label}\")\n",
        "plt.show()\n",
        "print(\"# Confident Misclassifications:\", confident_misclassifications_idx[0].shape)"
      ]
    },
    {
      "cell_type": "markdown",
      "metadata": {
        "id": "zPGlJai87e2l"
      },
      "source": [
        "Compute some more metrics"
      ]
    },
    {
      "cell_type": "code",
      "execution_count": 59,
      "metadata": {
        "id": "6A1FmLjakNMc"
      },
      "outputs": [],
      "source": [
        "from sklearn.metrics import confusion_matrix\n",
        "cm = confusion_matrix(y_test, np.argmax(y_test_proba, 1))"
      ]
    },
    {
      "cell_type": "markdown",
      "metadata": {
        "id": "hUlmdN58leed"
      },
      "source": [
        "![image.png](data:image/png;base64,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)"
      ]
    },
    {
      "cell_type": "code",
      "execution_count": 60,
      "metadata": {
        "colab": {
          "base_uri": "https://localhost:8080/"
        },
        "id": "rAfwNA8PkqHC",
        "outputId": "171a1b49-04c5-499b-a40b-fb6f8e668c17"
      },
      "outputs": [
        {
          "name": "stdout",
          "output_type": "stream",
          "text": [
            "[[5869    0   87   28   12   61   65   32   39   19]\n",
            " [   3 6822   31   35    7   36   20   22  100   17]\n",
            " [  53   85 5405  136   86   55  121  125  185   64]\n",
            " [  37   37  161 5458    7  381   26   91  153   74]\n",
            " [  17   16   38   13 5553   19   62   28   54  308]\n",
            " [ 116   46   47  278  113 4612  107   65  212  107]\n",
            " [  88   22  125    3  116  129 5611   29   27   17]\n",
            " [  20   48  122   56   69   14    7 5820   19  364]\n",
            " [  56  160  108  233   91  244   87   60 4984  152]\n",
            " [  31   32   49  117  256   54    4  290   76 5354]]\n"
          ]
        }
      ],
      "source": [
        "print(cm)"
      ]
    },
    {
      "cell_type": "code",
      "execution_count": 61,
      "metadata": {
        "colab": {
          "base_uri": "https://localhost:8080/",
          "height": 592
        },
        "id": "61Nol-bxkfRt",
        "outputId": "f93f54a1-ac8d-4bd1-adea-7cbb50c42dac"
      },
      "outputs": [
        {
          "data": {
            "image/png": "[encoded data removed]",
            "text/plain": [
              "<Figure size 720x720 with 2 Axes>"
            ]
          },
          "metadata": {},
          "output_type": "display_data"
        }
      ],
      "source": [
        "import seaborn as sn\n",
        "plt.figure(figsize=(10, 10))\n",
        "sn.heatmap(cm)\n",
        "plt.show()"
      ]
    },
    {
      "cell_type": "code",
      "execution_count": 62,
      "metadata": {
        "colab": {
          "base_uri": "https://localhost:8080/",
          "height": 284
        },
        "id": "2gtlIjdvlAHg",
        "outputId": "548dd451-b955-498f-d717-bdc8d3606c27"
      },
      "outputs": [
        {
          "name": "stdout",
          "output_type": "stream",
          "text": [
            "Class-wise Accuracy\n"
          ]
        },
        {
          "data": {
            "image/png": "[encoded data removed]",
            "text/plain": [
              "<Figure size 432x288 with 1 Axes>"
            ]
          },
          "metadata": {},
          "output_type": "display_data"
        }
      ],
      "source": [
        "print(\"Class-wise Accuracy\")\n",
        "plt.bar(np.arange(10), cm.diagonal()/cm.sum(axis=1))\n",
        "plt.xticks(np.arange(10))\n",
        "plt.show()"
      ]
    },
    {
      "cell_type": "markdown",
      "metadata": {
        "id": "HyVYYP937j7X"
      },
      "source": [
        "$Precision =\\frac{TP}{TP + FP}$ \n",
        "\n",
        "$Recall = \\frac{TP}{TP + FN}$\n",
        "\n",
        "$F1-Score = 2 * \\frac{Precision \\cdot Recall}{Precision + Recall}\n",
        "         = \\frac{TP}{TP + \\frac{1}{2}(FP+FN)}$ "
      ]
    },
    {
      "cell_type": "code",
      "execution_count": 64,
      "metadata": {
        "colab": {
          "base_uri": "https://localhost:8080/",
          "height": 281
        },
        "id": "WxkIPfdhlnq1",
        "outputId": "fa5ce713-3d1e-4c85-ccaf-8b1eebf0d05f"
      },
      "outputs": [
        {
          "data": {
            "image/png": "[encoded data removed]",
            "text/plain": [
              "<Figure size 1800x288 with 3 Axes>"
            ]
          },
          "metadata": {},
          "output_type": "display_data"
        }
      ],
      "source": [
        "from sklearn.metrics import precision_recall_fscore_support as compute_metric\n",
        "metric = compute_metric(y_test, np.argmax(y_test_proba, 1))\n",
        "_, axes = plt.subplots(ncols=3, figsize=(25, 4))\n",
        "axes[0].bar(np.arange(10), metric[0])\n",
        "axes[0].set_title(\"Precision\")\n",
        "axes[1].bar(np.arange(10), metric[1])\n",
        "axes[1].set_title(\"Recall\")\n",
        "axes[2].bar(np.arange(10), metric[2])\n",
        "axes[2].set_title(\"F1-Score\")\n",
        "plt.show()"
      ]
    },
    {
      "cell_type": "markdown",
      "metadata": {
        "id": "fN0nvZyr9iig"
      },
      "source": [
        "Visualizing the features in a 2D space using PCA"
      ]
    },
    {
      "cell_type": "code",
      "execution_count": 69,
      "metadata": {
        "colab": {
          "base_uri": "https://localhost:8080/",
          "height": 483
        },
        "id": "pTJwxPiVkfTi",
        "outputId": "242db643-f29d-4710-c4b8-dccbaca9253b"
      },
      "outputs": [
        {
          "data": {
            "image/png": "[encoded data removed]",
            "text/plain": [
              "<Figure size 720x576 with 1 Axes>"
            ]
          },
          "metadata": {},
          "output_type": "display_data"
        }
      ],
      "source": [
        "from sklearn.decomposition import PCA\n",
        "X_embedded = PCA(n_components=2).fit_transform(X_train)\n",
        "\n",
        "plt.figure(figsize=(10, 8))\n",
        "for i in range(10):\n",
        "  idx = np.where(y_train == i)\n",
        "  plt.scatter(X_embedded[idx, 0], X_embedded[idx, 1], label=i)\n",
        "plt.legend()\n",
        "plt.show()"
      ]
    },
    {
      "cell_type": "markdown",
      "metadata": {
        "id": "Fl1-vGz-9mtO"
      },
      "source": [
        "Extracting features using PCA"
      ]
    },
    {
      "cell_type": "code",
      "execution_count": 74,
      "metadata": {
        "colab": {
          "base_uri": "https://localhost:8080/"
        },
        "id": "Bv5y1abLqcjr",
        "outputId": "0e45ec2b-3560-484f-a8b4-9832c621a4ac"
      },
      "outputs": [
        {
          "name": "stderr",
          "output_type": "stream",
          "text": [
            "c:\\Users\\khush\\AppData\\Local\\Programs\\Python\\Python310\\lib\\site-packages\\sklearn\\linear_model\\_sag.py:350: ConvergenceWarning: The max_iter was reached which means the coef_ did not converge\n",
            "  warnings.warn(\n"
          ]
        },
        {
          "name": "stdout",
          "output_type": "stream",
          "text": [
            "No regularization\n",
            "Train Score: 0.9334285714285714\n",
            "Val Score: 0.9025714285714286\n",
            "Test Score: 0.8821904761904762\n"
          ]
        }
      ],
      "source": [
        "transformer = PCA(n_components=50)\n",
        "X_embedded = transformer.fit_transform(X_train)\n",
        "classifier_no_reg = LogisticRegression(penalty='none', solver='saga', n_jobs=-1).fit(X_embedded, y_train)\n",
        "\n",
        "print(\"No regularization\")\n",
        "print(f\"Train Score: {classifier_no_reg.score(X_embedded, y_train)}\")\n",
        "print(f\"Val Score: {classifier_no_reg.score(transformer.transform(X_val), y_val)}\")\n",
        "print(f\"Test Score: {classifier_no_reg.score(transformer.transform(X_test), y_test)}\")"
      ]
    },
    {
      "cell_type": "markdown",
      "metadata": {
        "id": "kbuqAtJs9sly"
      },
      "source": [
        "## Toy example (Importance of choosing metric wisely?)"
      ]
    },
    {
      "cell_type": "markdown",
      "metadata": {
        "id": "V9QXiCgl-Grx"
      },
      "source": [
        "Dataset for binary classification.\n",
        "\n",
        "The dataset is highly imbalanced. It contains 9,000 samples of category 1 and only 1,000 samples of category 0."
      ]
    },
    {
      "cell_type": "code",
      "execution_count": 80,
      "metadata": {
        "id": "s0WGIINEy37a"
      },
      "outputs": [
        {
          "data": {
            "text/plain": [
              "array([1., 1., 1., ..., 1., 0., 0.])"
            ]
          },
          "execution_count": 80,
          "metadata": {},
          "output_type": "execute_result"
        }
      ],
      "source": [
        "dataset = np.ones(9000)\n",
        "dataset = np.hstack([dataset, np.zeros(1000)])\n",
        "dataset[:9002]"
      ]
    },
    {
      "cell_type": "code",
      "execution_count": 81,
      "metadata": {
        "colab": {
          "base_uri": "https://localhost:8080/",
          "height": 295
        },
        "id": "ZYMKPnVVy39b",
        "outputId": "dce7e9e8-db0c-4459-cc33-eceaa477547e"
      },
      "outputs": [
        {
          "data": {
            "image/png": "[encoded data removed]",
            "text/plain": [
              "<Figure size 432x288 with 1 Axes>"
            ]
          },
          "metadata": {},
          "output_type": "display_data"
        }
      ],
      "source": [
        "plt.hist(dataset)\n",
        "plt.xticks([0, 1])\n",
        "plt.title(\"Class-Wise Data Distribution [Train]\")\n",
        "plt.xlabel(\"Target Labels\")\n",
        "plt.ylabel(\"Count\")\n",
        "plt.show()"
      ]
    },
    {
      "cell_type": "markdown",
      "metadata": {
        "id": "f6tJDs_r92IH"
      },
      "source": [
        "Metric without averaging (i.e., average=None) [Predicting everything as '0']"
      ]
    },
    {
      "cell_type": "code",
      "execution_count": 85,
      "metadata": {
        "colab": {
          "base_uri": "https://localhost:8080/",
          "height": 336
        },
        "id": "doPodiCZmsVB",
        "outputId": "0cf712d4-1726-44d4-8ae8-4500c65fa6e1"
      },
      "outputs": [
        {
          "name": "stderr",
          "output_type": "stream",
          "text": [
            "c:\\Users\\khush\\AppData\\Local\\Programs\\Python\\Python310\\lib\\site-packages\\sklearn\\metrics\\_classification.py:1334: UndefinedMetricWarning: Precision and F-score are ill-defined and being set to 0.0 in labels with no predicted samples. Use `zero_division` parameter to control this behavior.\n",
            "  _warn_prf(average, modifier, msg_start, len(result))\n"
          ]
        },
        {
          "data": {
            "image/png": "[encoded data removed]",
            "text/plain": [
              "<Figure size 1800x288 with 3 Axes>"
            ]
          },
          "metadata": {},
          "output_type": "display_data"
        }
      ],
      "source": [
        "metric = compute_metric(dataset, np.zeros(10000))\n",
        "_, axes = plt.subplots(ncols=3, figsize=(25, 4))\n",
        "axes[0].bar(np.arange(2), metric[0])\n",
        "axes[0].set_title(\"Precision\")\n",
        "axes[0].set_xticks([0, 1])\n",
        "axes[1].bar(np.arange(2), metric[1])\n",
        "axes[1].set_title(\"Recall\")\n",
        "axes[1].set_xticks([0, 1])\n",
        "axes[2].bar(np.arange(2), metric[2])\n",
        "axes[2].set_title(\"F1-Score\")\n",
        "axes[2].set_xticks([0, 1])\n",
        "plt.show()"
      ]
    },
    {
      "cell_type": "markdown",
      "metadata": {
        "id": "V-Z4d9jc98ly"
      },
      "source": [
        "Metric without averaging (i.e., average=None) [Predicting everything as '1']"
      ]
    },
    {
      "cell_type": "code",
      "execution_count": 86,
      "metadata": {
        "colab": {
          "base_uri": "https://localhost:8080/",
          "height": 336
        },
        "id": "Il4kG0FDmsW9",
        "outputId": "1b5f29fd-18ab-4d75-c201-7b924c348b90"
      },
      "outputs": [
        {
          "name": "stderr",
          "output_type": "stream",
          "text": [
            "c:\\Users\\khush\\AppData\\Local\\Programs\\Python\\Python310\\lib\\site-packages\\sklearn\\metrics\\_classification.py:1334: UndefinedMetricWarning: Precision and F-score are ill-defined and being set to 0.0 in labels with no predicted samples. Use `zero_division` parameter to control this behavior.\n",
            "  _warn_prf(average, modifier, msg_start, len(result))\n"
          ]
        },
        {
          "data": {
            "image/png": "[encoded data removed]",
            "text/plain": [
              "<Figure size 1800x288 with 3 Axes>"
            ]
          },
          "metadata": {},
          "output_type": "display_data"
        }
      ],
      "source": [
        "metric = compute_metric(dataset, np.ones(10000))\n",
        "_, axes = plt.subplots(ncols=3, figsize=(25, 4))\n",
        "axes[0].bar(np.arange(2), metric[0])\n",
        "axes[0].set_title(\"Precision\")\n",
        "axes[0].set_xticks([0,1])\n",
        "axes[1].bar(np.arange(2), metric[1])\n",
        "axes[1].set_title(\"Recall\")\n",
        "axes[1].set_xticks([0,1])\n",
        "axes[2].bar(np.arange(2), metric[2])\n",
        "axes[2].set_title(\"F1-Score\")\n",
        "axes[2].set_xticks([0,1])\n",
        "plt.show()"
      ]
    },
    {
      "cell_type": "markdown",
      "metadata": {
        "id": "bi5JQJzh-jc-"
      },
      "source": [
        "Macro Averaging:"
      ]
    },
    {
      "cell_type": "code",
      "execution_count": 87,
      "metadata": {
        "colab": {
          "base_uri": "https://localhost:8080/"
        },
        "id": "tLfiClzd0AXi",
        "outputId": "b2cb83d5-e3f7-4556-90f0-a54a71fb6e3b"
      },
      "outputs": [
        {
          "name": "stdout",
          "output_type": "stream",
          "text": [
            "Precision: 0.45\n",
            "Recall: 0.5\n",
            "F1-Score: 0.4736842105263158\n"
          ]
        },
        {
          "name": "stderr",
          "output_type": "stream",
          "text": [
            "c:\\Users\\khush\\AppData\\Local\\Programs\\Python\\Python310\\lib\\site-packages\\sklearn\\metrics\\_classification.py:1334: UndefinedMetricWarning: Precision and F-score are ill-defined and being set to 0.0 in labels with no predicted samples. Use `zero_division` parameter to control this behavior.\n",
            "  _warn_prf(average, modifier, msg_start, len(result))\n"
          ]
        }
      ],
      "source": [
        "metric = compute_metric(dataset, np.ones(10000), average=\"macro\")\n",
        "print(\"Precision:\", metric[0])\n",
        "print(\"Recall:\", metric[1])\n",
        "print(\"F1-Score:\", metric[2])"
      ]
    },
    {
      "attachments": {},
      "cell_type": "markdown",
      "metadata": {},
      "source": [
        "Micro Averaging:"
      ]
    },
    {
      "cell_type": "code",
      "execution_count": 88,
      "metadata": {
        "colab": {
          "base_uri": "https://localhost:8080/"
        },
        "id": "WTXceavc0D-k",
        "outputId": "1a544f93-1ae2-43ae-efc5-e86eebcf7ec4"
      },
      "outputs": [
        {
          "name": "stdout",
          "output_type": "stream",
          "text": [
            "Precision: 0.9\n",
            "Recall: 0.9\n",
            "F1-Score: 0.9\n"
          ]
        }
      ],
      "source": [
        "metric = compute_metric(dataset, np.ones(10000), average=\"micro\")\n",
        "print(\"Precision:\", metric[0])\n",
        "print(\"Recall:\", metric[1])\n",
        "print(\"F1-Score:\", metric[2])"
      ]
    },
    {
      "cell_type": "code",
      "execution_count": null,
      "metadata": {
        "id": "l0jNQVJG6Oyh"
      },
      "outputs": [],
      "source": []
    }
  ],
  "metadata": {
    "colab": {
      "provenance": []
    },
    "kernelspec": {
      "display_name": "Python 3",
      "language": "python",
      "name": "python3"
    },
    "language_info": {
      "codemirror_mode": {
        "name": "ipython",
        "version": 3
      },
      "file_extension": ".py",
      "mimetype": "text/x-python",
      "name": "python",
      "nbconvert_exporter": "python",
      "pygments_lexer": "ipython3",
      "version": "3.10.1"
    },
    "vscode": {
      "interpreter": {
        "hash": "4f91e35da70fd7a53ceee9ab287ed040d81eb2ccfac088551011048c25bbd6e1"
      }
    }
  },
  "nbformat": 4,
  "nbformat_minor": 0
}
