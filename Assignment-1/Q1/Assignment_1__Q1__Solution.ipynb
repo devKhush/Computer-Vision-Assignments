{
  "cells": [
    {
      "cell_type": "markdown",
      "metadata": {
        "id": "Hj7en02tkHRH"
      },
      "source": [
        "# **Khushdev Pandit**\n",
        "# **Roll no: 2020211** \n",
        "# *Assignment Question-1*"
      ]
    },
    {
      "cell_type": "code",
      "execution_count": null,
      "metadata": {
        "id": "QKVI10UqkHRM"
      },
      "outputs": [],
      "source": [
        "import os\n",
        "from PIL import Image\n",
        "import torch\n",
        "import torch.nn as nn\n",
        "import torchvision\n",
        "import torchvision.transforms as transforms\n",
        "import torchvision.datasets as datasets\n",
        "import torchvision.models as models\n",
        "from torch.utils.data import DataLoader\n",
        "from torch.utils.data import Dataset\n",
        "from torch.utils.data import TensorDataset\n",
        "import torch.optim as optim\n",
        "import matplotlib.pyplot as plt\n",
        "import matplotlib as mpl\n",
        "mpl.rcParams['figure.facecolor'] = 'white'\n",
        "import torch.nn.functional as F\n",
        "import cv2\n",
        "import numpy as np\n",
        "from torch.utils.data.sampler import SubsetRandomSampler\n",
        "import pickle\n",
        "from sklearn import manifold\n",
        "import pandas as pd\n",
        "import seaborn as sns\n",
        "from sklearn.metrics import classification_report\n",
        "import warnings\n",
        "warnings.filterwarnings(\"ignore\")"
      ]
    },
    {
      "cell_type": "markdown",
      "metadata": {
        "id": "jTjs3qlqkHRN"
      },
      "source": [
        "# **Q1 Part-1**"
      ]
    },
    {
      "cell_type": "markdown",
      "metadata": {
        "id": "N8V-F4o0kHRO"
      },
      "source": [
        "## **1(a)** *Download train 32x32.mat. Use 20% of the training dataset for validation and 10% for testing Initialize Weights & Biases*"
      ]
    },
    {
      "cell_type": "code",
      "execution_count": null,
      "metadata": {
        "colab": {
          "base_uri": "https://localhost:8080/"
        },
        "id": "sdzA-Am2kb1f",
        "outputId": "d6bdf6b3-9a66-4047-aad4-888feaba60d0"
      },
      "outputs": [
        {
          "output_type": "stream",
          "name": "stdout",
          "text": [
            "Mounted at /content/drive\n"
          ]
        }
      ],
      "source": [
        "from google.colab import drive\n",
        "drive.mount(\"/content/drive\")"
      ]
    },
    {
      "cell_type": "code",
      "execution_count": null,
      "metadata": {
        "colab": {
          "base_uri": "https://localhost:8080/"
        },
        "id": "Yrm7AZoskHRP",
        "outputId": "90dab945-261d-4677-edc6-8b7ff3d82909"
      },
      "outputs": [
        {
          "output_type": "stream",
          "name": "stdout",
          "text": [
            "Keys: dict_keys(['__header__', '__version__', '__globals__', 'X', 'y'])\n",
            "__header__ :  b'MATLAB 5.0 MAT-file, Platform: GLNXA64, Created on: Mon Dec  5 21:09:26 2011'\n",
            "__version__ :  1.0\n",
            "__globals__ :  []\n",
            "Num of images: (73257, 73257)\n"
          ]
        }
      ],
      "source": [
        "import scipy.io\n",
        "path_data = \"/content/drive/MyDrive/ECE344: CV (Computer Vision)/Assignments/Assignment-1/Q1/train_32x32.mat\"\n",
        "mat = scipy.io.loadmat(path_data)\n",
        "\n",
        "print('Keys:', mat.keys())\n",
        "for key in mat.keys():\n",
        "    if key != 'X' and key != 'y':\n",
        "        print(key,': ', mat[key])\n",
        "\n",
        "lenx = len(mat['X'][0][0][0])\n",
        "leny = len(mat['y'])\n",
        "print('Num of images:',(lenx, leny))"
      ]
    },
    {
      "cell_type": "code",
      "execution_count": null,
      "metadata": {
        "colab": {
          "base_uri": "https://localhost:8080/"
        },
        "id": "G-Bbett2kHRQ",
        "outputId": "8c9d8e8c-6861-4f31-bd65-33025273846f"
      },
      "outputs": [
        {
          "output_type": "stream",
          "name": "stdout",
          "text": [
            "(32, 32, 3)\n",
            "[1]\n"
          ]
        }
      ],
      "source": [
        "print(mat['X'][:,:,:,0].shape)\n",
        "print(mat['y'][0])"
      ]
    },
    {
      "cell_type": "code",
      "execution_count": null,
      "metadata": {
        "colab": {
          "base_uri": "https://localhost:8080/",
          "height": 303
        },
        "id": "dVaKmBi74zJg",
        "outputId": "73ce71ea-d780-48aa-c72f-ced6a56e84a7"
      },
      "outputs": [
        {
          "output_type": "stream",
          "name": "stdout",
          "text": [
            "Class/Labels:  [ 1  2  3  4  5  6  7  8  9 10]\n",
            "Labels count distribution\n"
          ]
        },
        {
          "output_type": "display_data",
          "data": {
            "text/plain": [
              "<Figure size 432x288 with 1 Axes>"
            ],
            "image/png": "[encoded data removed]"
          },
          "metadata": {}
        }
      ],
      "source": [
        "print(\"Class/Labels: \", np.unique(mat['y']))\n",
        "print(\"Labels count distribution\")\n",
        "pd.Series(mat['y'][:,0]).value_counts().plot(kind='bar');"
      ]
    },
    {
      "cell_type": "code",
      "execution_count": null,
      "metadata": {
        "colab": {
          "base_uri": "https://localhost:8080/",
          "height": 297
        },
        "id": "pDhdXKgn4Mj8",
        "outputId": "a74f3a4e-120e-4016-e491-0d9d8943f414"
      },
      "outputs": [
        {
          "output_type": "stream",
          "name": "stdout",
          "text": [
            "Class/Labels:  [0 1 2 3 4 5 6 7 8 9]\n",
            "Labels count distribution\n"
          ]
        },
        {
          "output_type": "display_data",
          "data": {
            "text/plain": [
              "<Figure size 432x288 with 1 Axes>"
            ],
            "image/png": "[encoded data removed]"
          },
          "metadata": {}
        }
      ],
      "source": [
        "indices_10 = (mat['y'] == 10)\n",
        "mat['y'][indices_10] = 0\n",
        "\n",
        "print(\"Class/Labels: \", np.unique(mat['y']))\n",
        "print(\"Labels count distribution\")\n",
        "pd.Series(mat['y'][:,0]).value_counts().plot(kind='bar');"
      ]
    },
    {
      "cell_type": "code",
      "execution_count": null,
      "metadata": {
        "colab": {
          "base_uri": "https://localhost:8080/"
        },
        "id": "qMXpQX8nkHRR",
        "outputId": "3aefb6de-f420-4bdf-ad8a-9e5ead30c360"
      },
      "outputs": [
        {
          "output_type": "stream",
          "name": "stdout",
          "text": [
            "(51279, 14651, 7325)\n"
          ]
        }
      ],
      "source": [
        "train_size = int(lenx*0.70)\n",
        "val_size = int(lenx*0.20)\n",
        "test_size = int(lenx*0.10)\n",
        "print((train_size, val_size, test_size))"
      ]
    },
    {
      "cell_type": "code",
      "execution_count": null,
      "metadata": {
        "colab": {
          "base_uri": "https://localhost:8080/"
        },
        "id": "WGQQqts3kHRS",
        "outputId": "c38ad6e3-6db7-4af1-ff44-5c2793cb6551"
      },
      "outputs": [
        {
          "output_type": "stream",
          "name": "stdout",
          "text": [
            "Looking in indexes: https://pypi.org/simple, https://us-python.pkg.dev/colab-wheels/public/simple/\n",
            "Requirement already satisfied: wandb in /usr/local/lib/python3.8/dist-packages (0.13.10)\n",
            "Requirement already satisfied: requests<3,>=2.0.0 in /usr/local/lib/python3.8/dist-packages (from wandb) (2.25.1)\n",
            "Requirement already satisfied: PyYAML in /usr/local/lib/python3.8/dist-packages (from wandb) (6.0)\n",
            "Requirement already satisfied: GitPython>=1.0.0 in /usr/local/lib/python3.8/dist-packages (from wandb) (3.1.31)\n",
            "Requirement already satisfied: docker-pycreds>=0.4.0 in /usr/local/lib/python3.8/dist-packages (from wandb) (0.4.0)\n",
            "Requirement already satisfied: sentry-sdk>=1.0.0 in /usr/local/lib/python3.8/dist-packages (from wandb) (1.15.0)\n",
            "Requirement already satisfied: appdirs>=1.4.3 in /usr/local/lib/python3.8/dist-packages (from wandb) (1.4.4)\n",
            "Requirement already satisfied: pathtools in /usr/local/lib/python3.8/dist-packages (from wandb) (0.1.2)\n",
            "Requirement already satisfied: protobuf!=4.21.0,<5,>=3.12.0 in /usr/local/lib/python3.8/dist-packages (from wandb) (3.19.6)\n",
            "Requirement already satisfied: Click!=8.0.0,>=7.0 in /usr/local/lib/python3.8/dist-packages (from wandb) (7.1.2)\n",
            "Requirement already satisfied: psutil>=5.0.0 in /usr/local/lib/python3.8/dist-packages (from wandb) (5.4.8)\n",
            "Requirement already satisfied: setproctitle in /usr/local/lib/python3.8/dist-packages (from wandb) (1.3.2)\n",
            "Requirement already satisfied: setuptools in /usr/local/lib/python3.8/dist-packages (from wandb) (57.4.0)\n",
            "Requirement already satisfied: typing-extensions in /usr/local/lib/python3.8/dist-packages (from wandb) (4.4.0)\n",
            "Requirement already satisfied: six>=1.4.0 in /usr/local/lib/python3.8/dist-packages (from docker-pycreds>=0.4.0->wandb) (1.15.0)\n",
            "Requirement already satisfied: gitdb<5,>=4.0.1 in /usr/local/lib/python3.8/dist-packages (from GitPython>=1.0.0->wandb) (4.0.10)\n",
            "Requirement already satisfied: certifi>=2017.4.17 in /usr/local/lib/python3.8/dist-packages (from requests<3,>=2.0.0->wandb) (2022.12.7)\n",
            "Requirement already satisfied: chardet<5,>=3.0.2 in /usr/local/lib/python3.8/dist-packages (from requests<3,>=2.0.0->wandb) (4.0.0)\n",
            "Requirement already satisfied: idna<3,>=2.5 in /usr/local/lib/python3.8/dist-packages (from requests<3,>=2.0.0->wandb) (2.10)\n",
            "Requirement already satisfied: urllib3<1.27,>=1.21.1 in /usr/local/lib/python3.8/dist-packages (from requests<3,>=2.0.0->wandb) (1.26.14)\n",
            "Requirement already satisfied: smmap<6,>=3.0.1 in /usr/local/lib/python3.8/dist-packages (from gitdb<5,>=4.0.1->GitPython>=1.0.0->wandb) (5.0.0)\n"
          ]
        }
      ],
      "source": [
        "!pip install wandb"
      ]
    },
    {
      "cell_type": "code",
      "execution_count": null,
      "metadata": {
        "colab": {
          "base_uri": "https://localhost:8080/"
        },
        "id": "99xEsbRnkHRT",
        "outputId": "5be0ab83-2294-4240-d555-a9b4668022aa"
      },
      "outputs": [
        {
          "output_type": "stream",
          "name": "stderr",
          "text": [
            "\u001b[34m\u001b[1mwandb\u001b[0m: Currently logged in as: \u001b[33mkhushdev20211\u001b[0m (\u001b[33mcv_assignment\u001b[0m). Use \u001b[1m`wandb login --relogin`\u001b[0m to force relogin\n"
          ]
        },
        {
          "output_type": "execute_result",
          "data": {
            "text/plain": [
              "True"
            ]
          },
          "metadata": {},
          "execution_count": 9
        }
      ],
      "source": [
        "import wandb\n",
        "wandb.login()"
      ]
    },
    {
      "cell_type": "code",
      "execution_count": null,
      "metadata": {
        "colab": {
          "base_uri": "https://localhost:8080/"
        },
        "id": "IjOxLU46kHRU",
        "outputId": "740e3b96-96c3-4aff-bd8c-e3b6ba4ec0ee"
      },
      "outputs": [
        {
          "output_type": "stream",
          "name": "stdout",
          "text": [
            "cpu\n"
          ]
        }
      ],
      "source": [
        "device = \"cuda:0\" if torch.cuda.is_available() else \"cpu\"\n",
        "print(device)"
      ]
    },
    {
      "cell_type": "markdown",
      "metadata": {
        "id": "WuGKtLbVkHRU"
      },
      "source": [
        "## **1(b)** *Create custom data loaders for all the splits (train, val and test) using PyTorch.*"
      ]
    },
    {
      "cell_type": "code",
      "execution_count": null,
      "metadata": {
        "colab": {
          "base_uri": "https://localhost:8080/",
          "height": 283
        },
        "id": "TilTsVHKkHRV",
        "outputId": "78cd32fd-9679-408c-b051-3cc64cd3246c"
      },
      "outputs": [
        {
          "output_type": "stream",
          "name": "stdout",
          "text": [
            "(32, 32, 3) 8\n"
          ]
        },
        {
          "output_type": "display_data",
          "data": {
            "text/plain": [
              "<Figure size 432x288 with 1 Axes>"
            ],
            "image/png": "[encoded data removed]"
          },
          "metadata": {}
        }
      ],
      "source": [
        "class SVHNDataset(Dataset):\n",
        "    def __init__(self, data, transform=None):\n",
        "        self.data = data\n",
        "        self.transform = transform\n",
        "    \n",
        "    def __len__(self):\n",
        "        return len(self.data['X'][0][0][0])\n",
        "    \n",
        "    def __getitem__(self, idx, plot=False):\n",
        "        img_data = self.data['X'][:,:,:,idx]\n",
        "        img_label = self.data['y'][idx]\n",
        "        if (self.transform is not None) and (plot==False):\n",
        "            img_data = self.transform(img_data)\n",
        "        return img_data, img_label[0]\n",
        "\n",
        "dataset = SVHNDataset(mat)\n",
        "img, label = dataset.__getitem__(13)\n",
        "print(img.shape, label)\n",
        "plt.imshow(img);"
      ]
    },
    {
      "cell_type": "code",
      "execution_count": null,
      "metadata": {
        "id": "BkiAOgBZkHRV"
      },
      "outputs": [],
      "source": [
        "g = torch.Generator()\n",
        "g.manual_seed(42)\n",
        "\n",
        "transform = transforms.Compose([\n",
        "    transforms.ToTensor(),\n",
        "    transforms.Normalize((0.5, 0.5, 0.5), (0.5, 0.5, 0.5))]\n",
        ")\n",
        "\n",
        "# Creating dataset\n",
        "dataset = SVHNDataset(data=mat, transform=transform)\n",
        "dataset_size = len(dataset)\n",
        "indices = list(range(dataset_size))\n",
        "np.random.shuffle(indices)\n",
        "\n",
        "# Train, Validation and Test Split\n",
        "test_index = indices[:test_size]\n",
        "train_index = indices[test_size : test_size+train_size]\n",
        "val_index = indices[-val_size:]\n",
        "\n",
        "# SubsetRandomSampler for train, validation and test\n",
        "train_sampler = SubsetRandomSampler(train_index, generator=g)\n",
        "val_sampler = SubsetRandomSampler(val_index, generator=g)\n",
        "test_sampler = SubsetRandomSampler(test_index, generator=g)"
      ]
    },
    {
      "cell_type": "code",
      "execution_count": null,
      "metadata": {
        "colab": {
          "base_uri": "https://localhost:8080/"
        },
        "id": "bBZesdf50eFZ",
        "outputId": "c4b3343f-971b-4d86-c23f-69e998bf6148"
      },
      "outputs": [
        {
          "name": "stdout",
          "output_type": "stream",
          "text": [
            "51279 14651 7325\n"
          ]
        }
      ],
      "source": [
        "batch_size = 1\n",
        "\n",
        "# Custom data loaders for all the splits (train, val and test)\n",
        "trainloader = DataLoader(dataset, sampler=train_sampler, batch_size=batch_size,num_workers=2)\n",
        "valloader = DataLoader(dataset, sampler=val_sampler, batch_size=batch_size,num_workers=2)\n",
        "testloader = DataLoader(dataset, sampler=test_sampler, batch_size=batch_size,num_workers=2)\n",
        "\n",
        "print(len(trainloader), len(valloader), len(testloader))"
      ]
    },
    {
      "cell_type": "markdown",
      "metadata": {
        "id": "1jXAckkvkHRW"
      },
      "source": [
        "## **1(c)** *Visualize the data distribution across class labels for training and validation sets.*"
      ]
    },
    {
      "cell_type": "code",
      "execution_count": null,
      "metadata": {
        "colab": {
          "base_uri": "https://localhost:8080/",
          "height": 385
        },
        "id": "ZiRKOJQDkHRW",
        "outputId": "273eb10a-b9f1-43a4-b85f-5c50d60a6ab1"
      },
      "outputs": [
        {
          "data": {
            "image/png": "[encoded data removed]",
            "text/plain": [
              "<Figure size 720x360 with 2 Axes>"
            ]
          },
          "metadata": {},
          "output_type": "display_data"
        },
        {
          "name": "stdout",
          "output_type": "stream",
          "text": [
            "[3481, 9694, 7421, 5988, 5232, 4747, 4022, 3939, 3497, 3258]\n",
            "[1015, 2802, 2098, 1694, 1537, 1398, 1096, 1091, 964, 956]\n"
          ]
        }
      ],
      "source": [
        "import seaborn as sns\n",
        "\n",
        "def class_distribution(data):\n",
        "    classes = [0]*10\n",
        "    for i in range(len(data)):\n",
        "        img, label = data.dataset.__getitem__(i, plot=True)\n",
        "        classes[label] += 1\n",
        "    return classes\n",
        "\n",
        "train_classes = class_distribution(trainloader)\n",
        "val_classes = class_distribution(valloader)\n",
        "\n",
        "# plot the class distribution in subplots\n",
        "fig, axes = plt.subplots(1, 2, figsize=(10, 5))\n",
        "axes[0].bar(range(0,10), train_classes)\n",
        "axes[0].set_title('Train')\n",
        "axes[0].set_xlabel('Class')\n",
        "axes[0].set_ylabel('Count')\n",
        "axes[0].set_xticks(range(0,10))\n",
        "axes[0].set_xlim(-1, 10)\n",
        "axes[1].bar(range(0,10), val_classes)\n",
        "axes[1].set_title('Validation')\n",
        "axes[1].set_ylabel('Count')\n",
        "axes[1].set_xlabel('Class')\n",
        "axes[1].set_xticks(range(0,10))\n",
        "axes[1].set_xlim(-1, 10)\n",
        "plt.show()\n",
        "\n",
        "print(train_classes)\n",
        "print(val_classes)"
      ]
    },
    {
      "cell_type": "markdown",
      "source": [
        "Number of labels for digit '1' are greater than other labels."
      ],
      "metadata": {
        "id": "HR2viE8SuYw7"
      }
    },
    {
      "cell_type": "code",
      "execution_count": null,
      "metadata": {
        "id": "GKrlL4RSPvOQ"
      },
      "outputs": [],
      "source": [
        "Part-1 Done"
      ]
    },
    {
      "cell_type": "markdown",
      "metadata": {
        "id": "Xk_PmGrWkHRX"
      },
      "source": [
        "# **Q1 Part-2** **Training a CNN from scratch**"
      ]
    },
    {
      "cell_type": "markdown",
      "metadata": {
        "id": "B39aZmOhkHRX"
      },
      "source": [
        "## **Q2 (a)** *Create a CNN architecture with 2 Convolution Layers having a kernel size of 3×3 and padding of 1. Use 32 feature maps for the first layer and 64 for the second. Finally add classification head to the conv layers. Use ReLU activation functions wherever applicable.*"
      ]
    },
    {
      "cell_type": "code",
      "execution_count": null,
      "metadata": {
        "id": "VCWwLPcrkHRX"
      },
      "outputs": [],
      "source": [
        "import torch.nn as nn\n",
        "\n",
        "class CNN(nn.Module):\n",
        "    def __init__(self):\n",
        "        super(CNN, self).__init__()\n",
        "        # First Convolution Layer\n",
        "        self.conv1 = nn.Conv2d(in_channels=3, out_channels=32, kernel_size=3, padding=1)\n",
        "        self.relu1 = nn.ReLU()\n",
        "        # Second Convolution Layer\n",
        "        self.conv2 = nn.Conv2d(in_channels=32, out_channels=64, kernel_size=3, padding=1)\n",
        "        self.relu2 = nn.ReLU()        \n",
        "        # Classification Head\n",
        "        self.fc = nn.Linear(in_features=64*32*32, out_features=10)\n",
        "        \n",
        "    def forward(self, x):\n",
        "        x = self.conv1(x)\n",
        "        x = self.relu1(x)\n",
        "        # x = nn.MaxPool2d(kernel_size=2, stride=2)(x)\n",
        "        x = self.conv2(x)\n",
        "        x = self.relu2(x)        \n",
        "        x = x.view(x.size(0), -1)\n",
        "        x = self.fc(x)\n",
        "        return x"
      ]
    },
    {
      "cell_type": "markdown",
      "metadata": {
        "id": "i6TmcAE0kHRY"
      },
      "source": [
        "## **Q2 (b)** *Train the model using the Cross-Entropy Loss. Use wandb to log the training and validation losses and accuracies.*"
      ]
    },
    {
      "cell_type": "code",
      "execution_count": null,
      "metadata": {
        "colab": {
          "base_uri": "https://localhost:8080/"
        },
        "id": "prZVPyD9kHRY",
        "outputId": "1ddddc3b-caed-43a3-d312-8463648393df"
      },
      "outputs": [
        {
          "name": "stdout",
          "output_type": "stream",
          "text": [
            "802 229 115\n"
          ]
        }
      ],
      "source": [
        "# Model\n",
        "model = CNN()\n",
        "\n",
        "# Hyperparameters\n",
        "lr=0.001\n",
        "epochs=10\n",
        "wd = 1e-3\n",
        "batch_size = 64\n",
        "\n",
        "# Custom data loaders for all the splits (train, val and test)\n",
        "trainloader = DataLoader(dataset, sampler=train_sampler, batch_size=batch_size,num_workers=2)\n",
        "valloader = DataLoader(dataset, sampler=val_sampler, batch_size=batch_size,num_workers=2)\n",
        "testloader = DataLoader(dataset, sampler=test_sampler, batch_size=batch_size,num_workers=2)\n",
        "print(len(trainloader), len(valloader), len(testloader))"
      ]
    },
    {
      "cell_type": "code",
      "execution_count": null,
      "metadata": {
        "colab": {
          "base_uri": "https://localhost:8080/",
          "height": 104
        },
        "id": "QHg8CFIEkHRY",
        "outputId": "69c04214-4fdf-42b3-f345-070f96baec09"
      },
      "outputs": [
        {
          "data": {
            "text/html": [
              "Tracking run with wandb version 0.13.10"
            ],
            "text/plain": [
              "<IPython.core.display.HTML object>"
            ]
          },
          "metadata": {},
          "output_type": "display_data"
        },
        {
          "data": {
            "text/html": [
              "Run data is saved locally in <code>/content/wandb/run-20230212_134442-fnd43o9a</code>"
            ],
            "text/plain": [
              "<IPython.core.display.HTML object>"
            ]
          },
          "metadata": {},
          "output_type": "display_data"
        },
        {
          "data": {
            "text/html": [
              "Syncing run <strong><a href='https://wandb.ai/cv_assignment/Assignment-1/runs/fnd43o9a' target=\"_blank\">Q1-Part2</a></strong> to <a href='https://wandb.ai/cv_assignment/Assignment-1' target=\"_blank\">Weights & Biases</a> (<a href='https://wandb.me/run' target=\"_blank\">docs</a>)<br/>"
            ],
            "text/plain": [
              "<IPython.core.display.HTML object>"
            ]
          },
          "metadata": {},
          "output_type": "display_data"
        },
        {
          "data": {
            "text/html": [
              " View project at <a href='https://wandb.ai/cv_assignment/Assignment-1' target=\"_blank\">https://wandb.ai/cv_assignment/Assignment-1</a>"
            ],
            "text/plain": [
              "<IPython.core.display.HTML object>"
            ]
          },
          "metadata": {},
          "output_type": "display_data"
        },
        {
          "data": {
            "text/html": [
              " View run at <a href='https://wandb.ai/cv_assignment/Assignment-1/runs/fnd43o9a' target=\"_blank\">https://wandb.ai/cv_assignment/Assignment-1/runs/fnd43o9a</a>"
            ],
            "text/plain": [
              "<IPython.core.display.HTML object>"
            ]
          },
          "metadata": {},
          "output_type": "display_data"
        }
      ],
      "source": [
        "wandb.init(entity=\"cv_assignment\", project=\"Assignment-1\",name=\"Q1-Part2\")\n",
        "wandb.config = {\"learning_rate\": lr , \"epochs\": epochs, \"batch_size\": batch_size}  "
      ]
    },
    {
      "cell_type": "code",
      "execution_count": null,
      "metadata": {
        "id": "uK6GlnrYkHRY"
      },
      "outputs": [],
      "source": [
        "import torch.optim as optim\n",
        "\n",
        "criterion = nn.CrossEntropyLoss()\n",
        "optimizer = optim.Adam(model.parameters(), lr=lr, weight_decay=wd)"
      ]
    },
    {
      "cell_type": "code",
      "execution_count": null,
      "metadata": {
        "colab": {
          "base_uri": "https://localhost:8080/"
        },
        "id": "ucy6U-XUbXq5",
        "outputId": "5aa90e3f-345c-47a3-d432-bca2dc9431f8"
      },
      "outputs": [
        {
          "name": "stdout",
          "output_type": "stream",
          "text": [
            "Epoch:  1\n",
            "Training Loss: 0.9903,  Training Accuracy: 68.9717\n",
            "Validation Loss: 0.6548,  Validation Accuracy: 80.9979\n",
            "Epoch:  2\n",
            "Training Loss: 0.5929,  Training Accuracy: 82.8331\n",
            "Validation Loss: 0.6037,  Validation Accuracy: 82.3015\n",
            "Epoch:  3\n",
            "Training Loss: 0.5305,  Training Accuracy: 84.4712\n",
            "Validation Loss: 0.5805,  Validation Accuracy: 82.7793\n",
            "Epoch:  4\n",
            "Training Loss: 0.4899,  Training Accuracy: 85.7213\n",
            "Validation Loss: 0.5508,  Validation Accuracy: 83.9943\n",
            "Finished Training\n"
          ]
        }
      ],
      "source": [
        "epochs = 4\n",
        "\n",
        "# Train the model\n",
        "for epoch in range(epochs):\n",
        "    print('Epoch: ', epoch+1)\n",
        "    train_loss = 0.0\n",
        "    correct = 0\n",
        "    total = 0\n",
        "    for i, data in enumerate(trainloader, 0):\n",
        "        inputs, labels = data\n",
        "        inputs, labels = inputs.to(device), labels.to(device)\n",
        "        optimizer.zero_grad()\n",
        "        outputs = model(inputs)\n",
        "        loss = criterion(outputs, labels)\n",
        "        loss.backward()\n",
        "        optimizer.step()\n",
        "        train_loss += loss.item()\n",
        "        total += labels.size(0)\n",
        "        _, predicted = torch.max(outputs.data, 1)\n",
        "        correct += (predicted == labels).sum().item()\n",
        "    train_accuracy = 100 * correct / total\n",
        "    print(\"Training Loss: {:.4f},  Training Accuracy: {:.4f}\".format(train_loss / len(trainloader), train_accuracy))\n",
        "\n",
        "    # Evaluate the model on validation set\n",
        "    correct = 0\n",
        "    total = 0\n",
        "    val_loss = 0.0\n",
        "    with torch.no_grad():\n",
        "        for data in valloader:\n",
        "            inputs, labels = data\n",
        "            inputs, labels = inputs.to(device), labels.to(device)\n",
        "            outputs = model(inputs)\n",
        "            val_loss += criterion(outputs, labels).item()\n",
        "            _, predicted = torch.max(outputs.data, 1)\n",
        "            total += labels.size(0)\n",
        "            correct += (predicted == labels).sum().item()\n",
        "    val_accuracy = 100 * correct / total\n",
        "    print(\"Validation Loss: {:.4f},  Validation Accuracy: {:.4f}\".format(val_loss/ len(valloader), val_accuracy))\n",
        "\n",
        "    # Log the loss and accuracy to W&B\n",
        "    wandb.log({'training_loss': train_loss / len(trainloader), 'validation_loss': val_loss / len(valloader),\n",
        "               'training_accuracy': train_accuracy, 'validation_accuracy': val_accuracy})\n",
        "\n",
        "print('Finished Training')"
      ]
    },
    {
      "cell_type": "markdown",
      "metadata": {
        "id": "zyI3Y9iBRLMN"
      },
      "source": [
        "## **Q2 (c)** *Report the Accuracy and F1-Score on the test set. Also, log the confusion matrix using wandb.*"
      ]
    },
    {
      "cell_type": "code",
      "execution_count": null,
      "metadata": {
        "colab": {
          "base_uri": "https://localhost:8080/"
        },
        "id": "_QEEFzozQ8BP",
        "outputId": "5f43fab1-aa15-400f-cad9-5493812967b1"
      },
      "outputs": [
        {
          "name": "stdout",
          "output_type": "stream",
          "text": [
            "Test set accuracy: 84.45%\n",
            "Test set F1-score: 0.8316\n"
          ]
        }
      ],
      "source": [
        "from sklearn.metrics import confusion_matrix, f1_score\n",
        "\n",
        "# Evaluate the model on test set\n",
        "correct, total = 0, 0\n",
        "x_test_img = []\n",
        "y_test_true = []\n",
        "y_test_pred = []\n",
        "with torch.no_grad():\n",
        "    for data in testloader:\n",
        "        inputs, labels = data\n",
        "        inputs, labels = inputs.to(device), labels.to(device)\n",
        "        outputs = model(inputs)\n",
        "        _, predicted = torch.max(outputs.data, 1)\n",
        "        total += labels.size(0)\n",
        "        correct += (predicted == labels).sum().item()\n",
        "        x_test_img.extend(inputs.numpy().tolist())\n",
        "        y_test_true.extend(labels.numpy().tolist())\n",
        "        y_test_pred.extend(predicted.numpy().tolist())\n",
        "test_accuracy = 100 * correct / total\n",
        "print(\"Test set accuracy: {:.2f}%\".format(test_accuracy))\n",
        "\n",
        "# Compute the F1-score on testing set\n",
        "f1 = f1_score(y_test_true, y_test_pred, average='macro')\n",
        "print(\"Test set F1-score: {:.4f}\".format(f1))\n",
        "\n",
        "# Compute the confusion matrix for the Predictions\n",
        "cm = confusion_matrix(y_test_true, y_test_pred)\n",
        "\n",
        "# Logging the confusion matrix to W&B\n",
        "wandb.log({'confusion_matrix': wandb.Image(cm, caption='Confusion Matrix')})"
      ]
    },
    {
      "cell_type": "code",
      "execution_count": null,
      "metadata": {
        "colab": {
          "base_uri": "https://localhost:8080/",
          "height": 333
        },
        "id": "aFv0c2VFkHRZ",
        "outputId": "024068fe-5ab6-4c02-c5b7-9a2fd72c5e26"
      },
      "outputs": [
        {
          "data": {
            "text/html": [
              "Waiting for W&B process to finish... <strong style=\"color:green\">(success).</strong>"
            ],
            "text/plain": [
              "<IPython.core.display.HTML object>"
            ]
          },
          "metadata": {},
          "output_type": "display_data"
        },
        {
          "data": {
            "application/vnd.jupyter.widget-view+json": {
              "model_id": "e9dc1cc16a96429a8ced060d4cad37f7",
              "version_major": 2,
              "version_minor": 0
            },
            "text/plain": [
              "VBox(children=(Label(value='2.577 MB of 2.577 MB uploaded (0.000 MB deduped)\\r'), FloatProgress(value=1.0, max…"
            ]
          },
          "metadata": {},
          "output_type": "display_data"
        },
        {
          "data": {
            "text/html": [
              "<style>\n",
              "    table.wandb td:nth-child(1) { padding: 0 10px; text-align: left ; width: auto;} td:nth-child(2) {text-align: left ; width: 100%}\n",
              "    .wandb-row { display: flex; flex-direction: row; flex-wrap: wrap; justify-content: flex-start; width: 100% }\n",
              "    .wandb-col { display: flex; flex-direction: column; flex-basis: 100%; flex: 1; padding: 10px; }\n",
              "    </style>\n",
              "<div class=\"wandb-row\"><div class=\"wandb-col\"><h3>Run history:</h3><br/><table class=\"wandb\"><tr><td>training_accuracy</td><td>▁▇▇█</td></tr><tr><td>training_loss</td><td>█▂▂▁</td></tr><tr><td>validation_accuracy</td><td>▁▄▅█</td></tr><tr><td>validation_loss</td><td>█▅▃▁</td></tr></table><br/></div><div class=\"wandb-col\"><h3>Run summary:</h3><br/><table class=\"wandb\"><tr><td>training_accuracy</td><td>85.72125</td></tr><tr><td>training_loss</td><td>0.48988</td></tr><tr><td>validation_accuracy</td><td>83.99427</td></tr><tr><td>validation_loss</td><td>0.55084</td></tr></table><br/></div></div>"
            ],
            "text/plain": [
              "<IPython.core.display.HTML object>"
            ]
          },
          "metadata": {},
          "output_type": "display_data"
        },
        {
          "data": {
            "text/html": [
              " View run <strong style=\"color:#cdcd00\">Q1-Part2</strong> at: <a href='https://wandb.ai/cv_assignment/Assignment-1/runs/fnd43o9a' target=\"_blank\">https://wandb.ai/cv_assignment/Assignment-1/runs/fnd43o9a</a><br/>Synced 5 W&B file(s), 1 media file(s), 1 artifact file(s) and 0 other file(s)"
            ],
            "text/plain": [
              "<IPython.core.display.HTML object>"
            ]
          },
          "metadata": {},
          "output_type": "display_data"
        },
        {
          "data": {
            "text/html": [
              "Find logs at: <code>./wandb/run-20230212_134442-fnd43o9a/logs</code>"
            ],
            "text/plain": [
              "<IPython.core.display.HTML object>"
            ]
          },
          "metadata": {},
          "output_type": "display_data"
        }
      ],
      "source": [
        "# ✨ W&B: Save Model\n",
        "torch.save(model.state_dict(),\"cnn_q1_b.pth\")\n",
        "artifact = wandb.Artifact('model', type='model')\n",
        "artifact.add_file('cnn_q1_b.pth')\n",
        "wandb.log_artifact(artifact)\n",
        "wandb.finish()"
      ]
    },
    {
      "cell_type": "markdown",
      "metadata": {
        "id": "Q2d7PZ2zfnEc"
      },
      "source": [
        "## **Q2 (d)** *For each class in the test set, visualize any 3 images that were misclassified along with the predicted class label. Analyze why the model could possibly be failing in these cases. Is this due to the fact that image looks much similar to the predicted class than the actual ground truth or something else?*"
      ]
    },
    {
      "cell_type": "code",
      "execution_count": null,
      "metadata": {
        "id": "Q-JA05CSKwrG"
      },
      "outputs": [],
      "source": [
        "import warnings\n",
        "warnings.filterwarnings(\"ignore\")"
      ]
    },
    {
      "cell_type": "code",
      "execution_count": null,
      "metadata": {
        "colab": {
          "base_uri": "https://localhost:8080/",
          "height": 1000
        },
        "id": "FYFw8buEjM8k",
        "outputId": "33a551a9-dc4f-4818-e991-6251ad028903"
      },
      "outputs": [
        {
          "name": "stdout",
          "output_type": "stream",
          "text": [
            "Visualization for Class:  0\n",
            "Visualization for Class:  1\n",
            "Visualization for Class:  2\n",
            "Visualization for Class:  3\n",
            "Visualization for Class:  4\n",
            "Visualization for Class:  5\n",
            "Visualization for Class:  6\n",
            "Visualization for Class:  7\n",
            "Visualization for Class:  8\n",
            "Visualization for Class:  9\n"
          ]
        },
        {
          "data": {
            "image/png": "[encoded data removed]",
            "text/plain": [
              "<Figure size 720x360 with 3 Axes>"
            ]
          },
          "metadata": {},
          "output_type": "display_data"
        },
        {
          "data": {
            "image/png": "[encoded data removed]",
            "text/plain": [
              "<Figure size 720x360 with 3 Axes>"
            ]
          },
          "metadata": {},
          "output_type": "display_data"
        },
        {
          "data": {
            "image/png": "[encoded data removed]",
            "text/plain": [
              "<Figure size 720x360 with 3 Axes>"
            ]
          },
          "metadata": {},
          "output_type": "display_data"
        },
        {
          "data": {
            "image/png": "[encoded data removed]",
            "text/plain": [
              "<Figure size 720x360 with 3 Axes>"
            ]
          },
          "metadata": {},
          "output_type": "display_data"
        },
        {
          "data": {
            "image/png": "[encoded data removed]",
            "text/plain": [
              "<Figure size 720x360 with 3 Axes>"
            ]
          },
          "metadata": {},
          "output_type": "display_data"
        },
        {
          "data": {
            "image/png": "[encoded data removed]",
            "text/plain": [
              "<Figure size 720x360 with 3 Axes>"
            ]
          },
          "metadata": {},
          "output_type": "display_data"
        },
        {
          "data": {
            "image/png": "[encoded data removed]",
            "text/plain": [
              "<Figure size 720x360 with 3 Axes>"
            ]
          },
          "metadata": {},
          "output_type": "display_data"
        },
        {
          "data": {
            "image/png": "[encoded data removed]",
            "text/plain": [
              "<Figure size 720x360 with 3 Axes>"
            ]
          },
          "metadata": {},
          "output_type": "display_data"
        },
        {
          "data": {
            "image/png": "[encoded data removed]",
            "text/plain": [
              "<Figure size 720x360 with 3 Axes>"
            ]
          },
          "metadata": {},
          "output_type": "display_data"
        },
        {
          "data": {
            "image/png": "[encoded data removed]",
            "text/plain": [
              "<Figure size 720x360 with 3 Axes>"
            ]
          },
          "metadata": {},
          "output_type": "display_data"
        }
      ],
      "source": [
        "x_test_img = np.array(x_test_img)\n",
        "y_test_true = np.array(y_test_true)\n",
        "y_test_pred = np.array(y_test_pred)\n",
        "\n",
        "for out_class in range(10):\n",
        "    print('Visualization for Class: ', out_class)\n",
        "    class_ind = np.where(y_test_true == out_class)\n",
        "    missclassfication_ind = np.where(y_test_pred[class_ind] != out_class)\n",
        "    np.random.shuffle(missclassfication_ind)\n",
        "    \n",
        "    fig, axes = plt.subplots(1, 3, figsize=(10, 5))\n",
        "    start = 4\n",
        "    for i in range(start,start+3):\n",
        "        # print(np.max(x_test_img[class_ind][missclassfication_ind][i]))\n",
        "        img = x_test_img[class_ind][missclassfication_ind][i] / 2 + 0.5\n",
        "        axes[i-start].imshow(img.transpose(1,2,0))\n",
        "        axes[i-start].set_title('Actual: ' + str(out_class) + ', Predicted: ' + str(y_test_pred[class_ind][missclassfication_ind][i]))\n",
        "        axes[i-start].axis('off')"
      ]
    },
    {
      "cell_type": "markdown",
      "source": [
        "The primary reason for digits misclassification is mainly beacause some images are not clear and presence of multiple digits in the image. In last row of images, we can see two images are entirely blur and second one has multiple digits. \n"
      ],
      "metadata": {
        "id": "0El1XawJvB21"
      }
    },
    {
      "cell_type": "code",
      "execution_count": null,
      "metadata": {
        "id": "myKcJxODPqni"
      },
      "outputs": [],
      "source": [
        "Part-2 Done"
      ]
    },
    {
      "cell_type": "markdown",
      "metadata": {
        "id": "Aa4pzWiXrhpg"
      },
      "source": [
        "# **Q1 Part-3**  **Fine-tuning a pretrained model**"
      ]
    },
    {
      "cell_type": "markdown",
      "metadata": {
        "id": "a6Ya4Z08A3ab"
      },
      "source": [
        "## **Q3 (a)** *Train another classification model with a fine-tuned Resnet-18 (pre-trained on ImageNet) architecture using the same strategy used in Question1.2.(b) and again use wandb for logging the loss and accuracy.*"
      ]
    },
    {
      "cell_type": "code",
      "execution_count": null,
      "metadata": {
        "colab": {
          "base_uri": "https://localhost:8080/"
        },
        "id": "xdgLeSrfPnlL",
        "outputId": "da6e0e73-24a6-46e7-e972-e08ad44a9a74"
      },
      "outputs": [
        {
          "name": "stdout",
          "output_type": "stream",
          "text": [
            "802 229 115\n"
          ]
        }
      ],
      "source": [
        "def getData(batch_size = 64):\n",
        "    # Creating dataset\n",
        "    dataset = SVHNDataset(data=mat, transform = transforms.Compose([\n",
        "        transforms.ToTensor(),\n",
        "        transforms.Normalize((0.5, 0.5, 0.5), (0.5, 0.5, 0.5))]\n",
        "    ))\n",
        "    dataset_size = len(dataset)\n",
        "    indices = list(range(dataset_size))\n",
        "    np.random.shuffle(indices)\n",
        "    \n",
        "    # Train, Validation and Test Split\n",
        "    test_index = indices[:test_size]\n",
        "    train_index = indices[test_size : test_size+train_size]\n",
        "    val_index = indices[-val_size:]\n",
        "    \n",
        "    # SubsetRandomSampler for train, validation and test\n",
        "    g = torch.Generator()\n",
        "    g.manual_seed(42)\n",
        "    train_sampler = SubsetRandomSampler(train_index, generator=g)\n",
        "    val_sampler = SubsetRandomSampler(val_index, generator=g)\n",
        "    test_sampler = SubsetRandomSampler(test_index, generator=g)\n",
        "    \n",
        "    # Custom data loaders for all the splits (train, val and test)\n",
        "    trainloader = DataLoader(dataset, sampler=train_sampler, batch_size=batch_size,num_workers=2)\n",
        "    valloader = DataLoader(dataset, sampler=val_sampler, batch_size=batch_size,num_workers=2)\n",
        "    testloader = DataLoader(dataset, sampler=test_sampler, batch_size=batch_size,num_workers=2)\n",
        "    return dataset, dataset_size, batch_size, trainloader, valloader, testloader\n",
        "\n",
        "dataset, dataset_size, batch_size, trainloader, valloader, testloader = getData()\n",
        "print(len(trainloader), len(valloader), len(testloader))"
      ]
    },
    {
      "cell_type": "code",
      "execution_count": null,
      "metadata": {
        "colab": {
          "base_uri": "https://localhost:8080/",
          "height": 156,
          "referenced_widgets": [
            "756b8d537af4481eb54518b8dae960f1"
          ]
        },
        "id": "7Azp9CzEA3ac",
        "outputId": "ad4094bd-3c58-4645-a35e-e680c6afbeda"
      },
      "outputs": [
        {
          "name": "stderr",
          "output_type": "stream",
          "text": [
            "/usr/local/lib/python3.8/dist-packages/torchvision/models/_utils.py:208: UserWarning: The parameter 'pretrained' is deprecated since 0.13 and may be removed in the future, please use 'weights' instead.\n",
            "  warnings.warn(\n",
            "/usr/local/lib/python3.8/dist-packages/torchvision/models/_utils.py:223: UserWarning: Arguments other than a weight enum or `None` for 'weights' are deprecated since 0.13 and may be removed in the future. The current behavior is equivalent to passing `weights=ResNet18_Weights.IMAGENET1K_V1`. You can also use `weights=ResNet18_Weights.DEFAULT` to get the most up-to-date weights.\n",
            "  warnings.warn(msg)\n",
            "Downloading: \"https://download.pytorch.org/models/resnet18-f37072fd.pth\" to /root/.cache/torch/hub/checkpoints/resnet18-f37072fd.pth\n"
          ]
        },
        {
          "data": {
            "application/vnd.jupyter.widget-view+json": {
              "model_id": "756b8d537af4481eb54518b8dae960f1",
              "version_major": 2,
              "version_minor": 0
            },
            "text/plain": [
              "  0%|          | 0.00/44.7M [00:00<?, ?B/s]"
            ]
          },
          "metadata": {},
          "output_type": "display_data"
        }
      ],
      "source": [
        "# Load the pre-trained ResNet-18 model\n",
        "model = models.resnet18(pretrained=True)\n",
        "\n",
        "# Freeze none of layers\n",
        "for param in model.parameters():\n",
        "    param.requires_grad = True\n",
        "model.fc.requires_grad = True\n",
        "\n",
        "# Replace the last fully connected layer with a new one with the desired number of classes\n",
        "model.fc = nn.Linear(model.fc.in_features, 10)\n",
        "\n",
        "# Define the loss function and optimizer\n",
        "lr = 0.001\n",
        "epochs = 5\n",
        "criterion = nn.CrossEntropyLoss()\n",
        "optimizer = optim.Adam(model.parameters(), lr=lr, weight_decay=1e-3)"
      ]
    },
    {
      "cell_type": "code",
      "execution_count": null,
      "metadata": {
        "colab": {
          "base_uri": "https://localhost:8080/",
          "height": 121
        },
        "id": "YeOymKWBA3ac",
        "outputId": "8515f8ad-41bd-4e0a-df6b-2c2b479d8a65"
      },
      "outputs": [
        {
          "name": "stderr",
          "output_type": "stream",
          "text": [
            "\u001b[34m\u001b[1mwandb\u001b[0m: Currently logged in as: \u001b[33mkhushdev20211\u001b[0m (\u001b[33mcv_assignment\u001b[0m). Use \u001b[1m`wandb login --relogin`\u001b[0m to force relogin\n"
          ]
        },
        {
          "data": {
            "text/html": [
              "Tracking run with wandb version 0.13.10"
            ],
            "text/plain": [
              "<IPython.core.display.HTML object>"
            ]
          },
          "metadata": {},
          "output_type": "display_data"
        },
        {
          "data": {
            "text/html": [
              "Run data is saved locally in <code>/content/wandb/run-20230214_040703-zz5gwpu9</code>"
            ],
            "text/plain": [
              "<IPython.core.display.HTML object>"
            ]
          },
          "metadata": {},
          "output_type": "display_data"
        },
        {
          "data": {
            "text/html": [
              "Syncing run <strong><a href='https://wandb.ai/cv_assignment/Assignment-1/runs/zz5gwpu9' target=\"_blank\">Q1-Part3</a></strong> to <a href='https://wandb.ai/cv_assignment/Assignment-1' target=\"_blank\">Weights & Biases</a> (<a href='https://wandb.me/run' target=\"_blank\">docs</a>)<br/>"
            ],
            "text/plain": [
              "<IPython.core.display.HTML object>"
            ]
          },
          "metadata": {},
          "output_type": "display_data"
        },
        {
          "data": {
            "text/html": [
              " View project at <a href='https://wandb.ai/cv_assignment/Assignment-1' target=\"_blank\">https://wandb.ai/cv_assignment/Assignment-1</a>"
            ],
            "text/plain": [
              "<IPython.core.display.HTML object>"
            ]
          },
          "metadata": {},
          "output_type": "display_data"
        },
        {
          "data": {
            "text/html": [
              " View run at <a href='https://wandb.ai/cv_assignment/Assignment-1/runs/zz5gwpu9' target=\"_blank\">https://wandb.ai/cv_assignment/Assignment-1/runs/zz5gwpu9</a>"
            ],
            "text/plain": [
              "<IPython.core.display.HTML object>"
            ]
          },
          "metadata": {},
          "output_type": "display_data"
        }
      ],
      "source": [
        "wandb.init(entity=\"cv_assignment\", project=\"Assignment-1\",name=\"Q1-Part3\")\n",
        "wandb.config = {\"learning_rate\": lr , \"epochs\": epochs, \"batch_size\": batch_size}  "
      ]
    },
    {
      "cell_type": "code",
      "execution_count": null,
      "metadata": {
        "colab": {
          "base_uri": "https://localhost:8080/"
        },
        "id": "pU-dQuPvA3ac",
        "outputId": "b736a41b-20f8-477a-b438-88980a3dc556"
      },
      "outputs": [
        {
          "name": "stdout",
          "output_type": "stream",
          "text": [
            "Epoch:  1\n",
            "Training Loss: 0.6140,  Training Accuracy: 81.0000\n",
            "Validation Loss: 0.5055,  Validation Accuracy: 84.9294\n",
            "Epoch:  2\n",
            "Training Loss: 0.3872,  Training Accuracy: 88.6893\n",
            "Validation Loss: 0.3976,  Validation Accuracy: 88.3694\n",
            "Epoch:  3\n",
            "Training Loss: 0.3388,  Training Accuracy: 90.2436\n",
            "Validation Loss: 0.3677,  Validation Accuracy: 89.3113\n",
            "Epoch:  4\n",
            "Training Loss: 0.3082,  Training Accuracy: 91.1114\n",
            "Validation Loss: 0.3489,  Validation Accuracy: 89.8778\n",
            "Finished Training\n"
          ]
        }
      ],
      "source": [
        "epochs = 4\n",
        "\n",
        "# Train the model\n",
        "for epoch in range(epochs):\n",
        "    print('Epoch: ', epoch+1)\n",
        "    train_loss = 0.0\n",
        "    correct = 0\n",
        "    total = 0\n",
        "    for i, data in enumerate(trainloader, 0):\n",
        "        inputs, labels = data\n",
        "        inputs, labels = inputs.to(device), labels.to(device)\n",
        "        optimizer.zero_grad()\n",
        "        outputs = model(inputs)\n",
        "        loss = criterion(outputs, labels)\n",
        "        loss.backward()\n",
        "        optimizer.step()\n",
        "        train_loss += loss.item()\n",
        "        total += labels.size(0)\n",
        "        _, predicted = torch.max(outputs.data, 1)\n",
        "        correct += (predicted == labels).sum().item()\n",
        "    train_accuracy = 100 * correct / total\n",
        "    print(\"Training Loss: {:.4f},  Training Accuracy: {:.4f}\".format(train_loss / len(trainloader), train_accuracy))\n",
        "\n",
        "    # Evaluate the model on validation set\n",
        "    correct = 0\n",
        "    total = 0\n",
        "    val_loss = 0.0\n",
        "    with torch.no_grad():\n",
        "        for data in valloader:\n",
        "            inputs, labels = data\n",
        "            inputs, labels = inputs.to(device), labels.to(device)\n",
        "            outputs = model(inputs)\n",
        "            val_loss += criterion(outputs, labels).item()\n",
        "            _, predicted = torch.max(outputs.data, 1)\n",
        "            total += labels.size(0)\n",
        "            correct += (predicted == labels).sum().item()\n",
        "    val_accuracy = 100 * correct / total\n",
        "    print(\"Validation Loss: {:.4f},  Validation Accuracy: {:.4f}\".format(val_loss/ len(valloader), val_accuracy))\n",
        "\n",
        "    # Log the loss and accuracy to W&B\n",
        "    wandb.log({'training_loss': train_loss / len(trainloader), 'validation_loss': val_loss / len(valloader),\n",
        "               'training_accuracy': train_accuracy, 'validation_accuracy': val_accuracy})\n",
        "\n",
        "print('Finished Training')"
      ]
    },
    {
      "cell_type": "markdown",
      "metadata": {
        "id": "Z4rjPb2FA3ad"
      },
      "source": [
        "## **Q3 (b)** *Report the Accuracy and F1-Score on the test set. Also, log the confusion matrix using wandb*"
      ]
    },
    {
      "cell_type": "code",
      "execution_count": null,
      "metadata": {
        "colab": {
          "base_uri": "https://localhost:8080/"
        },
        "id": "EyN1Aw67A3ad",
        "outputId": "43704ea0-cb67-4280-d4ae-3a50297c3221"
      },
      "outputs": [
        {
          "name": "stdout",
          "output_type": "stream",
          "text": [
            "Test set accuracy: 90.63%\n",
            "Test set F1-score: 0.9000\n"
          ]
        }
      ],
      "source": [
        "from sklearn.metrics import confusion_matrix, f1_score\n",
        "\n",
        "# Evaluate the model on test set\n",
        "correct, total = 0, 0\n",
        "x_test_img = []\n",
        "y_test_true = []\n",
        "y_test_pred = []\n",
        "with torch.no_grad():\n",
        "    for data in testloader:\n",
        "        inputs, labels = data\n",
        "        inputs, labels = inputs.to(device), labels.to(device)\n",
        "        outputs = model(inputs)\n",
        "        _, predicted = torch.max(outputs.data, 1)\n",
        "        total += labels.size(0)\n",
        "        correct += (predicted == labels).sum().item()\n",
        "        x_test_img.extend(inputs.numpy().tolist())\n",
        "        y_test_true.extend(labels.numpy().tolist())\n",
        "        y_test_pred.extend(predicted.numpy().tolist())\n",
        "test_accuracy = 100 * correct / total\n",
        "print(\"Test set accuracy: {:.2f}%\".format(test_accuracy))\n",
        "\n",
        "# Compute the F1-score on testing set\n",
        "f1 = f1_score(y_test_true, y_test_pred, average='macro')\n",
        "print(\"Test set F1-score: {:.4f}\".format(f1))\n",
        "\n",
        "# Compute the confusion matrix for the Predictions\n",
        "cm = confusion_matrix(y_test_true, y_test_pred)\n",
        "\n",
        "# Logging the confusion matrix to W&B\n",
        "wandb.log({'confusion_matrix': wandb.Image(cm, caption='Confusion Matrix')})"
      ]
    },
    {
      "cell_type": "code",
      "execution_count": null,
      "metadata": {
        "colab": {
          "base_uri": "https://localhost:8080/",
          "height": 333,
          "referenced_widgets": [
            "b2a256f42c044fc39a89a804e69226af"
          ]
        },
        "id": "Esak49B6A3ad",
        "outputId": "d2e8363b-cdbc-4fe6-b72f-0c3c50bcd824"
      },
      "outputs": [
        {
          "data": {
            "text/html": [
              "Waiting for W&B process to finish... <strong style=\"color:green\">(success).</strong>"
            ],
            "text/plain": [
              "<IPython.core.display.HTML object>"
            ]
          },
          "metadata": {},
          "output_type": "display_data"
        },
        {
          "data": {
            "application/vnd.jupyter.widget-view+json": {
              "model_id": "b2a256f42c044fc39a89a804e69226af",
              "version_major": 2,
              "version_minor": 0
            },
            "text/plain": [
              "VBox(children=(Label(value='85.467 MB of 85.467 MB uploaded (0.000 MB deduped)\\r'), FloatProgress(value=1.0, m…"
            ]
          },
          "metadata": {},
          "output_type": "display_data"
        },
        {
          "data": {
            "text/html": [
              "<style>\n",
              "    table.wandb td:nth-child(1) { padding: 0 10px; text-align: left ; width: auto;} td:nth-child(2) {text-align: left ; width: 100%}\n",
              "    .wandb-row { display: flex; flex-direction: row; flex-wrap: wrap; justify-content: flex-start; width: 100% }\n",
              "    .wandb-col { display: flex; flex-direction: column; flex-basis: 100%; flex: 1; padding: 10px; }\n",
              "    </style>\n",
              "<div class=\"wandb-row\"><div class=\"wandb-col\"><h3>Run history:</h3><br/><table class=\"wandb\"><tr><td>training_accuracy</td><td>▁▆▇█</td></tr><tr><td>training_loss</td><td>█▃▂▁</td></tr><tr><td>validation_accuracy</td><td>▁▆▇█</td></tr><tr><td>validation_loss</td><td>█▃▂▁</td></tr></table><br/></div><div class=\"wandb-col\"><h3>Run summary:</h3><br/><table class=\"wandb\"><tr><td>training_accuracy</td><td>91.11137</td></tr><tr><td>training_loss</td><td>0.30821</td></tr><tr><td>validation_accuracy</td><td>89.87782</td></tr><tr><td>validation_loss</td><td>0.34894</td></tr></table><br/></div></div>"
            ],
            "text/plain": [
              "<IPython.core.display.HTML object>"
            ]
          },
          "metadata": {},
          "output_type": "display_data"
        },
        {
          "data": {
            "text/html": [
              " View run <strong style=\"color:#cdcd00\">Q1-Part3</strong> at: <a href='https://wandb.ai/cv_assignment/Assignment-1/runs/zz5gwpu9' target=\"_blank\">https://wandb.ai/cv_assignment/Assignment-1/runs/zz5gwpu9</a><br/>Synced 5 W&B file(s), 1 media file(s), 2 artifact file(s) and 0 other file(s)"
            ],
            "text/plain": [
              "<IPython.core.display.HTML object>"
            ]
          },
          "metadata": {},
          "output_type": "display_data"
        },
        {
          "data": {
            "text/html": [
              "Find logs at: <code>./wandb/run-20230214_040703-zz5gwpu9/logs</code>"
            ],
            "text/plain": [
              "<IPython.core.display.HTML object>"
            ]
          },
          "metadata": {},
          "output_type": "display_data"
        }
      ],
      "source": [
        "# ✨ W&B: Save Model\n",
        "torch.save(model, 'resnet18model_q1_c.pt')\n",
        "torch.save(model.state_dict(),\"resnet18_q1_c.pth\")\n",
        "artifact = wandb.Artifact('model', type='model')\n",
        "artifact.add_file('resnet18model_q1_c.pt')\n",
        "artifact.add_file('resnet18_q1_c.pth')\n",
        "wandb.log_artifact(artifact)\n",
        "wandb.finish()"
      ]
    },
    {
      "cell_type": "markdown",
      "metadata": {
        "id": "_p7AWfNtOwHW"
      },
      "source": [
        "## **Q3 (c)** *For deep neural networks, typically, the backbone is the part of a model (initial layers) that is used to extract feature representations (or simply features) from the raw input data, which can then used for classification or some other related task. These features are expressed as an n-dimensional vector, also known as a feature vector and the corresponding vector space is referred to as the feature space. As the training progresses and the classifier learns to classify the input, the data samples belonging to the same class lie closer to each other in the feature space than other data samples. For input samples from the training and validation sets, extract the feature vectors using the backbone (ResNet-18 in this case) and visualize them in the feature space using the tSNE plot in a 2-D Space. Also, visualize the tSNE plot of the validation set in a 3D-Space.*"
      ]
    },
    {
      "cell_type": "code",
      "source": [
        "from google.colab import drive\n",
        "drive.mount(\"/content/drive\")"
      ],
      "metadata": {
        "colab": {
          "base_uri": "https://localhost:8080/"
        },
        "id": "QQ4ksWsVAqSG",
        "outputId": "f544c7a1-d284-406e-cc3e-2e7d9aece937"
      },
      "execution_count": null,
      "outputs": [
        {
          "output_type": "stream",
          "name": "stdout",
          "text": [
            "Drive already mounted at /content/drive; to attempt to forcibly remount, call drive.mount(\"/content/drive\", force_remount=True).\n"
          ]
        }
      ]
    },
    {
      "cell_type": "code",
      "execution_count": null,
      "metadata": {
        "id": "dlh4shhyPBof"
      },
      "outputs": [],
      "source": [
        "import scipy.io\n",
        "path_data = \"/content/drive/MyDrive/ECE344: CV (Computer Vision)/Assignments/Assignment-1/Q1/train_32x32.mat\"\n",
        "mat = scipy.io.loadmat(path_data)\n",
        "\n",
        "indices_10 = (mat['y'] == 10)\n",
        "mat['y'][indices_10] = 0"
      ]
    },
    {
      "cell_type": "code",
      "source": [
        "class SVHNDataset(Dataset):\n",
        "    def __init__(self, data, transform=None):\n",
        "        self.data = data\n",
        "        self.transform = transform\n",
        "    \n",
        "    def __len__(self):\n",
        "        return len(self.data['X'][0][0][0])\n",
        "    \n",
        "    def __getitem__(self, idx, plot=False):\n",
        "        img_data = self.data['X'][:,:,:,idx]\n",
        "        img_label = self.data['y'][idx]\n",
        "        if self.transform:\n",
        "            img_data = self.transform(img_data)\n",
        "        return img_data, img_label[0]\n",
        "\n",
        "# Transform\n",
        "g = torch.Generator()\n",
        "g.manual_seed(42)\n",
        "transform = transforms.Compose([\n",
        "    transforms.ToTensor(),\n",
        "    transforms.Normalize((0.5, 0.5, 0.5), (0.5, 0.5, 0.5))]\n",
        ")\n",
        "\n",
        "# Creating dataset\n",
        "dataset = SVHNDataset(data=mat, transform=transform)\n",
        "dataset_size = len(dataset)\n",
        "indices = list(range(dataset_size))\n",
        "np.random.shuffle(indices)\n",
        "\n",
        "# Train, Validation and Test Split\n",
        "train_size = int(dataset_size*0.70)\n",
        "val_size = int(dataset_size*0.20)\n",
        "test_size = int(dataset_size*0.10)\n",
        "test_index = indices[:test_size]\n",
        "train_index = indices[test_size : test_size+train_size]\n",
        "val_index = indices[-val_size:]\n",
        "\n",
        "# SubsetRandomSampler for train, validation and test\n",
        "train_sampler = SubsetRandomSampler(train_index, generator=g)\n",
        "val_sampler = SubsetRandomSampler(val_index, generator=g)\n",
        "test_sampler = SubsetRandomSampler(test_index, generator=g)\n",
        "\n",
        "# Custom data loaders for all the splits (train, val and test)\n",
        "batch_size=64\n",
        "trainloader = DataLoader(dataset, sampler=train_sampler, batch_size=64,num_workers=2)\n",
        "valloader = DataLoader(dataset, sampler=val_sampler, batch_size=64,num_workers=2)\n",
        "testloader = DataLoader(dataset, sampler=test_sampler, batch_size=64,num_workers=2)"
      ],
      "metadata": {
        "id": "c8SKWYvBCJRt"
      },
      "execution_count": null,
      "outputs": []
    },
    {
      "cell_type": "code",
      "execution_count": null,
      "metadata": {
        "id": "oBbr_U0JXVxE"
      },
      "outputs": [],
      "source": [
        "from torchvision.models import ResNet18_Weights\n",
        "\n",
        "class ResNet18(torch.nn.Module):\n",
        "    def __init__(self):\n",
        "        super(ResNet18, self).__init__()\n",
        "        self.model = models.resnet18(weights=ResNet18_Weights.DEFAULT)\n",
        "        self.feature_extractor = torch.nn.Sequential(*list(self.model.children())[:-1])\n",
        "        self.fc = nn.Linear(self.model.fc.in_features, 10)\n",
        "\n",
        "    def forward(self, x):\n",
        "        x = self.feature_extractor(x)\n",
        "        x = torch.reshape(x, (batch_size, self.model.fc.in_features))\n",
        "        x = self.fc(x)\n",
        "        return x\n",
        "\n",
        "    def forward_backbone(self, x):\n",
        "        x = self.feature_extractor(x)\n",
        "        x = torch.reshape(x, (batch_size, self.model.fc.in_features))\n",
        "        return x"
      ]
    },
    {
      "cell_type": "code",
      "execution_count": null,
      "metadata": {
        "id": "Mq3mYoIFXX6J",
        "colab": {
          "base_uri": "https://localhost:8080/",
          "height": 66,
          "referenced_widgets": [
            "2f077b18241d45a4b64639cce434c9ee",
            "98e92864bbfb4364aca6e4f8ae3eba67",
            "fdd63743868c48a488b1347b504da3c7",
            "742375feef1646018e36fb0e2522a176",
            "a8130770044b4fb08e0ece1c417883fa",
            "3d4839f4a8714813baf97a7a9e9ae397",
            "daf0cd6011564d188b16ced15614d10b",
            "a943b457a2e94b98acc52900bbdf0156",
            "ec278afba0564c708855d44f3bb63d49",
            "29c3c68b1e704c2e88ac4b26e2501b11",
            "51906c43546641e48c95a5fcc37ab1e0"
          ]
        },
        "outputId": "c8acf8f6-1052-4c7b-b1b9-75ea41900533"
      },
      "outputs": [
        {
          "output_type": "stream",
          "name": "stderr",
          "text": [
            "Downloading: \"https://download.pytorch.org/models/resnet18-f37072fd.pth\" to /root/.cache/torch/hub/checkpoints/resnet18-f37072fd.pth\n"
          ]
        },
        {
          "output_type": "display_data",
          "data": {
            "text/plain": [
              "  0%|          | 0.00/44.7M [00:00<?, ?B/s]"
            ],
            "application/vnd.jupyter.widget-view+json": {
              "version_major": 2,
              "version_minor": 0,
              "model_id": "2f077b18241d45a4b64639cce434c9ee"
            }
          },
          "metadata": {}
        }
      ],
      "source": [
        "# Load the pre-trained ResNet-18 model\n",
        "resnet18model = ResNet18()\n",
        "\n",
        "# Define the loss function and optimizer\n",
        "criterion = nn.CrossEntropyLoss()\n",
        "optimizer = optim.Adam(resnet18model.parameters(), lr=0.001, weight_decay=1e-3)"
      ]
    },
    {
      "cell_type": "code",
      "execution_count": null,
      "metadata": {
        "colab": {
          "base_uri": "https://localhost:8080/"
        },
        "id": "9_kQGnyJrf-n",
        "outputId": "3de5255b-fefe-4888-ecb6-3fed9bd5f89c"
      },
      "outputs": [
        {
          "output_type": "stream",
          "name": "stdout",
          "text": [
            "Epoch:  1\n",
            "Training Loss: 0.3474,  Training Accuracy: 89.9306\n",
            "Validation Loss: 0.3372,  Validation Accuracy: 90.1042\n",
            "Epoch:  2\n",
            "Training Loss: 0.3184,  Training Accuracy: 90.7830\n",
            "Validation Loss: 0.3883,  Validation Accuracy: 88.4937\n",
            "Finished Training\n"
          ]
        }
      ],
      "source": [
        "n_dim_feature_vectors_train = []\n",
        "n_dim_feature_vectors_val = []\n",
        "epochs = 2\n",
        "\n",
        "for epoch in range(epochs):\n",
        "    print('Epoch: ', epoch+1)\n",
        "    \n",
        "    # Training of the resnet18model\n",
        "    train_loss, correct, total = 0, 0, 0\n",
        "    for i, data in enumerate(trainloader, 0):\n",
        "        if i == len(trainloader)-1: break\n",
        "        inputs, labels = data\n",
        "        # inputs, labels = inputs.to(device), labels.to(device)\n",
        "        optimizer.zero_grad()\n",
        "        outputs = resnet18model(inputs)\n",
        "        loss = criterion(outputs, labels)\n",
        "        loss.backward()\n",
        "        optimizer.step()\n",
        "        train_loss += loss.item()\n",
        "        total += labels.size(0)\n",
        "        _, predicted = torch.max(outputs.data, 1)\n",
        "        correct += (predicted == labels).sum().item()\n",
        "    train_accuracy = 100 * correct / total\n",
        "    print(\"Training Loss: {:.4f},  Training Accuracy: {:.4f}\".format(train_loss / len(trainloader), train_accuracy))\n",
        "\n",
        "    # Evaluate the resnet18model on validation set\n",
        "    correct, total, val_loss = 0, 0, 0\n",
        "    with torch.no_grad():\n",
        "        for i, data in enumerate(valloader, 0):\n",
        "            if i == len(valloader)-1: break\n",
        "            inputs, labels = data\n",
        "            # inputs, labels = inputs.to(device), labels.to(device)\n",
        "            outputs = resnet18model(inputs)\n",
        "            val_loss += criterion(outputs, labels).item()\n",
        "            _, predicted = torch.max(outputs.data, 1)\n",
        "            total += labels.size(0)\n",
        "            correct += (predicted == labels).sum().item()\n",
        "    val_accuracy = 100 * correct / total\n",
        "    print(\"Validation Loss: {:.4f},  Validation Accuracy: {:.4f}\".format(val_loss/ len(valloader), val_accuracy))\n",
        "\n",
        "print('Finished Training')"
      ]
    },
    {
      "cell_type": "code",
      "source": [
        "import pickle \n",
        "with open('resnet18.pickle', 'wb') as pickle_out: \n",
        "    pickle.dump(resnet18model, pickle_out)"
      ],
      "metadata": {
        "id": "LD4NS4Oplr-H"
      },
      "execution_count": null,
      "outputs": []
    },
    {
      "cell_type": "code",
      "source": [
        "import pickle\n",
        "with open('resnet18.pickle', 'rb') as pickle_in:\n",
        "    resnet18model = pickle.load(pickle_in)\n",
        "    # print(resnet18model)"
      ],
      "metadata": {
        "id": "zkhxMkgf7_S-"
      },
      "execution_count": null,
      "outputs": []
    },
    {
      "cell_type": "code",
      "source": [
        "train_features, train_labels = [], []\n",
        "val_features, val_labels = [], []\n",
        "\n",
        "for i, data in enumerate(trainloader, 0):\n",
        "        if i == 200: break\n",
        "        inputs, labels = data\n",
        "        features = resnet18model.forward_backbone(inputs)\n",
        "        train_features.append(features.detach().numpy())\n",
        "        train_labels.append(labels.detach().numpy())\n",
        "train_features = np.concatenate(train_features, axis=0)\n",
        "train_labels = np.concatenate(train_labels, axis=0)\n",
        "\n",
        "for i, data in enumerate(valloader, 0):\n",
        "    if i == 200: break\n",
        "    inputs, labels = data\n",
        "    features = resnet18model.forward_backbone(inputs)\n",
        "    val_features.append(features.detach().numpy())\n",
        "    val_labels.append(labels.detach().numpy())\n",
        "val_features = np.concatenate(val_features, axis=0)\n",
        "val_labels = np.concatenate(val_labels, axis=0)"
      ],
      "metadata": {
        "id": "MHxqo0nsa2x8"
      },
      "execution_count": null,
      "outputs": []
    },
    {
      "cell_type": "code",
      "source": [
        "train_features.shape, train_labels.shape, val_features.shape, val_labels.shape"
      ],
      "metadata": {
        "colab": {
          "base_uri": "https://localhost:8080/"
        },
        "id": "1ICAlSWLKsLI",
        "outputId": "ff33bf45-63d7-4d96-8907-bb6905cbbb11"
      },
      "execution_count": null,
      "outputs": [
        {
          "output_type": "execute_result",
          "data": {
            "text/plain": [
              "((12800, 512), (12800,), (12800, 512), (12800,))"
            ]
          },
          "metadata": {},
          "execution_count": 13
        }
      ]
    },
    {
      "cell_type": "code",
      "source": [
        "from sklearn.manifold import TSNE\n",
        "\n",
        "# 2-D t-SNE plot of the feature vectors of the validation set\n",
        "tsne = TSNE(n_components=2)\n",
        "tsne_result_train_2D = tsne.fit_transform(np.array(train_features))\n",
        "\n",
        "plt.scatter(tsne_result_train_2D[:, 0], tsne_result_train_2D[:, 1], c=np.array(train_labels), cmap=plt.cm.get_cmap('tab10', len(np.unique(train_labels))))\n",
        "plt.title('2-D TSNE plot for feature vectors of the Training set')\n",
        "plt.colorbar()\n",
        "plt.show()"
      ],
      "metadata": {
        "colab": {
          "base_uri": "https://localhost:8080/",
          "height": 281
        },
        "id": "yvr3uwEyMTcU",
        "outputId": "22eb32fa-1353-4b73-b0ef-c9600cb61161"
      },
      "execution_count": null,
      "outputs": [
        {
          "output_type": "display_data",
          "data": {
            "text/plain": [
              "<Figure size 432x288 with 2 Axes>"
            ],
            "image/png": "[encoded data removed]"
          },
          "metadata": {}
        }
      ]
    },
    {
      "cell_type": "code",
      "execution_count": null,
      "metadata": {
        "colab": {
          "base_uri": "https://localhost:8080/",
          "height": 281
        },
        "id": "_A1SQu2wbKqn",
        "outputId": "8b730d24-297e-4313-e391-cb7298bc6417"
      },
      "outputs": [
        {
          "output_type": "display_data",
          "data": {
            "text/plain": [
              "<Figure size 432x288 with 2 Axes>"
            ],
            "image/png": "[encoded data removed]"
          },
          "metadata": {}
        }
      ],
      "source": [
        "from sklearn.manifold import TSNE\n",
        "\n",
        "# 2-D t-SNE plot of the feature vectors of the validation set\n",
        "tsne = TSNE(n_components=2)\n",
        "tsne_result_val_2D = tsne.fit_transform(np.array(val_features))\n",
        "\n",
        "plt.scatter(tsne_result_val_2D[:, 0], tsne_result_val_2D[:, 1], c=np.array(val_labels), cmap=plt.cm.get_cmap('tab10', len(np.unique(val_labels))))\n",
        "# plt.scatter(tsne_result_val_2D[:, 0], tsne_result_val_2D[:, 1])\n",
        "plt.title('2-D TSNE plot for feature vectors of the Validation set')\n",
        "plt.colorbar()\n",
        "plt.show()"
      ]
    },
    {
      "cell_type": "code",
      "execution_count": null,
      "metadata": {
        "colab": {
          "base_uri": "https://localhost:8080/",
          "height": 314
        },
        "id": "Gek0XBFaciPh",
        "outputId": "ec4fa041-5af8-408e-e92d-c301d92040ac"
      },
      "outputs": [
        {
          "output_type": "stream",
          "name": "stdout",
          "text": [
            "3-D TSNE plot for feature vectors of the Validation set\n"
          ]
        },
        {
          "output_type": "display_data",
          "data": {
            "text/plain": [
              "<Figure size 432x288 with 1 Axes>"
            ],
            "image/png": "[encoded data removed]"
          },
          "metadata": {}
        }
      ],
      "source": [
        "# Project the feature vectors into 3D using t-SNE\n",
        "tsne_3D = TSNE(n_components=3)\n",
        "tsne_result_val_3D = tsne_3D.fit_transform(np.array(val_features))\n",
        "\n",
        "\n",
        "# Plot the t-SNE results in 3D (using matplotlib's mplot3d toolkit)\n",
        "from mpl_toolkits.mplot3d import Axes3D\n",
        "fig = plt.figure()\n",
        "ax = fig.add_subplot(111, projection='3d')\n",
        "scat_plot = ax.scatter(tsne_result_val_3D[:, 0], tsne_result_val_3D[:, 1],  tsne_result_val_3D[:, 2], c=val_labels, cmap=plt.cm.get_cmap('tab10', 10))\n",
        "ax.set_title('3-D TSNE plot for feature vectors of the Validation set')\n",
        "legend = ax.legend(*scat_plot.legend_elements(), title=\"Labels\")\n",
        "ax.add_artist(legend)\n",
        "plt.tight_layout()\n",
        "print('3-D TSNE plot for feature vectors of the Validation set')\n",
        "plt.show()"
      ]
    },
    {
      "cell_type": "code",
      "execution_count": null,
      "metadata": {
        "id": "Lf49O7opBrDk"
      },
      "outputs": [],
      "source": [
        "Part 3 Done..."
      ]
    },
    {
      "cell_type": "markdown",
      "metadata": {
        "id": "5mMYCtq9S8K_"
      },
      "source": [
        "# **Q1 Part-4  Data augmentation techniques**"
      ]
    },
    {
      "cell_type": "markdown",
      "metadata": {
        "id": "NZ0ypNv7TFDJ"
      },
      "source": [
        "## **Q4 (a)** *Use any 3 (or more) Data Augmentation techniques that are suitable for this problem. Remember that data augmentation techniques are used for synthetically adding more training data so that the model can train on more variety of data samples.*"
      ]
    },
    {
      "cell_type": "code",
      "execution_count": null,
      "metadata": {
        "id": "ly3pn_mz5cFk"
      },
      "outputs": [],
      "source": [
        "class SVHNDataset(Dataset):\n",
        "    def __init__(self, data, ind, transform1=None, transform2=None):\n",
        "        self.images = data['X'][:,:,:,ind]\n",
        "        self.labels = data['y'][ind]\n",
        "        self.transform1 = transform1\n",
        "        self.transform2 = transform2\n",
        "    \n",
        "    def __len__(self):\n",
        "        return len(self.images[0][0][0])\n",
        "    \n",
        "    def __getitem__(self, idx, test=False):\n",
        "        img_data = self.images[:,:,:,idx].copy()\n",
        "        img_label = self.labels[idx].copy()\n",
        "        if  self.transform1 and  np.random.choice(2, 1) == 1:\n",
        "            img_data = self.transform1(img_data)\n",
        "        else:\n",
        "            img_data = self.transform2(img_data)\n",
        "        return img_data, img_label[0]"
      ]
    },
    {
      "cell_type": "code",
      "execution_count": null,
      "metadata": {
        "colab": {
          "base_uri": "https://localhost:8080/"
        },
        "id": "i9f0Eic3TD2U",
        "outputId": "13730407-8ec9-4058-d9ad-46272cf4693a"
      },
      "outputs": [
        {
          "output_type": "stream",
          "name": "stdout",
          "text": [
            "802 229 115\n"
          ]
        }
      ],
      "source": [
        "transform1 = transforms.Compose([\n",
        "    transforms.ToPILImage(),\n",
        "    transforms.RandomHorizontalFlip(),\n",
        "    transforms.RandomRotation(degrees=10),\n",
        "    transforms.RandomCrop(size=(32, 32), padding=4),\n",
        "    transforms.ToTensor(),\n",
        "    transforms.Normalize(mean=[0.5, 0.5, 0.5], std=[0.5, 0.5, 0.5])]\n",
        ")\n",
        "transform2 = transforms.Compose([\n",
        "    transforms.ToTensor(),\n",
        "    transforms.Normalize(mean=[0.5, 0.5, 0.5], std=[0.5, 0.5, 0.5])]\n",
        ")\n",
        "\n",
        "# Creating dataset\n",
        "dataset_size = len(mat['X'][0][0][0])\n",
        "indices = list(range(dataset_size))\n",
        "np.random.shuffle(indices)\n",
        "train_size = int(dataset_size*0.70)\n",
        "val_size = int(dataset_size*0.20)\n",
        "test_size = int(dataset_size*0.10)\n",
        "train_index = indices[test_size : test_size+train_size]\n",
        "val_index = indices[-val_size:]\n",
        "test_index = indices[:test_size]\n",
        "\n",
        "# Train, Val, Test data split\n",
        "train_data = SVHNDataset(data=mat, ind=train_index, transform1=transform1, transform2=transform2)\n",
        "val_data = SVHNDataset(data=mat, ind=val_index, transform1=transform1, transform2=transform2)\n",
        "test_data = SVHNDataset(data=mat, ind=test_index, transform1=transform2, transform2=transform2)\n",
        "\n",
        "# Custom data loaders for all the splits (train, val and test)\n",
        "batch_size = 64\n",
        "trainloader_aug = DataLoader(train_data, batch_size=batch_size,num_workers=2)\n",
        "valloader_aug = DataLoader(val_data, batch_size=batch_size,num_workers=2)\n",
        "testloader_aug = DataLoader(test_data, batch_size=batch_size,num_workers=2)\n",
        "\n",
        "print(len(trainloader_aug), len(valloader_aug), len(testloader_aug))"
      ]
    },
    {
      "cell_type": "markdown",
      "metadata": {
        "id": "pKea7WmM0GEo"
      },
      "source": [
        "## **Q4 (b)**  *Follow the same steps as in Question 1.3.(a) to train the model.*"
      ]
    },
    {
      "cell_type": "code",
      "execution_count": null,
      "metadata": {
        "id": "Tw7cpPYBsQUO"
      },
      "outputs": [],
      "source": [
        "# Load the pre-trained ResNet-18 model\n",
        "model = models.resnet18(pretrained=True)\n",
        "\n",
        "# Freeze none of layers\n",
        "for param in model.parameters():\n",
        "    param.requires_grad = True\n",
        "model.fc.requires_grad = True\n",
        "\n",
        "# Replace the last fully connected layer with a new one with the desired number of classes\n",
        "model.fc = nn.Linear(model.fc.in_features, 10)\n",
        "\n",
        "# Define the loss function and optimizer\n",
        "lr = 0.001\n",
        "epochs = 5\n",
        "criterion = nn.CrossEntropyLoss()\n",
        "optimizer = optim.Adam(model.parameters(), lr=lr, weight_decay=1e-3)"
      ]
    },
    {
      "cell_type": "code",
      "execution_count": null,
      "metadata": {
        "colab": {
          "base_uri": "https://localhost:8080/",
          "height": 104
        },
        "id": "hfI6JXg-2f53",
        "outputId": "24e4b1b4-3f04-4aa7-b85e-a115655a96f4"
      },
      "outputs": [
        {
          "output_type": "display_data",
          "data": {
            "text/plain": [
              "<IPython.core.display.HTML object>"
            ],
            "text/html": [
              "Tracking run with wandb version 0.13.10"
            ]
          },
          "metadata": {}
        },
        {
          "output_type": "display_data",
          "data": {
            "text/plain": [
              "<IPython.core.display.HTML object>"
            ],
            "text/html": [
              "Run data is saved locally in <code>/content/wandb/run-20230217_080105-9yq41sq2</code>"
            ]
          },
          "metadata": {}
        },
        {
          "output_type": "display_data",
          "data": {
            "text/plain": [
              "<IPython.core.display.HTML object>"
            ],
            "text/html": [
              "Syncing run <strong><a href='https://wandb.ai/cv_assignment/Assignment-1/runs/9yq41sq2' target=\"_blank\">Q1-Part4</a></strong> to <a href='https://wandb.ai/cv_assignment/Assignment-1' target=\"_blank\">Weights & Biases</a> (<a href='https://wandb.me/run' target=\"_blank\">docs</a>)<br/>"
            ]
          },
          "metadata": {}
        },
        {
          "output_type": "display_data",
          "data": {
            "text/plain": [
              "<IPython.core.display.HTML object>"
            ],
            "text/html": [
              " View project at <a href='https://wandb.ai/cv_assignment/Assignment-1' target=\"_blank\">https://wandb.ai/cv_assignment/Assignment-1</a>"
            ]
          },
          "metadata": {}
        },
        {
          "output_type": "display_data",
          "data": {
            "text/plain": [
              "<IPython.core.display.HTML object>"
            ],
            "text/html": [
              " View run at <a href='https://wandb.ai/cv_assignment/Assignment-1/runs/9yq41sq2' target=\"_blank\">https://wandb.ai/cv_assignment/Assignment-1/runs/9yq41sq2</a>"
            ]
          },
          "metadata": {}
        }
      ],
      "source": [
        "wandb.init(entity=\"cv_assignment\", project=\"Assignment-1\",name=\"Q1-Part4\")\n",
        "wandb.config = {\"learning_rate\": lr , \"epochs\": epochs, \"batch_size\": batch_size}  "
      ]
    },
    {
      "cell_type": "code",
      "execution_count": null,
      "metadata": {
        "colab": {
          "base_uri": "https://localhost:8080/"
        },
        "id": "IgUWXFgA2oZr",
        "outputId": "5958d239-0581-4eae-dff3-ce2ed9a0c8f7"
      },
      "outputs": [
        {
          "output_type": "stream",
          "name": "stdout",
          "text": [
            "Epoch:  1\n",
            "Training Loss: 0.9498,  Training Accuracy: 68.9171\n",
            "Validation Loss: 0.6385,  Validation Accuracy: 79.7215\n",
            "Epoch:  2\n",
            "Training Loss: 0.6036,  Training Accuracy: 81.1989\n",
            "Validation Loss: 0.5247,  Validation Accuracy: 83.7144\n",
            "Epoch:  3\n",
            "Training Loss: 0.5254,  Training Accuracy: 83.9057\n",
            "Validation Loss: 0.4854,  Validation Accuracy: 85.0317\n",
            "Epoch:  4\n",
            "Training Loss: 0.4879,  Training Accuracy: 85.1440\n",
            "Validation Loss: 0.4664,  Validation Accuracy: 85.9873\n",
            "Finished Training\n"
          ]
        }
      ],
      "source": [
        "epochs = 4\n",
        "\n",
        "# Train the model\n",
        "for epoch in range(epochs):\n",
        "    print('Epoch: ', epoch+1)\n",
        "    train_loss = 0.0\n",
        "    correct = 0\n",
        "    total = 0\n",
        "    for i, data in enumerate(trainloader_aug, 0):\n",
        "        inputs, labels = data\n",
        "        optimizer.zero_grad()\n",
        "        outputs = model(inputs)\n",
        "        loss = criterion(outputs, labels)\n",
        "        loss.backward()\n",
        "        optimizer.step()\n",
        "        train_loss += loss.item()\n",
        "        total += labels.size(0)\n",
        "        _, predicted = torch.max(outputs.data, 1)\n",
        "        correct += (predicted == labels).sum().item()\n",
        "    train_accuracy = 100 * correct / total\n",
        "    print(\"Training Loss: {:.4f},  Training Accuracy: {:.4f}\".format(train_loss / len(trainloader_aug), train_accuracy))\n",
        "\n",
        "    # Evaluate the model on validation set\n",
        "    correct = 0\n",
        "    total = 0\n",
        "    val_loss = 0.0\n",
        "    with torch.no_grad():\n",
        "        for data in valloader_aug:\n",
        "            inputs, labels = data\n",
        "            outputs = model(inputs)\n",
        "            val_loss += criterion(outputs, labels).item()\n",
        "            _, predicted = torch.max(outputs.data, 1)\n",
        "            total += labels.size(0)\n",
        "            correct += (predicted == labels).sum().item()\n",
        "    val_accuracy = 100 * correct / total\n",
        "    print(\"Validation Loss: {:.4f},  Validation Accuracy: {:.4f}\".format(val_loss/ len(valloader_aug), val_accuracy))\n",
        "\n",
        "    # Log the loss and accuracy to W&B\n",
        "    wandb.log({'training_loss': train_loss / len(trainloader_aug), 'validation_loss': val_loss / len(valloader_aug),\n",
        "               'training_accuracy': train_accuracy, 'validation_accuracy': val_accuracy})\n",
        "\n",
        "print('Finished Training')"
      ]
    },
    {
      "cell_type": "markdown",
      "metadata": {
        "id": "LcC7hmld721s"
      },
      "source": [
        "## **Q4 (c)** *Report the Accuracy and F1-Score on the test set. Also, log the confusion matrix using wandb.*"
      ]
    },
    {
      "cell_type": "code",
      "execution_count": null,
      "metadata": {
        "id": "aqOFkqgg8BgT",
        "colab": {
          "base_uri": "https://localhost:8080/"
        },
        "outputId": "a5b84fe1-735b-4f82-98e2-45577954c260"
      },
      "outputs": [
        {
          "output_type": "stream",
          "name": "stdout",
          "text": [
            "Test set accuracy: 88.20%\n",
            "Test set F1-score: 0.8768\n"
          ]
        }
      ],
      "source": [
        "from sklearn.metrics import confusion_matrix, f1_score\n",
        "\n",
        "# Evaluate the model on test set\n",
        "correct, total = 0, 0\n",
        "x_test_img = []\n",
        "y_test_true = []\n",
        "y_test_pred = []\n",
        "with torch.no_grad():\n",
        "    for data in testloader_aug:\n",
        "        inputs, labels = data\n",
        "        outputs = model(inputs)\n",
        "        _, predicted = torch.max(outputs.data, 1)\n",
        "        total += labels.size(0)\n",
        "        correct += (predicted == labels).sum().item()\n",
        "        x_test_img.extend(inputs.numpy().tolist())\n",
        "        y_test_true.extend(labels.numpy().tolist())\n",
        "        y_test_pred.extend(predicted.numpy().tolist())\n",
        "test_accuracy = 100 * correct / total\n",
        "print(\"Test set accuracy: {:.2f}%\".format(test_accuracy))\n",
        "\n",
        "# Compute the F1-score on testing set\n",
        "f1 = f1_score(y_test_true, y_test_pred, average='macro')\n",
        "print(\"Test set F1-score: {:.4f}\".format(f1))\n",
        "\n",
        "# Compute the confusion matrix for the Predictions\n",
        "cm = confusion_matrix(y_test_true, y_test_pred)\n",
        "\n",
        "# Logging the confusion matrix to W&B\n",
        "wandb.log({'confusion_matrix': wandb.Image(cm, caption='Confusion Matrix')})"
      ]
    },
    {
      "cell_type": "code",
      "execution_count": null,
      "metadata": {
        "id": "4RxWU_-f8Fmy",
        "colab": {
          "base_uri": "https://localhost:8080/",
          "height": 267
        },
        "outputId": "241706ea-7a92-4613-be45-29447de9f6b4"
      },
      "outputs": [
        {
          "output_type": "display_data",
          "data": {
            "text/plain": [
              "<IPython.core.display.HTML object>"
            ],
            "text/html": [
              "Waiting for W&B process to finish... <strong style=\"color:green\">(success).</strong>"
            ]
          },
          "metadata": {}
        },
        {
          "output_type": "display_data",
          "data": {
            "text/plain": [
              "<IPython.core.display.HTML object>"
            ],
            "text/html": [
              "<style>\n",
              "    table.wandb td:nth-child(1) { padding: 0 10px; text-align: left ; width: auto;} td:nth-child(2) {text-align: left ; width: 100%}\n",
              "    .wandb-row { display: flex; flex-direction: row; flex-wrap: wrap; justify-content: flex-start; width: 100% }\n",
              "    .wandb-col { display: flex; flex-direction: column; flex-basis: 100%; flex: 1; padding: 10px; }\n",
              "    </style>\n",
              "<div class=\"wandb-row\"><div class=\"wandb-col\"><h3>Run history:</h3><br/><table class=\"wandb\"><tr><td>training_accuracy</td><td>▁▆▇█</td></tr><tr><td>training_loss</td><td>█▃▂▁</td></tr><tr><td>validation_accuracy</td><td>▁▅▇█</td></tr><tr><td>validation_loss</td><td>█▃▂▁</td></tr></table><br/></div><div class=\"wandb-col\"><h3>Run summary:</h3><br/><table class=\"wandb\"><tr><td>training_accuracy</td><td>85.14402</td></tr><tr><td>training_loss</td><td>0.48788</td></tr><tr><td>validation_accuracy</td><td>85.9873</td></tr><tr><td>validation_loss</td><td>0.46641</td></tr></table><br/></div></div>"
            ]
          },
          "metadata": {}
        },
        {
          "output_type": "display_data",
          "data": {
            "text/plain": [
              "<IPython.core.display.HTML object>"
            ],
            "text/html": [
              " View run <strong style=\"color:#cdcd00\">Q1-Part4</strong> at: <a href='https://wandb.ai/cv_assignment/Assignment-1/runs/9yq41sq2' target=\"_blank\">https://wandb.ai/cv_assignment/Assignment-1/runs/9yq41sq2</a><br/>Synced 5 W&B file(s), 1 media file(s), 2 artifact file(s) and 0 other file(s)"
            ]
          },
          "metadata": {}
        },
        {
          "output_type": "display_data",
          "data": {
            "text/plain": [
              "<IPython.core.display.HTML object>"
            ],
            "text/html": [
              "Find logs at: <code>./wandb/run-20230217_080105-9yq41sq2/logs</code>"
            ]
          },
          "metadata": {}
        }
      ],
      "source": [
        "# ✨ W&B: Save Model\n",
        "torch.save(model, 'resnet18model_q1_4b.pt')\n",
        "torch.save(model.state_dict(),\"resnet18_q1_4b.pth\")\n",
        "artifact = wandb.Artifact('model', type='model')\n",
        "artifact.add_file('resnet18model_q1_4b.pt')\n",
        "artifact.add_file('resnet18_q1_4b.pth')\n",
        "wandb.log_artifact(artifact)\n",
        "wandb.finish()"
      ]
    },
    {
      "cell_type": "markdown",
      "source": [
        "# **Q1 Part-6** *Compare and comment on the performance of all three models.*"
      ],
      "metadata": {
        "id": "W9gI994Jv_34"
      }
    },
    {
      "cell_type": "markdown",
      "source": [
        "**CNN Model**\n",
        "\n",
        "<div>\n",
        "Training Accuracy: 85.7213<br>\n",
        "Validation Accuracy: 83.9943<br>\n",
        "Testset accuracy: 84.45%<br>\n",
        "Testset F1-score: 0.8316<br>\n",
        "</div>\n",
        "<br>\n",
        "\n",
        "\n",
        "\n",
        "**Resnet-18 Model**\n",
        "<div>\n",
        "Training Accuracy: 91.1114<br>\n",
        "Validation Accuracy: 89.8778<br>\n",
        "Test set accuracy: 90.63%<br>\n",
        "Test set F1-score: 0.9000<br>\n",
        "</div>\n",
        "<br>\n",
        "\n",
        "\n",
        "\n",
        "**Resnet-18 Model with Data augmentation**\n",
        "<div>\n",
        "Training Accuracy: 85.1440<br>\n",
        "Validation Accuracy: 85.9873<br>\n",
        "Test set accuracy: 88.20%<br>\n",
        " Test set F1-score: 0.8768<br>\n",
        "</div>\n",
        "\n",
        "\n",
        "\n"
      ],
      "metadata": {
        "id": "nePqCs5UwIf_"
      }
    },
    {
      "cell_type": "markdown",
      "source": [
        "The best model for the Image classification task is Resnet18 model architecture (without data augmentation). This is beacuse Resnet18 is a pretatined model and has a better deeper architecture than our Custom CNN. \n",
        "Resnet 18 with data augmentation modify the input images, so it makes the input images somewhat harder to classify and hence the performance with data augmentation is somewhat lesser."
      ],
      "metadata": {
        "id": "iihc5exSyPuC"
      }
    },
    {
      "cell_type": "code",
      "source": [],
      "metadata": {
        "id": "QL2sjcRpwHGq"
      },
      "execution_count": null,
      "outputs": []
    }
  ],
  "metadata": {
    "accelerator": "TPU",
    "colab": {
      "collapsed_sections": [
        "Hj7en02tkHRH",
        "jTjs3qlqkHRN",
        "N8V-F4o0kHRO",
        "WuGKtLbVkHRU",
        "1jXAckkvkHRW",
        "Xk_PmGrWkHRX",
        "B39aZmOhkHRX",
        "zyI3Y9iBRLMN",
        "Q2d7PZ2zfnEc",
        "Z4rjPb2FA3ad",
        "_p7AWfNtOwHW",
        "5mMYCtq9S8K_",
        "NZ0ypNv7TFDJ",
        "pKea7WmM0GEo",
        "LcC7hmld721s"
      ],
      "provenance": []
    },
    "gpuClass": "standard",
    "kernelspec": {
      "display_name": "Python 3",
      "language": "python",
      "name": "python3"
    },
    "language_info": {
      "codemirror_mode": {
        "name": "ipython",
        "version": 3
      },
      "file_extension": ".py",
      "mimetype": "text/x-python",
      "name": "python",
      "nbconvert_exporter": "python",
      "pygments_lexer": "ipython3",
      "version": "3.10.1"
    },
    "vscode": {
      "interpreter": {
        "hash": "4f91e35da70fd7a53ceee9ab287ed040d81eb2ccfac088551011048c25bbd6e1"
      }
    },
    "widgets": {
      "application/vnd.jupyter.widget-state+json": {
        "2f077b18241d45a4b64639cce434c9ee": {
          "model_module": "@jupyter-widgets/controls",
          "model_name": "HBoxModel",
          "model_module_version": "1.5.0",
          "state": {
            "_dom_classes": [],
            "_model_module": "@jupyter-widgets/controls",
            "_model_module_version": "1.5.0",
            "_model_name": "HBoxModel",
            "_view_count": null,
            "_view_module": "@jupyter-widgets/controls",
            "_view_module_version": "1.5.0",
            "_view_name": "HBoxView",
            "box_style": "",
            "children": [
              "IPY_MODEL_98e92864bbfb4364aca6e4f8ae3eba67",
              "IPY_MODEL_fdd63743868c48a488b1347b504da3c7",
              "IPY_MODEL_742375feef1646018e36fb0e2522a176"
            ],
            "layout": "IPY_MODEL_a8130770044b4fb08e0ece1c417883fa"
          }
        },
        "98e92864bbfb4364aca6e4f8ae3eba67": {
          "model_module": "@jupyter-widgets/controls",
          "model_name": "HTMLModel",
          "model_module_version": "1.5.0",
          "state": {
            "_dom_classes": [],
            "_model_module": "@jupyter-widgets/controls",
            "_model_module_version": "1.5.0",
            "_model_name": "HTMLModel",
            "_view_count": null,
            "_view_module": "@jupyter-widgets/controls",
            "_view_module_version": "1.5.0",
            "_view_name": "HTMLView",
            "description": "",
            "description_tooltip": null,
            "layout": "IPY_MODEL_3d4839f4a8714813baf97a7a9e9ae397",
            "placeholder": "​",
            "style": "IPY_MODEL_daf0cd6011564d188b16ced15614d10b",
            "value": "100%"
          }
        },
        "fdd63743868c48a488b1347b504da3c7": {
          "model_module": "@jupyter-widgets/controls",
          "model_name": "FloatProgressModel",
          "model_module_version": "1.5.0",
          "state": {
            "_dom_classes": [],
            "_model_module": "@jupyter-widgets/controls",
            "_model_module_version": "1.5.0",
            "_model_name": "FloatProgressModel",
            "_view_count": null,
            "_view_module": "@jupyter-widgets/controls",
            "_view_module_version": "1.5.0",
            "_view_name": "ProgressView",
            "bar_style": "success",
            "description": "",
            "description_tooltip": null,
            "layout": "IPY_MODEL_a943b457a2e94b98acc52900bbdf0156",
            "max": 46830571,
            "min": 0,
            "orientation": "horizontal",
            "style": "IPY_MODEL_ec278afba0564c708855d44f3bb63d49",
            "value": 46830571
          }
        },
        "742375feef1646018e36fb0e2522a176": {
          "model_module": "@jupyter-widgets/controls",
          "model_name": "HTMLModel",
          "model_module_version": "1.5.0",
          "state": {
            "_dom_classes": [],
            "_model_module": "@jupyter-widgets/controls",
            "_model_module_version": "1.5.0",
            "_model_name": "HTMLModel",
            "_view_count": null,
            "_view_module": "@jupyter-widgets/controls",
            "_view_module_version": "1.5.0",
            "_view_name": "HTMLView",
            "description": "",
            "description_tooltip": null,
            "layout": "IPY_MODEL_29c3c68b1e704c2e88ac4b26e2501b11",
            "placeholder": "​",
            "style": "IPY_MODEL_51906c43546641e48c95a5fcc37ab1e0",
            "value": " 44.7M/44.7M [00:00&lt;00:00, 83.7MB/s]"
          }
        },
        "a8130770044b4fb08e0ece1c417883fa": {
          "model_module": "@jupyter-widgets/base",
          "model_name": "LayoutModel",
          "model_module_version": "1.2.0",
          "state": {
            "_model_module": "@jupyter-widgets/base",
            "_model_module_version": "1.2.0",
            "_model_name": "LayoutModel",
            "_view_count": null,
            "_view_module": "@jupyter-widgets/base",
            "_view_module_version": "1.2.0",
            "_view_name": "LayoutView",
            "align_content": null,
            "align_items": null,
            "align_self": null,
            "border": null,
            "bottom": null,
            "display": null,
            "flex": null,
            "flex_flow": null,
            "grid_area": null,
            "grid_auto_columns": null,
            "grid_auto_flow": null,
            "grid_auto_rows": null,
            "grid_column": null,
            "grid_gap": null,
            "grid_row": null,
            "grid_template_areas": null,
            "grid_template_columns": null,
            "grid_template_rows": null,
            "height": null,
            "justify_content": null,
            "justify_items": null,
            "left": null,
            "margin": null,
            "max_height": null,
            "max_width": null,
            "min_height": null,
            "min_width": null,
            "object_fit": null,
            "object_position": null,
            "order": null,
            "overflow": null,
            "overflow_x": null,
            "overflow_y": null,
            "padding": null,
            "right": null,
            "top": null,
            "visibility": null,
            "width": null
          }
        },
        "3d4839f4a8714813baf97a7a9e9ae397": {
          "model_module": "@jupyter-widgets/base",
          "model_name": "LayoutModel",
          "model_module_version": "1.2.0",
          "state": {
            "_model_module": "@jupyter-widgets/base",
            "_model_module_version": "1.2.0",
            "_model_name": "LayoutModel",
            "_view_count": null,
            "_view_module": "@jupyter-widgets/base",
            "_view_module_version": "1.2.0",
            "_view_name": "LayoutView",
            "align_content": null,
            "align_items": null,
            "align_self": null,
            "border": null,
            "bottom": null,
            "display": null,
            "flex": null,
            "flex_flow": null,
            "grid_area": null,
            "grid_auto_columns": null,
            "grid_auto_flow": null,
            "grid_auto_rows": null,
            "grid_column": null,
            "grid_gap": null,
            "grid_row": null,
            "grid_template_areas": null,
            "grid_template_columns": null,
            "grid_template_rows": null,
            "height": null,
            "justify_content": null,
            "justify_items": null,
            "left": null,
            "margin": null,
            "max_height": null,
            "max_width": null,
            "min_height": null,
            "min_width": null,
            "object_fit": null,
            "object_position": null,
            "order": null,
            "overflow": null,
            "overflow_x": null,
            "overflow_y": null,
            "padding": null,
            "right": null,
            "top": null,
            "visibility": null,
            "width": null
          }
        },
        "daf0cd6011564d188b16ced15614d10b": {
          "model_module": "@jupyter-widgets/controls",
          "model_name": "DescriptionStyleModel",
          "model_module_version": "1.5.0",
          "state": {
            "_model_module": "@jupyter-widgets/controls",
            "_model_module_version": "1.5.0",
            "_model_name": "DescriptionStyleModel",
            "_view_count": null,
            "_view_module": "@jupyter-widgets/base",
            "_view_module_version": "1.2.0",
            "_view_name": "StyleView",
            "description_width": ""
          }
        },
        "a943b457a2e94b98acc52900bbdf0156": {
          "model_module": "@jupyter-widgets/base",
          "model_name": "LayoutModel",
          "model_module_version": "1.2.0",
          "state": {
            "_model_module": "@jupyter-widgets/base",
            "_model_module_version": "1.2.0",
            "_model_name": "LayoutModel",
            "_view_count": null,
            "_view_module": "@jupyter-widgets/base",
            "_view_module_version": "1.2.0",
            "_view_name": "LayoutView",
            "align_content": null,
            "align_items": null,
            "align_self": null,
            "border": null,
            "bottom": null,
            "display": null,
            "flex": null,
            "flex_flow": null,
            "grid_area": null,
            "grid_auto_columns": null,
            "grid_auto_flow": null,
            "grid_auto_rows": null,
            "grid_column": null,
            "grid_gap": null,
            "grid_row": null,
            "grid_template_areas": null,
            "grid_template_columns": null,
            "grid_template_rows": null,
            "height": null,
            "justify_content": null,
            "justify_items": null,
            "left": null,
            "margin": null,
            "max_height": null,
            "max_width": null,
            "min_height": null,
            "min_width": null,
            "object_fit": null,
            "object_position": null,
            "order": null,
            "overflow": null,
            "overflow_x": null,
            "overflow_y": null,
            "padding": null,
            "right": null,
            "top": null,
            "visibility": null,
            "width": null
          }
        },
        "ec278afba0564c708855d44f3bb63d49": {
          "model_module": "@jupyter-widgets/controls",
          "model_name": "ProgressStyleModel",
          "model_module_version": "1.5.0",
          "state": {
            "_model_module": "@jupyter-widgets/controls",
            "_model_module_version": "1.5.0",
            "_model_name": "ProgressStyleModel",
            "_view_count": null,
            "_view_module": "@jupyter-widgets/base",
            "_view_module_version": "1.2.0",
            "_view_name": "StyleView",
            "bar_color": null,
            "description_width": ""
          }
        },
        "29c3c68b1e704c2e88ac4b26e2501b11": {
          "model_module": "@jupyter-widgets/base",
          "model_name": "LayoutModel",
          "model_module_version": "1.2.0",
          "state": {
            "_model_module": "@jupyter-widgets/base",
            "_model_module_version": "1.2.0",
            "_model_name": "LayoutModel",
            "_view_count": null,
            "_view_module": "@jupyter-widgets/base",
            "_view_module_version": "1.2.0",
            "_view_name": "LayoutView",
            "align_content": null,
            "align_items": null,
            "align_self": null,
            "border": null,
            "bottom": null,
            "display": null,
            "flex": null,
            "flex_flow": null,
            "grid_area": null,
            "grid_auto_columns": null,
            "grid_auto_flow": null,
            "grid_auto_rows": null,
            "grid_column": null,
            "grid_gap": null,
            "grid_row": null,
            "grid_template_areas": null,
            "grid_template_columns": null,
            "grid_template_rows": null,
            "height": null,
            "justify_content": null,
            "justify_items": null,
            "left": null,
            "margin": null,
            "max_height": null,
            "max_width": null,
            "min_height": null,
            "min_width": null,
            "object_fit": null,
            "object_position": null,
            "order": null,
            "overflow": null,
            "overflow_x": null,
            "overflow_y": null,
            "padding": null,
            "right": null,
            "top": null,
            "visibility": null,
            "width": null
          }
        },
        "51906c43546641e48c95a5fcc37ab1e0": {
          "model_module": "@jupyter-widgets/controls",
          "model_name": "DescriptionStyleModel",
          "model_module_version": "1.5.0",
          "state": {
            "_model_module": "@jupyter-widgets/controls",
            "_model_module_version": "1.5.0",
            "_model_name": "DescriptionStyleModel",
            "_view_count": null,
            "_view_module": "@jupyter-widgets/base",
            "_view_module_version": "1.2.0",
            "_view_name": "StyleView",
            "description_width": ""
          }
        }
      }
    }
  },
  "nbformat": 4,
  "nbformat_minor": 0
}