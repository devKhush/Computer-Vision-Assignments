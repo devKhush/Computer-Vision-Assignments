{
  "cells": [
    {
      "cell_type": "markdown",
      "metadata": {
        "id": "Hj7en02tkHRH"
      },
      "source": [
        "# **Khushdev Pandit**\n",
        "# **Roll no: 2020211** \n",
        "# *Assignment Question-1*"
      ]
    },
    {
      "cell_type": "code",
      "execution_count": 1,
      "metadata": {
        "id": "QKVI10UqkHRM"
      },
      "outputs": [],
      "source": [
        "import os\n",
        "from PIL import Image\n",
        "import torch\n",
        "import torch.nn as nn\n",
        "import torchvision\n",
        "import torchvision.transforms as transforms\n",
        "import torchvision.datasets as datasets\n",
        "import torchvision.models as models\n",
        "from torch.utils.data import DataLoader\n",
        "from torch.utils.data import Dataset\n",
        "from torch.utils.data import TensorDataset\n",
        "import torch.optim as optim\n",
        "import matplotlib.pyplot as plt\n",
        "import matplotlib as mpl\n",
        "mpl.rcParams['figure.facecolor'] = 'white'\n",
        "import torch.nn.functional as F\n",
        "import cv2\n",
        "import numpy as np\n",
        "from torch.utils.data.sampler import SubsetRandomSampler\n",
        "import pickle\n",
        "from sklearn import manifold\n",
        "import pandas as pd\n",
        "import seaborn as sns\n",
        "from sklearn.metrics import classification_report"
      ]
    },
    {
      "cell_type": "markdown",
      "metadata": {
        "id": "jTjs3qlqkHRN"
      },
      "source": [
        "# **Q1 Part-1**"
      ]
    },
    {
      "cell_type": "markdown",
      "metadata": {
        "id": "N8V-F4o0kHRO"
      },
      "source": [
        "## **1(a)** *Download train 32x32.mat. Use 20% of the training dataset for validation and 10% for testing Initialize Weights & Biases*"
      ]
    },
    {
      "cell_type": "code",
      "execution_count": 2,
      "metadata": {
        "colab": {
          "base_uri": "https://localhost:8080/"
        },
        "id": "sdzA-Am2kb1f",
        "outputId": "97cb9040-46e0-4e48-c76b-69d08ab5cb35"
      },
      "outputs": [
        {
          "output_type": "stream",
          "name": "stdout",
          "text": [
            "Mounted at /content/drive\n"
          ]
        }
      ],
      "source": [
        "from google.colab import drive\n",
        "drive.mount(\"/content/drive\")"
      ]
    },
    {
      "cell_type": "code",
      "execution_count": 3,
      "metadata": {
        "colab": {
          "base_uri": "https://localhost:8080/"
        },
        "id": "Yrm7AZoskHRP",
        "outputId": "0545fa84-eefd-48b5-8d64-72fa5104f714"
      },
      "outputs": [
        {
          "output_type": "stream",
          "name": "stdout",
          "text": [
            "Keys: dict_keys(['__header__', '__version__', '__globals__', 'X', 'y'])\n",
            "__header__ :  b'MATLAB 5.0 MAT-file, Platform: GLNXA64, Created on: Mon Dec  5 21:09:26 2011'\n",
            "__version__ :  1.0\n",
            "__globals__ :  []\n",
            "Num of images: (73257, 73257)\n"
          ]
        }
      ],
      "source": [
        "import scipy.io\n",
        "path_data = \"/content/drive/MyDrive/ECE344: CV (Computer Vision)/Assignments/Assignment-1/Q1/train_32x32.mat\"\n",
        "mat = scipy.io.loadmat(path_data)\n",
        "\n",
        "print('Keys:', mat.keys())\n",
        "for key in mat.keys():\n",
        "    if key != 'X' and key != 'y':\n",
        "        print(key,': ', mat[key])\n",
        "\n",
        "lenx = len(mat['X'][0][0][0])\n",
        "leny = len(mat['y'])\n",
        "print('Num of images:',(lenx, leny))"
      ]
    },
    {
      "cell_type": "code",
      "execution_count": 4,
      "metadata": {
        "colab": {
          "base_uri": "https://localhost:8080/"
        },
        "id": "G-Bbett2kHRQ",
        "outputId": "a79fd74b-93c9-4aaa-fd18-671df29cc8cf"
      },
      "outputs": [
        {
          "output_type": "stream",
          "name": "stdout",
          "text": [
            "(32, 32, 3)\n",
            "[1]\n"
          ]
        }
      ],
      "source": [
        "print(mat['X'][:,:,:,0].shape)\n",
        "print(mat['y'][0])"
      ]
    },
    {
      "cell_type": "code",
      "execution_count": 5,
      "metadata": {
        "colab": {
          "base_uri": "https://localhost:8080/",
          "height": 303
        },
        "id": "dVaKmBi74zJg",
        "outputId": "30f22563-1c40-480b-c0a0-63a7cc2a8f2f"
      },
      "outputs": [
        {
          "output_type": "stream",
          "name": "stdout",
          "text": [
            "Class/Labels:  [ 1  2  3  4  5  6  7  8  9 10]\n",
            "Labels count distribution\n"
          ]
        },
        {
          "output_type": "display_data",
          "data": {
            "text/plain": [
              "<Figure size 432x288 with 1 Axes>"
            ],
            "image/png": "[encoded data removed]"
          },
          "metadata": {}
        }
      ],
      "source": [
        "print(\"Class/Labels: \", np.unique(mat['y']))\n",
        "print(\"Labels count distribution\")\n",
        "pd.Series(mat['y'][:,0]).value_counts().plot(kind='bar');"
      ]
    },
    {
      "cell_type": "code",
      "execution_count": 6,
      "metadata": {
        "colab": {
          "base_uri": "https://localhost:8080/",
          "height": 297
        },
        "id": "pDhdXKgn4Mj8",
        "outputId": "d6a7fa2e-5770-4554-a986-f2d036711fce"
      },
      "outputs": [
        {
          "output_type": "stream",
          "name": "stdout",
          "text": [
            "Class/Labels:  [0 1 2 3 4 5 6 7 8 9]\n",
            "Labels count distribution\n"
          ]
        },
        {
          "output_type": "display_data",
          "data": {
            "text/plain": [
              "<Figure size 432x288 with 1 Axes>"
            ],
            "image/png": "[encoded data removed]"
          },
          "metadata": {}
        }
      ],
      "source": [
        "indices_10 = (mat['y'] == 10)\n",
        "mat['y'][indices_10] = 0\n",
        "\n",
        "print(\"Class/Labels: \", np.unique(mat['y']))\n",
        "print(\"Labels count distribution\")\n",
        "pd.Series(mat['y'][:,0]).value_counts().plot(kind='bar');"
      ]
    },
    {
      "cell_type": "code",
      "execution_count": 7,
      "metadata": {
        "colab": {
          "base_uri": "https://localhost:8080/"
        },
        "id": "qMXpQX8nkHRR",
        "outputId": "9d61e7b2-cb9b-497e-a7e3-0cc17b55d6e7"
      },
      "outputs": [
        {
          "output_type": "stream",
          "name": "stdout",
          "text": [
            "(51279, 14651, 7325)\n"
          ]
        }
      ],
      "source": [
        "train_size = int(lenx*0.70)\n",
        "val_size = int(lenx*0.20)\n",
        "test_size = int(lenx*0.10)\n",
        "print((train_size, val_size, test_size))"
      ]
    },
    {
      "cell_type": "code",
      "execution_count": 8,
      "metadata": {
        "colab": {
          "base_uri": "https://localhost:8080/",
          "height": 974
        },
        "id": "WGQQqts3kHRS",
        "outputId": "90f1d8d1-ae06-4310-eb48-47606dfae76a"
      },
      "outputs": [
        {
          "output_type": "stream",
          "name": "stdout",
          "text": [
            "Looking in indexes: https://pypi.org/simple, https://us-python.pkg.dev/colab-wheels/public/simple/\n",
            "Collecting wandb\n",
            "  Downloading wandb-0.13.10-py3-none-any.whl (2.0 MB)\n",
            "\u001b[2K     \u001b[90m━━━━━━━━━━━━━━━━━━━━━━━━━━━━━━━━━━━━━━━━\u001b[0m \u001b[32m2.0/2.0 MB\u001b[0m \u001b[31m23.3 MB/s\u001b[0m eta \u001b[36m0:00:00\u001b[0m\n",
            "\u001b[?25hCollecting docker-pycreds>=0.4.0\n",
            "  Downloading docker_pycreds-0.4.0-py2.py3-none-any.whl (9.0 kB)\n",
            "Requirement already satisfied: appdirs>=1.4.3 in /usr/local/lib/python3.8/dist-packages (from wandb) (1.4.4)\n",
            "Requirement already satisfied: psutil>=5.0.0 in /usr/local/lib/python3.8/dist-packages (from wandb) (5.4.8)\n",
            "Collecting GitPython>=1.0.0\n",
            "  Downloading GitPython-3.1.30-py3-none-any.whl (184 kB)\n",
            "\u001b[2K     \u001b[90m━━━━━━━━━━━━━━━━━━━━━━━━━━━━━━━━━━━━━━\u001b[0m \u001b[32m184.0/184.0 KB\u001b[0m \u001b[31m15.8 MB/s\u001b[0m eta \u001b[36m0:00:00\u001b[0m\n",
            "\u001b[?25hRequirement already satisfied: setuptools in /usr/local/lib/python3.8/dist-packages (from wandb) (57.4.0)\n",
            "Collecting sentry-sdk>=1.0.0\n",
            "  Downloading sentry_sdk-1.15.0-py2.py3-none-any.whl (181 kB)\n",
            "\u001b[2K     \u001b[90m━━━━━━━━━━━━━━━━━━━━━━━━━━━━━━━━━━━━━━\u001b[0m \u001b[32m181.3/181.3 KB\u001b[0m \u001b[31m15.5 MB/s\u001b[0m eta \u001b[36m0:00:00\u001b[0m\n",
            "\u001b[?25hCollecting pathtools\n",
            "  Downloading pathtools-0.1.2.tar.gz (11 kB)\n",
            "  Preparing metadata (setup.py) ... \u001b[?25l\u001b[?25hdone\n",
            "Collecting setproctitle\n",
            "  Downloading setproctitle-1.3.2-cp38-cp38-manylinux_2_5_x86_64.manylinux1_x86_64.manylinux_2_17_x86_64.manylinux2014_x86_64.whl (31 kB)\n",
            "Requirement already satisfied: PyYAML in /usr/local/lib/python3.8/dist-packages (from wandb) (6.0)\n",
            "Requirement already satisfied: Click!=8.0.0,>=7.0 in /usr/local/lib/python3.8/dist-packages (from wandb) (7.1.2)\n",
            "Requirement already satisfied: protobuf!=4.21.0,<5,>=3.12.0 in /usr/local/lib/python3.8/dist-packages (from wandb) (3.19.6)\n",
            "Requirement already satisfied: requests<3,>=2.0.0 in /usr/local/lib/python3.8/dist-packages (from wandb) (2.25.1)\n",
            "Requirement already satisfied: typing-extensions in /usr/local/lib/python3.8/dist-packages (from wandb) (4.4.0)\n",
            "Requirement already satisfied: six>=1.4.0 in /usr/local/lib/python3.8/dist-packages (from docker-pycreds>=0.4.0->wandb) (1.15.0)\n",
            "Collecting gitdb<5,>=4.0.1\n",
            "  Downloading gitdb-4.0.10-py3-none-any.whl (62 kB)\n",
            "\u001b[2K     \u001b[90m━━━━━━━━━━━━━━━━━━━━━━━━━━━━━━━━━━━━━━━━\u001b[0m \u001b[32m62.7/62.7 KB\u001b[0m \u001b[31m6.9 MB/s\u001b[0m eta \u001b[36m0:00:00\u001b[0m\n",
            "\u001b[?25hRequirement already satisfied: certifi>=2017.4.17 in /usr/local/lib/python3.8/dist-packages (from requests<3,>=2.0.0->wandb) (2022.12.7)\n",
            "Requirement already satisfied: idna<3,>=2.5 in /usr/local/lib/python3.8/dist-packages (from requests<3,>=2.0.0->wandb) (2.10)\n",
            "Requirement already satisfied: chardet<5,>=3.0.2 in /usr/local/lib/python3.8/dist-packages (from requests<3,>=2.0.0->wandb) (4.0.0)\n",
            "Requirement already satisfied: urllib3<1.27,>=1.21.1 in /usr/local/lib/python3.8/dist-packages (from requests<3,>=2.0.0->wandb) (1.24.3)\n",
            "Collecting urllib3<1.27,>=1.21.1\n",
            "  Downloading urllib3-1.26.14-py2.py3-none-any.whl (140 kB)\n",
            "\u001b[2K     \u001b[90m━━━━━━━━━━━━━━━━━━━━━━━━━━━━━━━━━━━━━━\u001b[0m \u001b[32m140.6/140.6 KB\u001b[0m \u001b[31m14.7 MB/s\u001b[0m eta \u001b[36m0:00:00\u001b[0m\n",
            "\u001b[?25hCollecting smmap<6,>=3.0.1\n",
            "  Downloading smmap-5.0.0-py3-none-any.whl (24 kB)\n",
            "Building wheels for collected packages: pathtools\n",
            "  Building wheel for pathtools (setup.py) ... \u001b[?25l\u001b[?25hdone\n",
            "  Created wheel for pathtools: filename=pathtools-0.1.2-py3-none-any.whl size=8806 sha256=699d30d6dd7500c48465805fadf07970ee52e54131e08a6331a67790aa593e71\n",
            "  Stored in directory: /root/.cache/pip/wheels/4c/8e/7e/72fbc243e1aeecae64a96875432e70d4e92f3d2d18123be004\n",
            "Successfully built pathtools\n",
            "Installing collected packages: pathtools, urllib3, smmap, setproctitle, docker-pycreds, sentry-sdk, gitdb, GitPython, wandb\n",
            "  Attempting uninstall: urllib3\n",
            "    Found existing installation: urllib3 1.24.3\n",
            "    Uninstalling urllib3-1.24.3:\n",
            "      Successfully uninstalled urllib3-1.24.3\n",
            "Successfully installed GitPython-3.1.30 docker-pycreds-0.4.0 gitdb-4.0.10 pathtools-0.1.2 sentry-sdk-1.15.0 setproctitle-1.3.2 smmap-5.0.0 urllib3-1.26.14 wandb-0.13.10\n"
          ]
        },
        {
          "output_type": "display_data",
          "data": {
            "application/vnd.colab-display-data+json": {
              "pip_warning": {
                "packages": [
                  "urllib3"
                ]
              }
            }
          },
          "metadata": {}
        }
      ],
      "source": [
        "!pip install wandb"
      ]
    },
    {
      "cell_type": "code",
      "execution_count": 9,
      "metadata": {
        "colab": {
          "base_uri": "https://localhost:8080/",
          "height": 158
        },
        "id": "99xEsbRnkHRT",
        "outputId": "bfe922e4-3c10-4667-d826-4e5290dc08ea"
      },
      "outputs": [
        {
          "output_type": "stream",
          "name": "stderr",
          "text": [
            "ERROR:wandb.jupyter:Failed to detect the name of this notebook, you can set it manually with the WANDB_NOTEBOOK_NAME environment variable to enable code saving.\n"
          ]
        },
        {
          "output_type": "display_data",
          "data": {
            "text/plain": [
              "<IPython.core.display.Javascript object>"
            ],
            "application/javascript": [
              "\n",
              "        window._wandbApiKey = new Promise((resolve, reject) => {\n",
              "            function loadScript(url) {\n",
              "            return new Promise(function(resolve, reject) {\n",
              "                let newScript = document.createElement(\"script\");\n",
              "                newScript.onerror = reject;\n",
              "                newScript.onload = resolve;\n",
              "                document.body.appendChild(newScript);\n",
              "                newScript.src = url;\n",
              "            });\n",
              "            }\n",
              "            loadScript(\"https://cdn.jsdelivr.net/npm/postmate/build/postmate.min.js\").then(() => {\n",
              "            const iframe = document.createElement('iframe')\n",
              "            iframe.style.cssText = \"width:0;height:0;border:none\"\n",
              "            document.body.appendChild(iframe)\n",
              "            const handshake = new Postmate({\n",
              "                container: iframe,\n",
              "                url: 'https://wandb.ai/authorize'\n",
              "            });\n",
              "            const timeout = setTimeout(() => reject(\"Couldn't auto authenticate\"), 5000)\n",
              "            handshake.then(function(child) {\n",
              "                child.on('authorize', data => {\n",
              "                    clearTimeout(timeout)\n",
              "                    resolve(data)\n",
              "                });\n",
              "            });\n",
              "            })\n",
              "        });\n",
              "    "
            ]
          },
          "metadata": {}
        },
        {
          "output_type": "stream",
          "name": "stderr",
          "text": [
            "\u001b[34m\u001b[1mwandb\u001b[0m: Logging into wandb.ai. (Learn how to deploy a W&B server locally: https://wandb.me/wandb-server)\n",
            "\u001b[34m\u001b[1mwandb\u001b[0m: You can find your API key in your browser here: https://wandb.ai/authorize\n",
            "wandb: Paste an API key from your profile and hit enter, or press ctrl+c to quit: "
          ]
        },
        {
          "name": "stdout",
          "output_type": "stream",
          "text": [
            "··········\n"
          ]
        },
        {
          "output_type": "stream",
          "name": "stderr",
          "text": [
            "\u001b[34m\u001b[1mwandb\u001b[0m: Appending key for api.wandb.ai to your netrc file: /root/.netrc\n"
          ]
        },
        {
          "output_type": "execute_result",
          "data": {
            "text/plain": [
              "True"
            ]
          },
          "metadata": {},
          "execution_count": 9
        }
      ],
      "source": [
        "import wandb\n",
        "wandb.login()"
      ]
    },
    {
      "cell_type": "code",
      "execution_count": 10,
      "metadata": {
        "colab": {
          "base_uri": "https://localhost:8080/"
        },
        "id": "IjOxLU46kHRU",
        "outputId": "de1cd206-2bac-45b9-e697-bde2f3a00478"
      },
      "outputs": [
        {
          "output_type": "stream",
          "name": "stdout",
          "text": [
            "cpu\n"
          ]
        }
      ],
      "source": [
        "device = \"cuda:0\" if torch.cuda.is_available() else \"cpu\"\n",
        "print(device)"
      ]
    },
    {
      "cell_type": "markdown",
      "metadata": {
        "id": "WuGKtLbVkHRU"
      },
      "source": [
        "## **1(b)** *Create custom data loaders for all the splits (train, val and test) using PyTorch.*"
      ]
    },
    {
      "cell_type": "code",
      "execution_count": 11,
      "metadata": {
        "colab": {
          "base_uri": "https://localhost:8080/",
          "height": 283
        },
        "id": "TilTsVHKkHRV",
        "outputId": "15030054-19cb-4a29-e207-bb7f466e2c9f"
      },
      "outputs": [
        {
          "output_type": "stream",
          "name": "stdout",
          "text": [
            "(32, 32, 3) 8\n"
          ]
        },
        {
          "output_type": "display_data",
          "data": {
            "text/plain": [
              "<Figure size 432x288 with 1 Axes>"
            ],
            "image/png": "[encoded data removed]"
          },
          "metadata": {}
        }
      ],
      "source": [
        "class SVHNDataset(Dataset):\n",
        "    def __init__(self, data, transform=None):\n",
        "        self.data = data\n",
        "        self.transform = transform\n",
        "    \n",
        "    def __len__(self):\n",
        "        return len(self.data['X'][0][0][0])\n",
        "    \n",
        "    def __getitem__(self, idx, plot=False):\n",
        "        img_data = self.data['X'][:,:,:,idx]\n",
        "        img_label = self.data['y'][idx]\n",
        "        # img_data = torch.from_numpy(img_data) \n",
        "        # img_label = torch.tensor([img_label])\n",
        "        if (self.transform is not None) and (plot==False):\n",
        "            img_data = self.transform(img_data)\n",
        "        return img_data, img_label[0]\n",
        "\n",
        "dataset = SVHNDataset(mat)\n",
        "img, label = dataset.__getitem__(13)\n",
        "print(img.shape, label)\n",
        "plt.imshow(img);"
      ]
    },
    {
      "cell_type": "code",
      "execution_count": null,
      "metadata": {
        "id": "BkiAOgBZkHRV"
      },
      "outputs": [],
      "source": [
        "g = torch.Generator()\n",
        "g.manual_seed(42)\n",
        "\n",
        "transform = transforms.Compose([\n",
        "    transforms.ToTensor(),\n",
        "    transforms.Normalize((0.5, 0.5, 0.5), (0.5, 0.5, 0.5))]\n",
        ")\n",
        "\n",
        "# Creating dataset\n",
        "dataset = SVHNDataset(data=mat, transform=transform)\n",
        "dataset_size = len(dataset)\n",
        "indices = list(range(dataset_size))\n",
        "np.random.shuffle(indices)\n",
        "\n",
        "# Train, Validation and Test Split\n",
        "test_index = indices[:test_size]\n",
        "train_index = indices[test_size : test_size+train_size]\n",
        "val_index = indices[-val_size:]\n",
        "\n",
        "# SubsetRandomSampler for train, validation and test\n",
        "train_sampler = SubsetRandomSampler(train_index, generator=g)\n",
        "val_sampler = SubsetRandomSampler(val_index, generator=g)\n",
        "test_sampler = SubsetRandomSampler(test_index, generator=g)"
      ]
    },
    {
      "cell_type": "code",
      "execution_count": null,
      "metadata": {
        "colab": {
          "base_uri": "https://localhost:8080/"
        },
        "id": "bBZesdf50eFZ",
        "outputId": "75b59a66-82cf-40ec-ad0a-0624fd6d8e88"
      },
      "outputs": [
        {
          "name": "stdout",
          "output_type": "stream",
          "text": [
            "51279 14651 7325\n"
          ]
        }
      ],
      "source": [
        "batch_size = 1\n",
        "\n",
        "# Custom data loaders for all the splits (train, val and test)\n",
        "trainloader = DataLoader(dataset, sampler=train_sampler, batch_size=batch_size,num_workers=2)\n",
        "valloader = DataLoader(dataset, sampler=val_sampler, batch_size=batch_size,num_workers=2)\n",
        "testloader = DataLoader(dataset, sampler=test_sampler, batch_size=batch_size,num_workers=2)\n",
        "\n",
        "print(len(trainloader), len(valloader), len(testloader))"
      ]
    },
    {
      "cell_type": "markdown",
      "metadata": {
        "id": "1jXAckkvkHRW"
      },
      "source": [
        "## **1(c)** *Visualize the data distribution across class labels for training and validation sets.*"
      ]
    },
    {
      "cell_type": "code",
      "execution_count": null,
      "metadata": {
        "colab": {
          "base_uri": "https://localhost:8080/",
          "height": 385
        },
        "id": "ZiRKOJQDkHRW",
        "outputId": "9091b177-0898-403a-a05f-d5bced4ecd60"
      },
      "outputs": [
        {
          "data": {
            "image/png": "[encoded data removed]",
            "text/plain": [
              "<Figure size 720x360 with 2 Axes>"
            ]
          },
          "metadata": {},
          "output_type": "display_data"
        },
        {
          "name": "stdout",
          "output_type": "stream",
          "text": [
            "[3481, 9694, 7421, 5988, 5232, 4747, 4022, 3939, 3497, 3258]\n",
            "[1015, 2802, 2098, 1694, 1537, 1398, 1096, 1091, 964, 956]\n"
          ]
        }
      ],
      "source": [
        "import seaborn as sns\n",
        "\n",
        "def class_distribution(data):\n",
        "    classes = [0]*10\n",
        "    for i in range(len(data)):\n",
        "        img, label = data.dataset.__getitem__(i, plot=True)\n",
        "        classes[label] += 1\n",
        "    return classes\n",
        "\n",
        "train_classes = class_distribution(trainloader)\n",
        "val_classes = class_distribution(valloader)\n",
        "\n",
        "# plot the class distribution in subplots\n",
        "fig, axes = plt.subplots(1, 2, figsize=(10, 5))\n",
        "axes[0].bar(range(0,10), train_classes)\n",
        "axes[0].set_title('Train')\n",
        "axes[0].set_xlabel('Class')\n",
        "axes[0].set_ylabel('Count')\n",
        "axes[0].set_xticks(range(0,10))\n",
        "axes[0].set_xlim(-1, 10)\n",
        "axes[1].bar(range(0,10), val_classes)\n",
        "axes[1].set_title('Validation')\n",
        "axes[1].set_ylabel('Count')\n",
        "axes[1].set_xlabel('Class')\n",
        "axes[1].set_xticks(range(0,10))\n",
        "axes[1].set_xlim(-1, 10)\n",
        "plt.show()\n",
        "\n",
        "print(train_classes)\n",
        "print(val_classes)"
      ]
    },
    {
      "cell_type": "code",
      "execution_count": null,
      "metadata": {
        "id": "GKrlL4RSPvOQ"
      },
      "outputs": [],
      "source": [
        "Part-1 Done"
      ]
    },
    {
      "cell_type": "markdown",
      "metadata": {
        "id": "Xk_PmGrWkHRX"
      },
      "source": [
        "# **Q1 Part-2** **Training a CNN from scratch**"
      ]
    },
    {
      "cell_type": "markdown",
      "metadata": {
        "id": "B39aZmOhkHRX"
      },
      "source": [
        "## **Q2 (a)** *Create a CNN architecture with 2 Convolution Layers having a kernel size of 3×3 and padding of 1. Use 32 feature maps for the first layer and 64 for the second. Finally add classification head to the conv layers. Use ReLU activation functions wherever applicable.*"
      ]
    },
    {
      "cell_type": "code",
      "execution_count": null,
      "metadata": {
        "id": "VCWwLPcrkHRX"
      },
      "outputs": [],
      "source": [
        "import torch.nn as nn\n",
        "\n",
        "class CNN(nn.Module):\n",
        "    def __init__(self):\n",
        "        super(CNN, self).__init__()\n",
        "        # First Convolution Layer\n",
        "        self.conv1 = nn.Conv2d(in_channels=3, out_channels=32, kernel_size=3, padding=1)\n",
        "        self.relu1 = nn.ReLU()\n",
        "        # Second Convolution Layer\n",
        "        self.conv2 = nn.Conv2d(in_channels=32, out_channels=64, kernel_size=3, padding=1)\n",
        "        self.relu2 = nn.ReLU()        \n",
        "        # Classification Head\n",
        "        self.fc = nn.Linear(in_features=64*32*32, out_features=10)\n",
        "        \n",
        "    def forward(self, x):\n",
        "        x = self.conv1(x)\n",
        "        x = self.relu1(x)\n",
        "        # x = nn.MaxPool2d(kernel_size=2, stride=2)(x)\n",
        "        x = self.conv2(x)\n",
        "        x = self.relu2(x)        \n",
        "        x = x.view(x.size(0), -1)\n",
        "        x = self.fc(x)\n",
        "        return x"
      ]
    },
    {
      "cell_type": "markdown",
      "metadata": {
        "id": "i6TmcAE0kHRY"
      },
      "source": [
        "## **Q2 (b)** *Train the model using the Cross-Entropy Loss. Use wandb to log the training and validation losses and accuracies.*"
      ]
    },
    {
      "cell_type": "code",
      "execution_count": null,
      "metadata": {
        "colab": {
          "base_uri": "https://localhost:8080/"
        },
        "id": "prZVPyD9kHRY",
        "outputId": "1ddddc3b-caed-43a3-d312-8463648393df"
      },
      "outputs": [
        {
          "name": "stdout",
          "output_type": "stream",
          "text": [
            "802 229 115\n"
          ]
        }
      ],
      "source": [
        "# Model\n",
        "model = CNN()\n",
        "\n",
        "# Hyperparameters\n",
        "lr=0.001\n",
        "epochs=10\n",
        "wd = 1e-3\n",
        "batch_size = 64\n",
        "\n",
        "# Custom data loaders for all the splits (train, val and test)\n",
        "trainloader = DataLoader(dataset, sampler=train_sampler, batch_size=batch_size,num_workers=2)\n",
        "valloader = DataLoader(dataset, sampler=val_sampler, batch_size=batch_size,num_workers=2)\n",
        "testloader = DataLoader(dataset, sampler=test_sampler, batch_size=batch_size,num_workers=2)\n",
        "print(len(trainloader), len(valloader), len(testloader))"
      ]
    },
    {
      "cell_type": "code",
      "execution_count": null,
      "metadata": {
        "colab": {
          "base_uri": "https://localhost:8080/",
          "height": 104
        },
        "id": "QHg8CFIEkHRY",
        "outputId": "69c04214-4fdf-42b3-f345-070f96baec09"
      },
      "outputs": [
        {
          "data": {
            "text/html": [
              "Tracking run with wandb version 0.13.10"
            ],
            "text/plain": [
              "<IPython.core.display.HTML object>"
            ]
          },
          "metadata": {},
          "output_type": "display_data"
        },
        {
          "data": {
            "text/html": [
              "Run data is saved locally in <code>/content/wandb/run-20230212_134442-fnd43o9a</code>"
            ],
            "text/plain": [
              "<IPython.core.display.HTML object>"
            ]
          },
          "metadata": {},
          "output_type": "display_data"
        },
        {
          "data": {
            "text/html": [
              "Syncing run <strong><a href='https://wandb.ai/cv_assignment/Assignment-1/runs/fnd43o9a' target=\"_blank\">Q1-Part2</a></strong> to <a href='https://wandb.ai/cv_assignment/Assignment-1' target=\"_blank\">Weights & Biases</a> (<a href='https://wandb.me/run' target=\"_blank\">docs</a>)<br/>"
            ],
            "text/plain": [
              "<IPython.core.display.HTML object>"
            ]
          },
          "metadata": {},
          "output_type": "display_data"
        },
        {
          "data": {
            "text/html": [
              " View project at <a href='https://wandb.ai/cv_assignment/Assignment-1' target=\"_blank\">https://wandb.ai/cv_assignment/Assignment-1</a>"
            ],
            "text/plain": [
              "<IPython.core.display.HTML object>"
            ]
          },
          "metadata": {},
          "output_type": "display_data"
        },
        {
          "data": {
            "text/html": [
              " View run at <a href='https://wandb.ai/cv_assignment/Assignment-1/runs/fnd43o9a' target=\"_blank\">https://wandb.ai/cv_assignment/Assignment-1/runs/fnd43o9a</a>"
            ],
            "text/plain": [
              "<IPython.core.display.HTML object>"
            ]
          },
          "metadata": {},
          "output_type": "display_data"
        }
      ],
      "source": [
        "wandb.init(entity=\"cv_assignment\", project=\"Assignment-1\",name=\"Q1-Part2\")\n",
        "wandb.config = {\"learning_rate\": lr , \"epochs\": epochs, \"batch_size\": batch_size}  "
      ]
    },
    {
      "cell_type": "code",
      "execution_count": null,
      "metadata": {
        "id": "uK6GlnrYkHRY"
      },
      "outputs": [],
      "source": [
        "import torch.optim as optim\n",
        "\n",
        "criterion = nn.CrossEntropyLoss()\n",
        "optimizer = optim.Adam(model.parameters(), lr=lr, weight_decay=wd)"
      ]
    },
    {
      "cell_type": "code",
      "execution_count": null,
      "metadata": {
        "colab": {
          "base_uri": "https://localhost:8080/"
        },
        "id": "ucy6U-XUbXq5",
        "outputId": "5aa90e3f-345c-47a3-d432-bca2dc9431f8"
      },
      "outputs": [
        {
          "name": "stdout",
          "output_type": "stream",
          "text": [
            "Epoch:  1\n",
            "Training Loss: 0.9903,  Training Accuracy: 68.9717\n",
            "Validation Loss: 0.6548,  Validation Accuracy: 80.9979\n",
            "Epoch:  2\n",
            "Training Loss: 0.5929,  Training Accuracy: 82.8331\n",
            "Validation Loss: 0.6037,  Validation Accuracy: 82.3015\n",
            "Epoch:  3\n",
            "Training Loss: 0.5305,  Training Accuracy: 84.4712\n",
            "Validation Loss: 0.5805,  Validation Accuracy: 82.7793\n",
            "Epoch:  4\n",
            "Training Loss: 0.4899,  Training Accuracy: 85.7213\n",
            "Validation Loss: 0.5508,  Validation Accuracy: 83.9943\n",
            "Finished Training\n"
          ]
        }
      ],
      "source": [
        "epochs = 4\n",
        "\n",
        "# Train the model\n",
        "for epoch in range(epochs):\n",
        "    print('Epoch: ', epoch+1)\n",
        "    train_loss = 0.0\n",
        "    correct = 0\n",
        "    total = 0\n",
        "    for i, data in enumerate(trainloader, 0):\n",
        "        inputs, labels = data\n",
        "        inputs, labels = inputs.to(device), labels.to(device)\n",
        "        optimizer.zero_grad()\n",
        "        outputs = model(inputs)\n",
        "        loss = criterion(outputs, labels)\n",
        "        loss.backward()\n",
        "        optimizer.step()\n",
        "        train_loss += loss.item()\n",
        "        total += labels.size(0)\n",
        "        _, predicted = torch.max(outputs.data, 1)\n",
        "        correct += (predicted == labels).sum().item()\n",
        "    train_accuracy = 100 * correct / total\n",
        "    print(\"Training Loss: {:.4f},  Training Accuracy: {:.4f}\".format(train_loss / len(trainloader), train_accuracy))\n",
        "\n",
        "    # Evaluate the model on validation set\n",
        "    correct = 0\n",
        "    total = 0\n",
        "    val_loss = 0.0\n",
        "    with torch.no_grad():\n",
        "        for data in valloader:\n",
        "            inputs, labels = data\n",
        "            inputs, labels = inputs.to(device), labels.to(device)\n",
        "            outputs = model(inputs)\n",
        "            val_loss += criterion(outputs, labels).item()\n",
        "            _, predicted = torch.max(outputs.data, 1)\n",
        "            total += labels.size(0)\n",
        "            correct += (predicted == labels).sum().item()\n",
        "    val_accuracy = 100 * correct / total\n",
        "    print(\"Validation Loss: {:.4f},  Validation Accuracy: {:.4f}\".format(val_loss/ len(valloader), val_accuracy))\n",
        "\n",
        "    # Log the loss and accuracy to W&B\n",
        "    wandb.log({'training_loss': train_loss / len(trainloader), 'validation_loss': val_loss / len(valloader),\n",
        "               'training_accuracy': train_accuracy, 'validation_accuracy': val_accuracy})\n",
        "\n",
        "print('Finished Training')"
      ]
    },
    {
      "cell_type": "markdown",
      "metadata": {
        "id": "zyI3Y9iBRLMN"
      },
      "source": [
        "## **Q2 (c)** *Report the Accuracy and F1-Score on the test set. Also, log the confusion matrix using wandb.*"
      ]
    },
    {
      "cell_type": "code",
      "execution_count": null,
      "metadata": {
        "colab": {
          "base_uri": "https://localhost:8080/"
        },
        "id": "_QEEFzozQ8BP",
        "outputId": "5f43fab1-aa15-400f-cad9-5493812967b1"
      },
      "outputs": [
        {
          "name": "stdout",
          "output_type": "stream",
          "text": [
            "Test set accuracy: 84.45%\n",
            "Test set F1-score: 0.8316\n"
          ]
        }
      ],
      "source": [
        "from sklearn.metrics import confusion_matrix, f1_score\n",
        "\n",
        "# Evaluate the model on test set\n",
        "correct, total = 0, 0\n",
        "x_test_img = []\n",
        "y_test_true = []\n",
        "y_test_pred = []\n",
        "with torch.no_grad():\n",
        "    for data in testloader:\n",
        "        inputs, labels = data\n",
        "        inputs, labels = inputs.to(device), labels.to(device)\n",
        "        outputs = model(inputs)\n",
        "        _, predicted = torch.max(outputs.data, 1)\n",
        "        total += labels.size(0)\n",
        "        correct += (predicted == labels).sum().item()\n",
        "        x_test_img.extend(inputs.numpy().tolist())\n",
        "        y_test_true.extend(labels.numpy().tolist())\n",
        "        y_test_pred.extend(predicted.numpy().tolist())\n",
        "test_accuracy = 100 * correct / total\n",
        "print(\"Test set accuracy: {:.2f}%\".format(test_accuracy))\n",
        "\n",
        "# Compute the F1-score on testing set\n",
        "f1 = f1_score(y_test_true, y_test_pred, average='macro')\n",
        "print(\"Test set F1-score: {:.4f}\".format(f1))\n",
        "\n",
        "# Compute the confusion matrix for the Predictions\n",
        "cm = confusion_matrix(y_test_true, y_test_pred)\n",
        "\n",
        "# Logging the confusion matrix to W&B\n",
        "wandb.log({'confusion_matrix': wandb.Image(cm, caption='Confusion Matrix')})"
      ]
    },
    {
      "cell_type": "code",
      "execution_count": null,
      "metadata": {
        "colab": {
          "base_uri": "https://localhost:8080/",
          "height": 333,
          "referenced_widgets": [
            "e9dc1cc16a96429a8ced060d4cad37f7",
            "0af10ac407a94d78bd37985eb5bbd4d3",
            "959db1ca28cf4878aac3fd39636b88aa",
            "c1917d863c374405816dccbdc01168fc",
            "55a6de99e19a4051a70cc7adf7270a0d",
            "801257ae00284ad8965a45e868caf01b",
            "ae67cff7b7c24e63b878534be46a0abe",
            "f7d3b2203a9a4411abccbf57d430573f"
          ]
        },
        "id": "aFv0c2VFkHRZ",
        "outputId": "024068fe-5ab6-4c02-c5b7-9a2fd72c5e26"
      },
      "outputs": [
        {
          "data": {
            "text/html": [
              "Waiting for W&B process to finish... <strong style=\"color:green\">(success).</strong>"
            ],
            "text/plain": [
              "<IPython.core.display.HTML object>"
            ]
          },
          "metadata": {},
          "output_type": "display_data"
        },
        {
          "data": {
            "application/vnd.jupyter.widget-view+json": {
              "model_id": "e9dc1cc16a96429a8ced060d4cad37f7",
              "version_major": 2,
              "version_minor": 0
            },
            "text/plain": [
              "VBox(children=(Label(value='2.577 MB of 2.577 MB uploaded (0.000 MB deduped)\\r'), FloatProgress(value=1.0, max…"
            ]
          },
          "metadata": {},
          "output_type": "display_data"
        },
        {
          "data": {
            "text/html": [
              "<style>\n",
              "    table.wandb td:nth-child(1) { padding: 0 10px; text-align: left ; width: auto;} td:nth-child(2) {text-align: left ; width: 100%}\n",
              "    .wandb-row { display: flex; flex-direction: row; flex-wrap: wrap; justify-content: flex-start; width: 100% }\n",
              "    .wandb-col { display: flex; flex-direction: column; flex-basis: 100%; flex: 1; padding: 10px; }\n",
              "    </style>\n",
              "<div class=\"wandb-row\"><div class=\"wandb-col\"><h3>Run history:</h3><br/><table class=\"wandb\"><tr><td>training_accuracy</td><td>▁▇▇█</td></tr><tr><td>training_loss</td><td>█▂▂▁</td></tr><tr><td>validation_accuracy</td><td>▁▄▅█</td></tr><tr><td>validation_loss</td><td>█▅▃▁</td></tr></table><br/></div><div class=\"wandb-col\"><h3>Run summary:</h3><br/><table class=\"wandb\"><tr><td>training_accuracy</td><td>85.72125</td></tr><tr><td>training_loss</td><td>0.48988</td></tr><tr><td>validation_accuracy</td><td>83.99427</td></tr><tr><td>validation_loss</td><td>0.55084</td></tr></table><br/></div></div>"
            ],
            "text/plain": [
              "<IPython.core.display.HTML object>"
            ]
          },
          "metadata": {},
          "output_type": "display_data"
        },
        {
          "data": {
            "text/html": [
              " View run <strong style=\"color:#cdcd00\">Q1-Part2</strong> at: <a href='https://wandb.ai/cv_assignment/Assignment-1/runs/fnd43o9a' target=\"_blank\">https://wandb.ai/cv_assignment/Assignment-1/runs/fnd43o9a</a><br/>Synced 5 W&B file(s), 1 media file(s), 1 artifact file(s) and 0 other file(s)"
            ],
            "text/plain": [
              "<IPython.core.display.HTML object>"
            ]
          },
          "metadata": {},
          "output_type": "display_data"
        },
        {
          "data": {
            "text/html": [
              "Find logs at: <code>./wandb/run-20230212_134442-fnd43o9a/logs</code>"
            ],
            "text/plain": [
              "<IPython.core.display.HTML object>"
            ]
          },
          "metadata": {},
          "output_type": "display_data"
        }
      ],
      "source": [
        "# ✨ W&B: Save Model\n",
        "torch.save(model.state_dict(),\"cnn_q1_b.pth\")\n",
        "artifact = wandb.Artifact('model', type='model')\n",
        "artifact.add_file('cnn_q1_b.pth')\n",
        "wandb.log_artifact(artifact)\n",
        "wandb.finish()"
      ]
    },
    {
      "cell_type": "markdown",
      "metadata": {
        "id": "Q2d7PZ2zfnEc"
      },
      "source": [
        "## **Q2 (d)** *For each class in the test set, visualize any 3 images that were misclassified along with the predicted class label. Analyze why the model could possibly be failing in these cases. Is this due to the fact that image looks much similar to the predicted class than the actual ground truth or something else?*"
      ]
    },
    {
      "cell_type": "code",
      "execution_count": null,
      "metadata": {
        "id": "Q-JA05CSKwrG"
      },
      "outputs": [],
      "source": [
        "import warnings\n",
        "warnings.filterwarnings(\"ignore\")"
      ]
    },
    {
      "cell_type": "code",
      "execution_count": null,
      "metadata": {
        "colab": {
          "base_uri": "https://localhost:8080/",
          "height": 1000
        },
        "id": "FYFw8buEjM8k",
        "outputId": "33a551a9-dc4f-4818-e991-6251ad028903"
      },
      "outputs": [
        {
          "name": "stdout",
          "output_type": "stream",
          "text": [
            "Visualization for Class:  0\n",
            "Visualization for Class:  1\n",
            "Visualization for Class:  2\n",
            "Visualization for Class:  3\n",
            "Visualization for Class:  4\n",
            "Visualization for Class:  5\n",
            "Visualization for Class:  6\n",
            "Visualization for Class:  7\n",
            "Visualization for Class:  8\n",
            "Visualization for Class:  9\n"
          ]
        },
        {
          "data": {
            "image/png": "[encoded data removed]",
            "text/plain": [
              "<Figure size 720x360 with 3 Axes>"
            ]
          },
          "metadata": {},
          "output_type": "display_data"
        },
        {
          "data": {
            "image/png": "[encoded data removed]",
            "text/plain": [
              "<Figure size 720x360 with 3 Axes>"
            ]
          },
          "metadata": {},
          "output_type": "display_data"
        },
        {
          "data": {
            "image/png": "[encoded data removed]",
            "text/plain": [
              "<Figure size 720x360 with 3 Axes>"
            ]
          },
          "metadata": {},
          "output_type": "display_data"
        },
        {
          "data": {
            "image/png": "[encoded data removed]",
            "text/plain": [
              "<Figure size 720x360 with 3 Axes>"
            ]
          },
          "metadata": {},
          "output_type": "display_data"
        },
        {
          "data": {
            "image/png": "[encoded data removed]",
            "text/plain": [
              "<Figure size 720x360 with 3 Axes>"
            ]
          },
          "metadata": {},
          "output_type": "display_data"
        },
        {
          "data": {
            "image/png": "[encoded data removed]",
            "text/plain": [
              "<Figure size 720x360 with 3 Axes>"
            ]
          },
          "metadata": {},
          "output_type": "display_data"
        },
        {
          "data": {
            "image/png": "[encoded data removed]",
            "text/plain": [
              "<Figure size 720x360 with 3 Axes>"
            ]
          },
          "metadata": {},
          "output_type": "display_data"
        },
        {
          "data": {
            "image/png": "[encoded data removed]",
            "text/plain": [
              "<Figure size 720x360 with 3 Axes>"
            ]
          },
          "metadata": {},
          "output_type": "display_data"
        },
        {
          "data": {
            "image/png": "[encoded data removed]",
            "text/plain": [
              "<Figure size 720x360 with 3 Axes>"
            ]
          },
          "metadata": {},
          "output_type": "display_data"
        },
        {
          "data": {
            "image/png": "[encoded data removed]",
            "text/plain": [
              "<Figure size 720x360 with 3 Axes>"
            ]
          },
          "metadata": {},
          "output_type": "display_data"
        }
      ],
      "source": [
        "x_test_img = np.array(x_test_img)\n",
        "y_test_true = np.array(y_test_true)\n",
        "y_test_pred = np.array(y_test_pred)\n",
        "\n",
        "for out_class in range(10):\n",
        "    print('Visualization for Class: ', out_class)\n",
        "    class_ind = np.where(y_test_true == out_class)\n",
        "    missclassfication_ind = np.where(y_test_pred[class_ind] != out_class)\n",
        "    np.random.shuffle(missclassfication_ind)\n",
        "    \n",
        "    fig, axes = plt.subplots(1, 3, figsize=(10, 5))\n",
        "    start = 4\n",
        "    for i in range(start,start+3):\n",
        "        # print(np.max(x_test_img[class_ind][missclassfication_ind][i]))\n",
        "        img = x_test_img[class_ind][missclassfication_ind][i] / 2 + 0.5\n",
        "        axes[i-start].imshow(img.transpose(1,2,0))\n",
        "        axes[i-start].set_title('Actual: ' + str(out_class) + ', Predicted: ' + str(y_test_pred[class_ind][missclassfication_ind][i]))\n",
        "        axes[i-start].axis('off')"
      ]
    },
    {
      "cell_type": "code",
      "execution_count": null,
      "metadata": {
        "id": "myKcJxODPqni"
      },
      "outputs": [],
      "source": [
        "Part-2 Done"
      ]
    },
    {
      "cell_type": "markdown",
      "metadata": {
        "id": "Aa4pzWiXrhpg"
      },
      "source": [
        "# **Q1 Part-3**  **Fine-tuning a pretrained model**"
      ]
    },
    {
      "cell_type": "markdown",
      "metadata": {
        "id": "a6Ya4Z08A3ab"
      },
      "source": [
        "## **Q3 (a)** *Train another classification model with a fine-tuned Resnet-18 (pre-trained on ImageNet) architecture using the same strategy used in Question1.2.(b) and again use wandb for logging the loss and accuracy.*"
      ]
    },
    {
      "cell_type": "code",
      "execution_count": 12,
      "metadata": {
        "id": "xdgLeSrfPnlL",
        "colab": {
          "base_uri": "https://localhost:8080/"
        },
        "outputId": "f6dc38bc-3919-4b68-fa40-2c4604b13e51"
      },
      "outputs": [
        {
          "output_type": "stream",
          "name": "stdout",
          "text": [
            "802 229 115\n"
          ]
        }
      ],
      "source": [
        "# Creating dataset\n",
        "dataset = SVHNDataset(data=mat, transform = transforms.Compose([\n",
        "    transforms.ToTensor(),\n",
        "    transforms.Normalize((0.5, 0.5, 0.5), (0.5, 0.5, 0.5))]\n",
        "))\n",
        "dataset_size = len(dataset)\n",
        "indices = list(range(dataset_size))\n",
        "np.random.shuffle(indices)\n",
        "\n",
        "# Train, Validation and Test Split\n",
        "test_index = indices[:test_size]\n",
        "train_index = indices[test_size : test_size+train_size]\n",
        "val_index = indices[-val_size:]\n",
        "\n",
        "# SubsetRandomSampler for train, validation and test\n",
        "g = torch.Generator()\n",
        "g.manual_seed(42)\n",
        "train_sampler = SubsetRandomSampler(train_index, generator=g)\n",
        "val_sampler = SubsetRandomSampler(val_index, generator=g)\n",
        "test_sampler = SubsetRandomSampler(test_index, generator=g)\n",
        "\n",
        "# Custom data loaders for all the splits (train, val and test)\n",
        "batch_size = 64\n",
        "trainloader = DataLoader(dataset, sampler=train_sampler, batch_size=batch_size,num_workers=2)\n",
        "valloader = DataLoader(dataset, sampler=val_sampler, batch_size=batch_size,num_workers=2)\n",
        "testloader = DataLoader(dataset, sampler=test_sampler, batch_size=batch_size,num_workers=2)\n",
        "print(len(trainloader), len(valloader), len(testloader))"
      ]
    },
    {
      "cell_type": "code",
      "execution_count": 13,
      "metadata": {
        "colab": {
          "base_uri": "https://localhost:8080/",
          "height": 156,
          "referenced_widgets": [
            "6297940f1f6f4890b9afb3a2b24371ae",
            "d276b72949d1422fad72517e36273276",
            "c84befeb2a3c4a9a8f4b6fd13cd917a0",
            "ab47e74986db47a993993f4dbb85068f",
            "c61510730fdc4f39a38abc9df29d888b",
            "95d2776442174494a8ec32557a64a995",
            "85367266997c4a05987a36a5ab5d29bd",
            "ad9706dcdd8a440684427ef89b5b59cc",
            "d05984062ac948afbba15758ebb33865",
            "f6d0187f81154b208ecd9f05ff11599d",
            "1eba9b7263f546a0bc727e83bd9ec4c0"
          ]
        },
        "id": "7Azp9CzEA3ac",
        "outputId": "c63ccc84-cf73-485b-f2ea-d37ffa9007c3"
      },
      "outputs": [
        {
          "output_type": "stream",
          "name": "stderr",
          "text": [
            "/usr/local/lib/python3.8/dist-packages/torchvision/models/_utils.py:208: UserWarning: The parameter 'pretrained' is deprecated since 0.13 and may be removed in the future, please use 'weights' instead.\n",
            "  warnings.warn(\n",
            "/usr/local/lib/python3.8/dist-packages/torchvision/models/_utils.py:223: UserWarning: Arguments other than a weight enum or `None` for 'weights' are deprecated since 0.13 and may be removed in the future. The current behavior is equivalent to passing `weights=ResNet18_Weights.IMAGENET1K_V1`. You can also use `weights=ResNet18_Weights.DEFAULT` to get the most up-to-date weights.\n",
            "  warnings.warn(msg)\n",
            "Downloading: \"https://download.pytorch.org/models/resnet18-f37072fd.pth\" to /root/.cache/torch/hub/checkpoints/resnet18-f37072fd.pth\n"
          ]
        },
        {
          "output_type": "display_data",
          "data": {
            "text/plain": [
              "  0%|          | 0.00/44.7M [00:00<?, ?B/s]"
            ],
            "application/vnd.jupyter.widget-view+json": {
              "version_major": 2,
              "version_minor": 0,
              "model_id": "6297940f1f6f4890b9afb3a2b24371ae"
            }
          },
          "metadata": {}
        }
      ],
      "source": [
        "# Load the pre-trained ResNet-18 model\n",
        "model = models.resnet18(pretrained=True)\n",
        "\n",
        "# Freeze none of layers\n",
        "for param in model.parameters():\n",
        "    param.requires_grad = True\n",
        "model.fc.requires_grad = True\n",
        "\n",
        "# Replace the last fully connected layer with a new one with the desired number of classes\n",
        "model.fc = nn.Linear(model.fc.in_features, 10)\n",
        "\n",
        "# Define the loss function and optimizer\n",
        "lr = 0.001\n",
        "epochs = 5\n",
        "criterion = nn.CrossEntropyLoss()\n",
        "optimizer = torch.optim.SGD(model.fc.parameters(), lr=lr, momentum=0.9)"
      ]
    },
    {
      "cell_type": "code",
      "execution_count": 14,
      "metadata": {
        "colab": {
          "base_uri": "https://localhost:8080/",
          "height": 121
        },
        "id": "YeOymKWBA3ac",
        "outputId": "ed0bdcca-0564-45d9-d3d3-b1a4f9ade2e9"
      },
      "outputs": [
        {
          "output_type": "stream",
          "name": "stderr",
          "text": [
            "\u001b[34m\u001b[1mwandb\u001b[0m: Currently logged in as: \u001b[33mkhushdev20211\u001b[0m (\u001b[33mcv_assignment\u001b[0m). Use \u001b[1m`wandb login --relogin`\u001b[0m to force relogin\n"
          ]
        },
        {
          "output_type": "display_data",
          "data": {
            "text/plain": [
              "<IPython.core.display.HTML object>"
            ],
            "text/html": [
              "Tracking run with wandb version 0.13.10"
            ]
          },
          "metadata": {}
        },
        {
          "output_type": "display_data",
          "data": {
            "text/plain": [
              "<IPython.core.display.HTML object>"
            ],
            "text/html": [
              "Run data is saved locally in <code>/content/wandb/run-20230212_190659-shgn4x1g</code>"
            ]
          },
          "metadata": {}
        },
        {
          "output_type": "display_data",
          "data": {
            "text/plain": [
              "<IPython.core.display.HTML object>"
            ],
            "text/html": [
              "Syncing run <strong><a href='https://wandb.ai/cv_assignment/Assignment-1/runs/shgn4x1g' target=\"_blank\">Q1-Part3</a></strong> to <a href='https://wandb.ai/cv_assignment/Assignment-1' target=\"_blank\">Weights & Biases</a> (<a href='https://wandb.me/run' target=\"_blank\">docs</a>)<br/>"
            ]
          },
          "metadata": {}
        },
        {
          "output_type": "display_data",
          "data": {
            "text/plain": [
              "<IPython.core.display.HTML object>"
            ],
            "text/html": [
              " View project at <a href='https://wandb.ai/cv_assignment/Assignment-1' target=\"_blank\">https://wandb.ai/cv_assignment/Assignment-1</a>"
            ]
          },
          "metadata": {}
        },
        {
          "output_type": "display_data",
          "data": {
            "text/plain": [
              "<IPython.core.display.HTML object>"
            ],
            "text/html": [
              " View run at <a href='https://wandb.ai/cv_assignment/Assignment-1/runs/shgn4x1g' target=\"_blank\">https://wandb.ai/cv_assignment/Assignment-1/runs/shgn4x1g</a>"
            ]
          },
          "metadata": {}
        }
      ],
      "source": [
        "wandb.init(entity=\"cv_assignment\", project=\"Assignment-1\",name=\"Q1-Part3\")\n",
        "wandb.config = {\"learning_rate\": lr , \"epochs\": epochs, \"batch_size\": batch_size}  "
      ]
    },
    {
      "cell_type": "code",
      "execution_count": null,
      "metadata": {
        "colab": {
          "base_uri": "https://localhost:8080/"
        },
        "id": "pU-dQuPvA3ac",
        "outputId": "c05ca2ec-ec7d-4830-f801-6d6ef04155f7"
      },
      "outputs": [
        {
          "output_type": "stream",
          "name": "stdout",
          "text": [
            "Epoch:  1\n",
            "Training Loss: 2.0700,  Training Accuracy: 27.0169\n",
            "Validation Loss: 1.9768,  Validation Accuracy: 30.7965\n",
            "Epoch:  2\n"
          ]
        }
      ],
      "source": [
        "epochs = 4\n",
        "\n",
        "# Train the model\n",
        "for epoch in range(epochs):\n",
        "    print('Epoch: ', epoch+1)\n",
        "    train_loss = 0.0\n",
        "    correct = 0\n",
        "    total = 0\n",
        "    for i, data in enumerate(trainloader, 0):\n",
        "        inputs, labels = data\n",
        "        inputs, labels = inputs.to(device), labels.to(device)\n",
        "        optimizer.zero_grad()\n",
        "        outputs = model(inputs)\n",
        "        loss = criterion(outputs, labels)\n",
        "        loss.backward()\n",
        "        optimizer.step()\n",
        "        train_loss += loss.item()\n",
        "        total += labels.size(0)\n",
        "        _, predicted = torch.max(outputs.data, 1)\n",
        "        correct += (predicted == labels).sum().item()\n",
        "    train_accuracy = 100 * correct / total\n",
        "    print(\"Training Loss: {:.4f},  Training Accuracy: {:.4f}\".format(train_loss / len(trainloader), train_accuracy))\n",
        "\n",
        "    # Evaluate the model on validation set\n",
        "    correct = 0\n",
        "    total = 0\n",
        "    val_loss = 0.0\n",
        "    with torch.no_grad():\n",
        "        for data in valloader:\n",
        "            inputs, labels = data\n",
        "            inputs, labels = inputs.to(device), labels.to(device)\n",
        "            outputs = model(inputs)\n",
        "            val_loss += criterion(outputs, labels).item()\n",
        "            _, predicted = torch.max(outputs.data, 1)\n",
        "            total += labels.size(0)\n",
        "            correct += (predicted == labels).sum().item()\n",
        "    val_accuracy = 100 * correct / total\n",
        "    print(\"Validation Loss: {:.4f},  Validation Accuracy: {:.4f}\".format(val_loss/ len(valloader), val_accuracy))\n",
        "\n",
        "    # Log the loss and accuracy to W&B\n",
        "    wandb.log({'training_loss': train_loss / len(trainloader), 'validation_loss': val_loss / len(valloader),\n",
        "               'training_accuracy': train_accuracy, 'validation_accuracy': val_accuracy})\n",
        "\n",
        "print('Finished Training')"
      ]
    },
    {
      "cell_type": "markdown",
      "metadata": {
        "id": "Z4rjPb2FA3ad"
      },
      "source": [
        "## **Q3 (b)** *Report the Accuracy and F1-Score on the test set. Also, log the confusion matrix using wandb**"
      ]
    },
    {
      "cell_type": "code",
      "execution_count": null,
      "metadata": {
        "id": "EyN1Aw67A3ad"
      },
      "outputs": [],
      "source": [
        "from sklearn.metrics import confusion_matrix, f1_score\n",
        "\n",
        "# Evaluate the model on test set\n",
        "correct, total = 0, 0\n",
        "x_test_img = []\n",
        "y_test_true = []\n",
        "y_test_pred = []\n",
        "with torch.no_grad():\n",
        "    for data in testloader:\n",
        "        inputs, labels = data\n",
        "        inputs, labels = inputs.to(device), labels.to(device)\n",
        "        outputs = model(inputs)\n",
        "        _, predicted = torch.max(outputs.data, 1)\n",
        "        total += labels.size(0)\n",
        "        correct += (predicted == labels).sum().item()\n",
        "        x_test_img.extend(inputs.numpy().tolist())\n",
        "        y_test_true.extend(labels.numpy().tolist())\n",
        "        y_test_pred.extend(predicted.numpy().tolist())\n",
        "test_accuracy = 100 * correct / total\n",
        "print(\"Test set accuracy: {:.2f}%\".format(test_accuracy))\n",
        "\n",
        "# Compute the F1-score on testing set\n",
        "f1 = f1_score(y_test_true, y_test_pred, average='macro')\n",
        "print(\"Test set F1-score: {:.4f}\".format(f1))\n",
        "\n",
        "# Compute the confusion matrix for the Predictions\n",
        "cm = confusion_matrix(y_test_true, y_test_pred)\n",
        "\n",
        "# Logging the confusion matrix to W&B\n",
        "wandb.log({'confusion_matrix': wandb.Image(cm, caption='Confusion Matrix')})"
      ]
    },
    {
      "cell_type": "code",
      "execution_count": null,
      "metadata": {
        "id": "Esak49B6A3ad"
      },
      "outputs": [],
      "source": [
        "# ✨ W&B: Save Model\n",
        "torch.save(model.state_dict(),\"cnn_q1_c.pth\")\n",
        "artifact = wandb.Artifact('model', type='model')\n",
        "artifact.add_file('cnn_q1_c.pth')\n",
        "wandb.log_artifact(artifact)\n",
        "wandb.finish()"
      ]
    }
  ],
  "metadata": {
    "colab": {
      "provenance": []
    },
    "kernelspec": {
      "display_name": "Python 3",
      "language": "python",
      "name": "python3"
    },
    "language_info": {
      "codemirror_mode": {
        "name": "ipython",
        "version": 3
      },
      "file_extension": ".py",
      "mimetype": "text/x-python",
      "name": "python",
      "nbconvert_exporter": "python",
      "pygments_lexer": "ipython3",
      "version": "3.10.1"
    },
    "vscode": {
      "interpreter": {
        "hash": "4f91e35da70fd7a53ceee9ab287ed040d81eb2ccfac088551011048c25bbd6e1"
      }
    },
    "widgets": {
      "application/vnd.jupyter.widget-state+json": {
        "0af10ac407a94d78bd37985eb5bbd4d3": {
          "model_module": "@jupyter-widgets/controls",
          "model_module_version": "1.5.0",
          "model_name": "LabelModel",
          "state": {
            "_dom_classes": [],
            "_model_module": "@jupyter-widgets/controls",
            "_model_module_version": "1.5.0",
            "_model_name": "LabelModel",
            "_view_count": null,
            "_view_module": "@jupyter-widgets/controls",
            "_view_module_version": "1.5.0",
            "_view_name": "LabelView",
            "description": "",
            "description_tooltip": null,
            "layout": "IPY_MODEL_55a6de99e19a4051a70cc7adf7270a0d",
            "placeholder": "​",
            "style": "IPY_MODEL_801257ae00284ad8965a45e868caf01b",
            "value": "2.577 MB of 2.577 MB uploaded (0.000 MB deduped)\r"
          }
        },
        "55a6de99e19a4051a70cc7adf7270a0d": {
          "model_module": "@jupyter-widgets/base",
          "model_module_version": "1.2.0",
          "model_name": "LayoutModel",
          "state": {
            "_model_module": "@jupyter-widgets/base",
            "_model_module_version": "1.2.0",
            "_model_name": "LayoutModel",
            "_view_count": null,
            "_view_module": "@jupyter-widgets/base",
            "_view_module_version": "1.2.0",
            "_view_name": "LayoutView",
            "align_content": null,
            "align_items": null,
            "align_self": null,
            "border": null,
            "bottom": null,
            "display": null,
            "flex": null,
            "flex_flow": null,
            "grid_area": null,
            "grid_auto_columns": null,
            "grid_auto_flow": null,
            "grid_auto_rows": null,
            "grid_column": null,
            "grid_gap": null,
            "grid_row": null,
            "grid_template_areas": null,
            "grid_template_columns": null,
            "grid_template_rows": null,
            "height": null,
            "justify_content": null,
            "justify_items": null,
            "left": null,
            "margin": null,
            "max_height": null,
            "max_width": null,
            "min_height": null,
            "min_width": null,
            "object_fit": null,
            "object_position": null,
            "order": null,
            "overflow": null,
            "overflow_x": null,
            "overflow_y": null,
            "padding": null,
            "right": null,
            "top": null,
            "visibility": null,
            "width": null
          }
        },
        "801257ae00284ad8965a45e868caf01b": {
          "model_module": "@jupyter-widgets/controls",
          "model_module_version": "1.5.0",
          "model_name": "DescriptionStyleModel",
          "state": {
            "_model_module": "@jupyter-widgets/controls",
            "_model_module_version": "1.5.0",
            "_model_name": "DescriptionStyleModel",
            "_view_count": null,
            "_view_module": "@jupyter-widgets/base",
            "_view_module_version": "1.2.0",
            "_view_name": "StyleView",
            "description_width": ""
          }
        },
        "959db1ca28cf4878aac3fd39636b88aa": {
          "model_module": "@jupyter-widgets/controls",
          "model_module_version": "1.5.0",
          "model_name": "FloatProgressModel",
          "state": {
            "_dom_classes": [],
            "_model_module": "@jupyter-widgets/controls",
            "_model_module_version": "1.5.0",
            "_model_name": "FloatProgressModel",
            "_view_count": null,
            "_view_module": "@jupyter-widgets/controls",
            "_view_module_version": "1.5.0",
            "_view_name": "ProgressView",
            "bar_style": "",
            "description": "",
            "description_tooltip": null,
            "layout": "IPY_MODEL_ae67cff7b7c24e63b878534be46a0abe",
            "max": 1,
            "min": 0,
            "orientation": "horizontal",
            "style": "IPY_MODEL_f7d3b2203a9a4411abccbf57d430573f",
            "value": 1
          }
        },
        "ae67cff7b7c24e63b878534be46a0abe": {
          "model_module": "@jupyter-widgets/base",
          "model_module_version": "1.2.0",
          "model_name": "LayoutModel",
          "state": {
            "_model_module": "@jupyter-widgets/base",
            "_model_module_version": "1.2.0",
            "_model_name": "LayoutModel",
            "_view_count": null,
            "_view_module": "@jupyter-widgets/base",
            "_view_module_version": "1.2.0",
            "_view_name": "LayoutView",
            "align_content": null,
            "align_items": null,
            "align_self": null,
            "border": null,
            "bottom": null,
            "display": null,
            "flex": null,
            "flex_flow": null,
            "grid_area": null,
            "grid_auto_columns": null,
            "grid_auto_flow": null,
            "grid_auto_rows": null,
            "grid_column": null,
            "grid_gap": null,
            "grid_row": null,
            "grid_template_areas": null,
            "grid_template_columns": null,
            "grid_template_rows": null,
            "height": null,
            "justify_content": null,
            "justify_items": null,
            "left": null,
            "margin": null,
            "max_height": null,
            "max_width": null,
            "min_height": null,
            "min_width": null,
            "object_fit": null,
            "object_position": null,
            "order": null,
            "overflow": null,
            "overflow_x": null,
            "overflow_y": null,
            "padding": null,
            "right": null,
            "top": null,
            "visibility": null,
            "width": null
          }
        },
        "c1917d863c374405816dccbdc01168fc": {
          "model_module": "@jupyter-widgets/base",
          "model_module_version": "1.2.0",
          "model_name": "LayoutModel",
          "state": {
            "_model_module": "@jupyter-widgets/base",
            "_model_module_version": "1.2.0",
            "_model_name": "LayoutModel",
            "_view_count": null,
            "_view_module": "@jupyter-widgets/base",
            "_view_module_version": "1.2.0",
            "_view_name": "LayoutView",
            "align_content": null,
            "align_items": null,
            "align_self": null,
            "border": null,
            "bottom": null,
            "display": null,
            "flex": null,
            "flex_flow": null,
            "grid_area": null,
            "grid_auto_columns": null,
            "grid_auto_flow": null,
            "grid_auto_rows": null,
            "grid_column": null,
            "grid_gap": null,
            "grid_row": null,
            "grid_template_areas": null,
            "grid_template_columns": null,
            "grid_template_rows": null,
            "height": null,
            "justify_content": null,
            "justify_items": null,
            "left": null,
            "margin": null,
            "max_height": null,
            "max_width": null,
            "min_height": null,
            "min_width": null,
            "object_fit": null,
            "object_position": null,
            "order": null,
            "overflow": null,
            "overflow_x": null,
            "overflow_y": null,
            "padding": null,
            "right": null,
            "top": null,
            "visibility": null,
            "width": null
          }
        },
        "e9dc1cc16a96429a8ced060d4cad37f7": {
          "model_module": "@jupyter-widgets/controls",
          "model_module_version": "1.5.0",
          "model_name": "VBoxModel",
          "state": {
            "_dom_classes": [],
            "_model_module": "@jupyter-widgets/controls",
            "_model_module_version": "1.5.0",
            "_model_name": "VBoxModel",
            "_view_count": null,
            "_view_module": "@jupyter-widgets/controls",
            "_view_module_version": "1.5.0",
            "_view_name": "VBoxView",
            "box_style": "",
            "children": [
              "IPY_MODEL_0af10ac407a94d78bd37985eb5bbd4d3",
              "IPY_MODEL_959db1ca28cf4878aac3fd39636b88aa"
            ],
            "layout": "IPY_MODEL_c1917d863c374405816dccbdc01168fc"
          }
        },
        "f7d3b2203a9a4411abccbf57d430573f": {
          "model_module": "@jupyter-widgets/controls",
          "model_module_version": "1.5.0",
          "model_name": "ProgressStyleModel",
          "state": {
            "_model_module": "@jupyter-widgets/controls",
            "_model_module_version": "1.5.0",
            "_model_name": "ProgressStyleModel",
            "_view_count": null,
            "_view_module": "@jupyter-widgets/base",
            "_view_module_version": "1.2.0",
            "_view_name": "StyleView",
            "bar_color": null,
            "description_width": ""
          }
        },
        "6297940f1f6f4890b9afb3a2b24371ae": {
          "model_module": "@jupyter-widgets/controls",
          "model_name": "HBoxModel",
          "model_module_version": "1.5.0",
          "state": {
            "_dom_classes": [],
            "_model_module": "@jupyter-widgets/controls",
            "_model_module_version": "1.5.0",
            "_model_name": "HBoxModel",
            "_view_count": null,
            "_view_module": "@jupyter-widgets/controls",
            "_view_module_version": "1.5.0",
            "_view_name": "HBoxView",
            "box_style": "",
            "children": [
              "IPY_MODEL_d276b72949d1422fad72517e36273276",
              "IPY_MODEL_c84befeb2a3c4a9a8f4b6fd13cd917a0",
              "IPY_MODEL_ab47e74986db47a993993f4dbb85068f"
            ],
            "layout": "IPY_MODEL_c61510730fdc4f39a38abc9df29d888b"
          }
        },
        "d276b72949d1422fad72517e36273276": {
          "model_module": "@jupyter-widgets/controls",
          "model_name": "HTMLModel",
          "model_module_version": "1.5.0",
          "state": {
            "_dom_classes": [],
            "_model_module": "@jupyter-widgets/controls",
            "_model_module_version": "1.5.0",
            "_model_name": "HTMLModel",
            "_view_count": null,
            "_view_module": "@jupyter-widgets/controls",
            "_view_module_version": "1.5.0",
            "_view_name": "HTMLView",
            "description": "",
            "description_tooltip": null,
            "layout": "IPY_MODEL_95d2776442174494a8ec32557a64a995",
            "placeholder": "​",
            "style": "IPY_MODEL_85367266997c4a05987a36a5ab5d29bd",
            "value": "100%"
          }
        },
        "c84befeb2a3c4a9a8f4b6fd13cd917a0": {
          "model_module": "@jupyter-widgets/controls",
          "model_name": "FloatProgressModel",
          "model_module_version": "1.5.0",
          "state": {
            "_dom_classes": [],
            "_model_module": "@jupyter-widgets/controls",
            "_model_module_version": "1.5.0",
            "_model_name": "FloatProgressModel",
            "_view_count": null,
            "_view_module": "@jupyter-widgets/controls",
            "_view_module_version": "1.5.0",
            "_view_name": "ProgressView",
            "bar_style": "success",
            "description": "",
            "description_tooltip": null,
            "layout": "IPY_MODEL_ad9706dcdd8a440684427ef89b5b59cc",
            "max": 46830571,
            "min": 0,
            "orientation": "horizontal",
            "style": "IPY_MODEL_d05984062ac948afbba15758ebb33865",
            "value": 46830571
          }
        },
        "ab47e74986db47a993993f4dbb85068f": {
          "model_module": "@jupyter-widgets/controls",
          "model_name": "HTMLModel",
          "model_module_version": "1.5.0",
          "state": {
            "_dom_classes": [],
            "_model_module": "@jupyter-widgets/controls",
            "_model_module_version": "1.5.0",
            "_model_name": "HTMLModel",
            "_view_count": null,
            "_view_module": "@jupyter-widgets/controls",
            "_view_module_version": "1.5.0",
            "_view_name": "HTMLView",
            "description": "",
            "description_tooltip": null,
            "layout": "IPY_MODEL_f6d0187f81154b208ecd9f05ff11599d",
            "placeholder": "​",
            "style": "IPY_MODEL_1eba9b7263f546a0bc727e83bd9ec4c0",
            "value": " 44.7M/44.7M [00:00&lt;00:00, 143MB/s]"
          }
        },
        "c61510730fdc4f39a38abc9df29d888b": {
          "model_module": "@jupyter-widgets/base",
          "model_name": "LayoutModel",
          "model_module_version": "1.2.0",
          "state": {
            "_model_module": "@jupyter-widgets/base",
            "_model_module_version": "1.2.0",
            "_model_name": "LayoutModel",
            "_view_count": null,
            "_view_module": "@jupyter-widgets/base",
            "_view_module_version": "1.2.0",
            "_view_name": "LayoutView",
            "align_content": null,
            "align_items": null,
            "align_self": null,
            "border": null,
            "bottom": null,
            "display": null,
            "flex": null,
            "flex_flow": null,
            "grid_area": null,
            "grid_auto_columns": null,
            "grid_auto_flow": null,
            "grid_auto_rows": null,
            "grid_column": null,
            "grid_gap": null,
            "grid_row": null,
            "grid_template_areas": null,
            "grid_template_columns": null,
            "grid_template_rows": null,
            "height": null,
            "justify_content": null,
            "justify_items": null,
            "left": null,
            "margin": null,
            "max_height": null,
            "max_width": null,
            "min_height": null,
            "min_width": null,
            "object_fit": null,
            "object_position": null,
            "order": null,
            "overflow": null,
            "overflow_x": null,
            "overflow_y": null,
            "padding": null,
            "right": null,
            "top": null,
            "visibility": null,
            "width": null
          }
        },
        "95d2776442174494a8ec32557a64a995": {
          "model_module": "@jupyter-widgets/base",
          "model_name": "LayoutModel",
          "model_module_version": "1.2.0",
          "state": {
            "_model_module": "@jupyter-widgets/base",
            "_model_module_version": "1.2.0",
            "_model_name": "LayoutModel",
            "_view_count": null,
            "_view_module": "@jupyter-widgets/base",
            "_view_module_version": "1.2.0",
            "_view_name": "LayoutView",
            "align_content": null,
            "align_items": null,
            "align_self": null,
            "border": null,
            "bottom": null,
            "display": null,
            "flex": null,
            "flex_flow": null,
            "grid_area": null,
            "grid_auto_columns": null,
            "grid_auto_flow": null,
            "grid_auto_rows": null,
            "grid_column": null,
            "grid_gap": null,
            "grid_row": null,
            "grid_template_areas": null,
            "grid_template_columns": null,
            "grid_template_rows": null,
            "height": null,
            "justify_content": null,
            "justify_items": null,
            "left": null,
            "margin": null,
            "max_height": null,
            "max_width": null,
            "min_height": null,
            "min_width": null,
            "object_fit": null,
            "object_position": null,
            "order": null,
            "overflow": null,
            "overflow_x": null,
            "overflow_y": null,
            "padding": null,
            "right": null,
            "top": null,
            "visibility": null,
            "width": null
          }
        },
        "85367266997c4a05987a36a5ab5d29bd": {
          "model_module": "@jupyter-widgets/controls",
          "model_name": "DescriptionStyleModel",
          "model_module_version": "1.5.0",
          "state": {
            "_model_module": "@jupyter-widgets/controls",
            "_model_module_version": "1.5.0",
            "_model_name": "DescriptionStyleModel",
            "_view_count": null,
            "_view_module": "@jupyter-widgets/base",
            "_view_module_version": "1.2.0",
            "_view_name": "StyleView",
            "description_width": ""
          }
        },
        "ad9706dcdd8a440684427ef89b5b59cc": {
          "model_module": "@jupyter-widgets/base",
          "model_name": "LayoutModel",
          "model_module_version": "1.2.0",
          "state": {
            "_model_module": "@jupyter-widgets/base",
            "_model_module_version": "1.2.0",
            "_model_name": "LayoutModel",
            "_view_count": null,
            "_view_module": "@jupyter-widgets/base",
            "_view_module_version": "1.2.0",
            "_view_name": "LayoutView",
            "align_content": null,
            "align_items": null,
            "align_self": null,
            "border": null,
            "bottom": null,
            "display": null,
            "flex": null,
            "flex_flow": null,
            "grid_area": null,
            "grid_auto_columns": null,
            "grid_auto_flow": null,
            "grid_auto_rows": null,
            "grid_column": null,
            "grid_gap": null,
            "grid_row": null,
            "grid_template_areas": null,
            "grid_template_columns": null,
            "grid_template_rows": null,
            "height": null,
            "justify_content": null,
            "justify_items": null,
            "left": null,
            "margin": null,
            "max_height": null,
            "max_width": null,
            "min_height": null,
            "min_width": null,
            "object_fit": null,
            "object_position": null,
            "order": null,
            "overflow": null,
            "overflow_x": null,
            "overflow_y": null,
            "padding": null,
            "right": null,
            "top": null,
            "visibility": null,
            "width": null
          }
        },
        "d05984062ac948afbba15758ebb33865": {
          "model_module": "@jupyter-widgets/controls",
          "model_name": "ProgressStyleModel",
          "model_module_version": "1.5.0",
          "state": {
            "_model_module": "@jupyter-widgets/controls",
            "_model_module_version": "1.5.0",
            "_model_name": "ProgressStyleModel",
            "_view_count": null,
            "_view_module": "@jupyter-widgets/base",
            "_view_module_version": "1.2.0",
            "_view_name": "StyleView",
            "bar_color": null,
            "description_width": ""
          }
        },
        "f6d0187f81154b208ecd9f05ff11599d": {
          "model_module": "@jupyter-widgets/base",
          "model_name": "LayoutModel",
          "model_module_version": "1.2.0",
          "state": {
            "_model_module": "@jupyter-widgets/base",
            "_model_module_version": "1.2.0",
            "_model_name": "LayoutModel",
            "_view_count": null,
            "_view_module": "@jupyter-widgets/base",
            "_view_module_version": "1.2.0",
            "_view_name": "LayoutView",
            "align_content": null,
            "align_items": null,
            "align_self": null,
            "border": null,
            "bottom": null,
            "display": null,
            "flex": null,
            "flex_flow": null,
            "grid_area": null,
            "grid_auto_columns": null,
            "grid_auto_flow": null,
            "grid_auto_rows": null,
            "grid_column": null,
            "grid_gap": null,
            "grid_row": null,
            "grid_template_areas": null,
            "grid_template_columns": null,
            "grid_template_rows": null,
            "height": null,
            "justify_content": null,
            "justify_items": null,
            "left": null,
            "margin": null,
            "max_height": null,
            "max_width": null,
            "min_height": null,
            "min_width": null,
            "object_fit": null,
            "object_position": null,
            "order": null,
            "overflow": null,
            "overflow_x": null,
            "overflow_y": null,
            "padding": null,
            "right": null,
            "top": null,
            "visibility": null,
            "width": null
          }
        },
        "1eba9b7263f546a0bc727e83bd9ec4c0": {
          "model_module": "@jupyter-widgets/controls",
          "model_name": "DescriptionStyleModel",
          "model_module_version": "1.5.0",
          "state": {
            "_model_module": "@jupyter-widgets/controls",
            "_model_module_version": "1.5.0",
            "_model_name": "DescriptionStyleModel",
            "_view_count": null,
            "_view_module": "@jupyter-widgets/base",
            "_view_module_version": "1.2.0",
            "_view_name": "StyleView",
            "description_width": ""
          }
        }
      }
    }
  },
  "nbformat": 4,
  "nbformat_minor": 0
}