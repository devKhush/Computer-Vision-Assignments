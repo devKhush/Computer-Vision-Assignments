{
  "cells": [
    {
      "cell_type": "markdown",
      "metadata": {
        "id": "nlhNJr6ezbIM"
      },
      "source": [
        "# **Khushdev Pandit**\n",
        "# **Roll no: 2020211** \n",
        "# *Assignment Question-3*"
      ]
    },
    {
      "cell_type": "code",
      "execution_count": null,
      "metadata": {
        "id": "5IRBjc3PyBFJ"
      },
      "outputs": [],
      "source": [
        "import os\n",
        "from PIL import Image\n",
        "import torch\n",
        "import torch.nn as nn\n",
        "import torchvision\n",
        "import torchvision.transforms as transforms\n",
        "import torchvision.datasets as datasets\n",
        "import torchvision.models as models\n",
        "from torch.utils.data import DataLoader\n",
        "from torch.utils.data import Dataset\n",
        "from torch.utils.data import TensorDataset\n",
        "import torch.optim as optim\n",
        "import matplotlib.pyplot as plt\n",
        "import matplotlib as mpl\n",
        "mpl.rcParams['figure.facecolor'] = 'white'\n",
        "import torch.nn.functional as F\n",
        "import cv2\n",
        "import numpy as np\n",
        "from torch.utils.data.sampler import SubsetRandomSampler\n",
        "import pickle\n",
        "from sklearn import manifold\n",
        "import pandas as pd\n",
        "import seaborn as sns\n",
        "from sklearn.metrics import classification_report\n",
        "from tqdm import tqdm"
      ]
    },
    {
      "cell_type": "markdown",
      "metadata": {
        "id": "rXMqKoZgyTW6"
      },
      "source": [
        "# **Q3 Part-1**"
      ]
    },
    {
      "cell_type": "markdown",
      "metadata": {
        "id": "UbBt8rnRyVmA"
      },
      "source": [
        "## **1(a)** *(1 point) Download the dataset. Use 20% of the training dataset for validation and 10% for testing. Initialize Weights & Biases (WandB).*"
      ]
    },
    {
      "cell_type": "code",
      "execution_count": null,
      "metadata": {
        "id": "tswO_KtWyBFN"
      },
      "outputs": [],
      "source": [
        "from google.colab import drive\n",
        "drive.mount(\"/content/gdrive\")"
      ]
    },
    {
      "cell_type": "code",
      "execution_count": null,
      "metadata": {
        "id": "LobXT-OLyoyI"
      },
      "outputs": [],
      "source": [
        "!pip install wandb"
      ]
    },
    {
      "cell_type": "code",
      "execution_count": null,
      "metadata": {
        "id": "-MppJy48zdIz"
      },
      "outputs": [],
      "source": [
        "import wandb\n",
        "wandb.login()"
      ]
    },
    {
      "cell_type": "code",
      "execution_count": null,
      "metadata": {
        "id": "gS_oOeUn0WOc"
      },
      "outputs": [],
      "source": [
        "path_data_img = \"/content/gdrive/MyDrive/ECE344: CV (Computer Vision)/Assignments/Assignment-1/Q3/svhn_yolo/images/all\"\n",
        "img_path_list = os.listdir(path_data_img)\n",
        "img_path_list.sort()\n",
        "print(\"Number of images: \", len(img_path_list))"
      ]
    },
    {
      "cell_type": "code",
      "execution_count": null,
      "metadata": {
        "id": "ec5-VDSabqdi"
      },
      "outputs": [],
      "source": [
        "path_data_label = \"/content/gdrive/MyDrive/ECE344: CV (Computer Vision)/Assignments/Assignment-1/Q3/svhn_yolo/labels/all\"\n",
        "label_path_list = os.listdir(path_data_label)\n",
        "label_path_list.sort()\n",
        "print(\"Number of labels: \", len(label_path_list))"
      ]
    },
    {
      "cell_type": "code",
      "source": [],
      "metadata": {
        "id": "Q5PFQJJHykd0"
      },
      "execution_count": null,
      "outputs": []
    }
  ],
  "metadata": {
    "colab": {
      "provenance": []
    },
    "gpuClass": "standard",
    "kernelspec": {
      "display_name": "Python 3",
      "language": "python",
      "name": "python3"
    },
    "language_info": {
      "name": "python",
      "version": "3.10.1"
    },
    "vscode": {
      "interpreter": {
        "hash": "4f91e35da70fd7a53ceee9ab287ed040d81eb2ccfac088551011048c25bbd6e1"
      }
    }
  },
  "nbformat": 4,
  "nbformat_minor": 0
}