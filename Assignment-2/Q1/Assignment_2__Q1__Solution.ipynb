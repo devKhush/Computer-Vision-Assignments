{
 "cells": [
  {
   "attachments": {},
   "cell_type": "markdown",
   "metadata": {},
   "source": [
    "# **Khushdev Pandit**\n",
    "# **Roll no: 2020211** \n",
    "# *Assignment Question-1*"
   ]
  },
  {
   "attachments": {},
   "cell_type": "markdown",
   "metadata": {},
   "source": [
    "#"
   ]
  },
  {
   "attachments": {},
   "cell_type": "markdown",
   "metadata": {},
   "source": [
    "# **Q1 Part-1**\n",
    "* ##### (5 points) Report the estimated intrinsic camera parameters, i.e., focal length(s), skew parameter and principal point along with error estimates if available."
   ]
  },
  {
   "cell_type": "code",
   "execution_count": 36,
   "metadata": {},
   "outputs": [
    {
     "name": "stdout",
     "output_type": "stream",
     "text": [
      "Number of images:  28\n"
     ]
    }
   ],
   "source": [
    "import cv2\n",
    "import numpy as np\n",
    "import matplotlib.pyplot as plt\n",
    "import os\n",
    "import glob\n",
    "import matplotlib as mpl\n",
    "from tqdm import tqdm\n",
    "mpl.rcParams['figure.facecolor'] = 'white'\n",
    "\n",
    "\n",
    "images = glob.glob('Chess_Images/*.jpg')\n",
    "print(\"Number of images: \", len(images))"
   ]
  },
  {
   "cell_type": "code",
   "execution_count": 3,
   "metadata": {},
   "outputs": [],
   "source": [
    "def find_world_and_image_points(images, checkerboard_size=(5,5)):\n",
    "    # Arrays to store object points and image points from all the images.\n",
    "    objects_points = []     # 3d points in real world space\n",
    "    image_points = []       # 2d points in image plane.\n",
    "\n",
    "    # Prepare world coordinate for 3D-object points, like (0,0,0), (1,0,0), (2,0,0) ....,(6,5,0), and so on\n",
    "    objp = np.zeros((1, checkerboard_size[0]*checkerboard_size[1], 3), np.float32)\n",
    "    objp[0,:,:2] = np.mgrid[0:checkerboard_size[0], 0:checkerboard_size[1]].T.reshape(-1, 2)\n",
    "    \n",
    "    # termination criteria\n",
    "    criteria = (cv2.TERM_CRITERIA_EPS + cv2.TERM_CRITERIA_MAX_ITER, 30, 0.001)\n",
    "    \n",
    "    # Step through the list and search for chessboard corners\n",
    "    cnt = 0\n",
    "    for fname in images:\n",
    "        cnt += 1\n",
    "        print(\"Processing Image-\" + str(cnt), \": \", fname)\n",
    "        \n",
    "        # Read the image, invert it and convert to grayscale\n",
    "        img = cv2.imread(fname)\n",
    "        inverted_img = np.array(255 - img, dtype=np.uint8)\n",
    "        gray_img = cv2.cvtColor(inverted_img, cv2.COLOR_BGR2GRAY)\n",
    "\n",
    "        # Locate the chessboard corners in the chessboard image\n",
    "        ret, corners = cv2.findChessboardCorners(image=gray_img, patternSize=checkerboard_size, \n",
    "                flags=cv2.CALIB_CB_ADAPTIVE_THRESH + cv2.CALIB_CB_FAST_CHECK + cv2.CALIB_CB_NORMALIZE_IMAGE)\n",
    "\n",
    "        # If corner is found, add object points, image points\n",
    "        if ret == True:\n",
    "            print(\"Corners found\")\n",
    "            # Refined chessboard corners for better accuracy\n",
    "            corners_refined = cv2.cornerSubPix(gray_img, corners, (11,11), (-1,-1), criteria)\n",
    "\n",
    "            # print('Sum of Difference in corner and refined corner:', (corners_refined-corners).sum())\n",
    "            objects_points.append(objp)\n",
    "            image_points.append(corners_refined)\n",
    "\n",
    "            # Draw the corners\n",
    "            corners_img = cv2.drawChessboardCorners(img, checkerboard_size, corners_refined, ret)\n",
    "            for corner in corners_refined.squeeze():\n",
    "                coord = (int(corner[0]), int(corner[1]))\n",
    "                cv2.circle(img=corners_img, center=coord, radius=33, color=(255, 0, 0), thickness=15)\n",
    "\n",
    "            plt.imsave(\"Chess_Corners/\" + str(fname.split('\\\\')[-1].split('.')[0] + '.png'), corners_img)\n",
    "\n",
    "    return objects_points, image_points"
   ]
  },
  {
   "cell_type": "code",
   "execution_count": 4,
   "metadata": {},
   "outputs": [
    {
     "name": "stdout",
     "output_type": "stream",
     "text": [
      "Processing Image-1 :  Chess_Images\\IMG_20230402_131411.jpg\n",
      "Corners found\n",
      "Processing Image-2 :  Chess_Images\\IMG_20230402_131417.jpg\n",
      "Corners found\n",
      "Processing Image-3 :  Chess_Images\\IMG_20230402_131422.jpg\n",
      "Corners found\n",
      "Processing Image-4 :  Chess_Images\\IMG_20230402_131426.jpg\n",
      "Corners found\n",
      "Processing Image-5 :  Chess_Images\\IMG_20230402_131436.jpg\n",
      "Corners found\n",
      "Processing Image-6 :  Chess_Images\\IMG_20230402_131443.jpg\n",
      "Corners found\n",
      "Processing Image-7 :  Chess_Images\\IMG_20230402_131452.jpg\n",
      "Corners found\n",
      "Processing Image-8 :  Chess_Images\\IMG_20230402_131457.jpg\n",
      "Corners found\n",
      "Processing Image-9 :  Chess_Images\\IMG_20230402_131500.jpg\n",
      "Corners found\n",
      "Processing Image-10 :  Chess_Images\\IMG_20230402_131506.jpg\n",
      "Corners found\n",
      "Processing Image-11 :  Chess_Images\\IMG_20230402_131512.jpg\n",
      "Corners found\n",
      "Processing Image-12 :  Chess_Images\\IMG_20230402_131536.jpg\n",
      "Corners found\n",
      "Processing Image-13 :  Chess_Images\\IMG_20230402_131614.jpg\n",
      "Corners found\n",
      "Processing Image-14 :  Chess_Images\\IMG_20230402_131640.jpg\n",
      "Corners found\n",
      "Processing Image-15 :  Chess_Images\\IMG_20230402_131642.jpg\n",
      "Corners found\n",
      "Processing Image-16 :  Chess_Images\\IMG_20230402_131645.jpg\n",
      "Corners found\n",
      "Processing Image-17 :  Chess_Images\\IMG_20230402_131648.jpg\n",
      "Corners found\n",
      "Processing Image-18 :  Chess_Images\\IMG_20230402_131653.jpg\n",
      "Corners found\n",
      "Processing Image-19 :  Chess_Images\\IMG_20230402_131656.jpg\n",
      "Corners found\n",
      "Processing Image-20 :  Chess_Images\\IMG_20230402_131704.jpg\n",
      "Corners found\n",
      "Processing Image-21 :  Chess_Images\\IMG_20230402_131706.jpg\n",
      "Corners found\n",
      "Processing Image-22 :  Chess_Images\\IMG_20230402_131708.jpg\n",
      "Corners found\n",
      "Processing Image-23 :  Chess_Images\\IMG_20230402_131714.jpg\n",
      "Corners found\n",
      "Processing Image-24 :  Chess_Images\\IMG_20230402_131835.jpg\n",
      "Corners found\n",
      "Processing Image-25 :  Chess_Images\\IMG_20230402_131851.jpg\n",
      "Corners found\n",
      "Processing Image-26 :  Chess_Images\\IMG_20230402_131930.jpg\n",
      "Corners found\n",
      "Processing Image-27 :  Chess_Images\\IMG_20230402_131940.jpg\n",
      "Corners found\n",
      "Processing Image-28 :  Chess_Images\\IMG_20230402_131955.jpg\n",
      "Corners found\n"
     ]
    }
   ],
   "source": [
    "# Locate the chessboard corners in the chessboard image\n",
    "checkerboard_size=(5,5)\n",
    "objects_points, image_points = find_world_and_image_points(images, checkerboard_size)"
   ]
  },
  {
   "cell_type": "code",
   "execution_count": 5,
   "metadata": {},
   "outputs": [
    {
     "name": "stdout",
     "output_type": "stream",
     "text": [
      "ret : \n",
      " 2.9029874512404708 \n",
      "\n",
      "Internal Camera matrix : \n",
      " [[3.59083306e+03 0.00000000e+00 2.18587381e+03]\n",
      " [0.00000000e+00 3.61682218e+03 1.15224849e+03]\n",
      " [0.00000000e+00 0.00000000e+00 1.00000000e+00]] \n",
      "\n",
      "dist : \n",
      " [[ 0.35342384 -3.46665081 -0.02122771 -0.01373224  5.72094171]] \n",
      "\n",
      "Focal length :\n",
      "fx =  3590.833064903618\n",
      "fy =  3616.8221776162177\n",
      "\n",
      "Principal point :\n",
      "cx =  2185.873809980998\n",
      "cy =  1152.2484917564666\n",
      "\n",
      "Skew paramerer:\n",
      "s =  0.0\n"
     ]
    }
   ],
   "source": [
    "img = cv2.imread(images[0])\n",
    "retVal, cameraInternalMatrix, distCoeffs, rvecs, tvecs = cv2.calibrateCamera(objects_points, image_points, img.shape[:2],None,None)\n",
    "\n",
    "print(\"ret : \\n\", retVal, \"\\n\")\n",
    "print(\"Internal Camera matrix : \\n\", cameraInternalMatrix, \"\\n\")\n",
    "print(\"dist : \\n\", distCoeffs, \"\\n\")\n",
    "\n",
    "print(\"Focal length :\")\n",
    "print(\"fx = \", cameraInternalMatrix[0,0])\n",
    "print(\"fy = \", cameraInternalMatrix[1,1])\n",
    "print(\"\\nPrincipal point :\")\n",
    "print(\"cx = \", cameraInternalMatrix[0,2])\n",
    "print(\"cy = \", cameraInternalMatrix[1,2])\n",
    "print(\"\\nSkew paramerer:\")\n",
    "print(\"s = \", cameraInternalMatrix[0,1])"
   ]
  },
  {
   "cell_type": "code",
   "execution_count": 10,
   "metadata": {},
   "outputs": [],
   "source": [
    "np.savez('calibration.npz', mtx=cameraInternalMatrix, dist=distCoeffs, rvecs=rvecs, tvecs=tvecs)"
   ]
  },
  {
   "cell_type": "code",
   "execution_count": 11,
   "metadata": {},
   "outputs": [],
   "source": [
    "data = np.load('calibration.npz')\n",
    "cameraInternalMatrix1 = data['mtx']\n",
    "distCoeffs1 = data['dist']\n",
    "rvecs1 = data['rvecs']\n",
    "tvecs1 = data['tvecs']"
   ]
  },
  {
   "attachments": {},
   "cell_type": "markdown",
   "metadata": {},
   "source": [
    "# **Q1 Part-2**\n",
    "* ##### (5 points) Report the estimated extrinsic camera parameters, i.e., rotation matrix and translation vector for each of the selected images."
   ]
  },
  {
   "cell_type": "code",
   "execution_count": 6,
   "metadata": {},
   "outputs": [
    {
     "name": "stdout",
     "output_type": "stream",
     "text": [
      "Length of Translation Vector:  28\n",
      "Length of Rotation Vector:  28\n",
      "Translation Vector Shape:  (28, 3, 1)\n",
      "Rotation Vector Shape:  (28, 3, 1)\n"
     ]
    }
   ],
   "source": [
    "print(\"Length of Translation Vector: \", len(tvecs))\n",
    "print(\"Length of Rotation Vector: \", len(rvecs))\n",
    "print(\"Translation Vector Shape: \", np.array(tvecs).shape)\n",
    "print(\"Rotation Vector Shape: \", np.array(rvecs).shape)"
   ]
  },
  {
   "cell_type": "code",
   "execution_count": 7,
   "metadata": {},
   "outputs": [
    {
     "name": "stdout",
     "output_type": "stream",
     "text": [
      "Translation Vector for Image-1:  [-2.08240623 -1.5133837  12.7989665 ]\n",
      "Rotation Matrix for Image-1: \n",
      " [[ 0.99942363 -0.0127346  -0.0314681 ]\n",
      " [ 0.0128625   0.9999098   0.00386529]\n",
      " [ 0.03141603 -0.00426782  0.99949728]]\n",
      "\n",
      "Translation Vector for Image-2:  [-1.18808451 -1.2212676  15.41348057]\n",
      "Rotation Matrix for Image-2: \n",
      " [[-0.04698458 -0.88119303  0.47041608]\n",
      " [ 0.99726649 -0.01449519  0.07245307]\n",
      " [-0.05702637  0.47253437  0.87946533]]\n",
      "\n",
      "Translation Vector for Image-3:  [-4.01634327 -0.91581462 18.73782882]\n",
      "Rotation Matrix for Image-3: \n",
      " [[ 0.90025277 -0.246029    0.35918614]\n",
      " [ 0.31149245  0.94038066 -0.13658942]\n",
      " [-0.30416674  0.23484878  0.92321647]]\n",
      "\n",
      "Translation Vector for Image-4:  [-2.94285076 -2.70809673 15.83170226]\n",
      "Rotation Matrix for Image-4: \n",
      " [[ 0.96448887 -0.19012082  0.18334475]\n",
      " [ 0.17959713  0.98106169  0.07254542]\n",
      " [-0.1936649  -0.03704106  0.98036823]]\n",
      "\n",
      "Translation Vector for Image-5:  [-1.18142315 -1.85368307 14.60135143]\n",
      "Rotation Matrix for Image-5: \n",
      " [[ 0.78279454  0.06913201 -0.61842823]\n",
      " [ 0.07997233  0.97439252  0.21015149]\n",
      " [ 0.61712004 -0.21396258  0.75722049]]\n",
      "\n",
      "Translation Vector for Image-6:  [-2.26922214 -2.08390956 15.40785112]\n",
      "Rotation Matrix for Image-6: \n",
      " [[ 0.98411516 -0.00936597 -0.17728406]\n",
      " [ 0.06898583  0.9403049   0.33326813]\n",
      " [ 0.16357969 -0.3402043   0.92601443]]\n",
      "\n",
      "Translation Vector for Image-7:  [-3.00198614 -0.40534628 14.17422657]\n",
      "Rotation Matrix for Image-7: \n",
      " [[ 0.99951402 -0.00571218  0.03064475]\n",
      " [ 0.01859187  0.89831973 -0.43894875]\n",
      " [-0.02502143  0.43930518  0.89798936]]\n",
      "\n",
      "Translation Vector for Image-8:  [-2.80903779 -0.99535319 15.41692731]\n",
      "Rotation Matrix for Image-8: \n",
      " [[ 0.99932428 -0.0293595  -0.02211355]\n",
      " [ 0.03094336  0.99669869  0.07506153]\n",
      " [ 0.01983678 -0.07569508  0.99693368]]\n",
      "\n",
      "Translation Vector for Image-9:  [-1.33014272 -1.04335177 16.27272176]\n",
      "Rotation Matrix for Image-9: \n",
      " [[ 0.13509392 -0.98017707  0.14492258]\n",
      " [ 0.99063782  0.13071328 -0.03937951]\n",
      " [ 0.01965558  0.14888572  0.98865904]]\n",
      "\n",
      "Translation Vector for Image-10:  [-2.18274857 -0.8480398  13.59361653]\n",
      "Rotation Matrix for Image-10: \n",
      " [[ 0.60143024 -0.56829662  0.56153417]\n",
      " [ 0.79485732  0.35479642 -0.49226145]\n",
      " [ 0.08052021  0.74240047  0.66510002]]\n",
      "\n",
      "Translation Vector for Image-11:  [-3.61102746 -0.85718527 17.2646788 ]\n",
      "Rotation Matrix for Image-11: \n",
      " [[ 0.69448285  0.18903612  0.69423261]\n",
      " [ 0.10612769  0.92740289 -0.35869318]\n",
      " [-0.71163929  0.32278357  0.62400343]]\n",
      "\n",
      "Translation Vector for Image-12:  [-3.06000649 -0.06465448 13.22776733]\n",
      "Rotation Matrix for Image-12: \n",
      " [[ 0.98904106 -0.09324901 -0.11446573]\n",
      " [ 0.03880495  0.91222557 -0.4078464 ]\n",
      " [ 0.14244984  0.398935    0.90584707]]\n",
      "\n",
      "Translation Vector for Image-13:  [ 2.61093154 -1.70283642 12.72729523]\n",
      "Rotation Matrix for Image-13: \n",
      " [[ 0.05316619 -0.99849253  0.0136394 ]\n",
      " [ 0.84155022  0.05215393  0.53765527]\n",
      " [-0.53755612 -0.01710684  0.84305443]]\n",
      "\n",
      "Translation Vector for Image-14:  [ 2.01771979 -0.39455758 13.40439045]\n",
      "Rotation Matrix for Image-14: \n",
      " [[ 0.0874435  -0.99036233  0.10740615]\n",
      " [ 0.89782967  0.03164103 -0.43920466]\n",
      " [ 0.43157332  0.13483802  0.89194349]]\n",
      "\n",
      "Translation Vector for Image-15:  [ 1.54976426 -1.0859669  13.78055228]\n",
      "Rotation Matrix for Image-15: \n",
      " [[ 0.03051352 -0.99528873  0.09202865]\n",
      " [ 0.96392938  0.00494624 -0.26611218]\n",
      " [ 0.26440325  0.09682914  0.95953897]]\n",
      "\n",
      "Translation Vector for Image-16:  [ 1.6696009   2.50850436 13.59934524]\n",
      "Rotation Matrix for Image-16: \n",
      " [[-9.98941029e-01  2.02246235e-03  4.59644413e-02]\n",
      " [-7.84372587e-04 -9.99636801e-01  2.69379068e-02]\n",
      " [ 4.60022280e-02  2.68733271e-02  9.98579801e-01]]\n",
      "\n",
      "Translation Vector for Image-17:  [ 1.97930774 -1.829155   14.02927855]\n",
      "Rotation Matrix for Image-17: \n",
      " [[ 0.00129774 -0.99786131  0.06535384]\n",
      " [ 0.94995588  0.02164552  0.31163328]\n",
      " [-0.31238141  0.06167885  0.94795231]]\n",
      "\n",
      "Translation Vector for Image-18:  [-1.90251877 -1.70660719 13.56145013]\n",
      "Rotation Matrix for Image-18: \n",
      " [[ 9.99460910e-01 -3.28311935e-02 -4.53974186e-05]\n",
      " [ 2.92303051e-02  8.89209845e-01  4.56564826e-01]\n",
      " [-1.49492003e-02 -4.56320023e-01  8.89690147e-01]]\n",
      "\n",
      "Translation Vector for Image-19:  [-2.54059851 -1.90134045 13.11562995]\n",
      "Rotation Matrix for Image-19: \n",
      " [[ 0.999799   -0.00982866 -0.01747457]\n",
      " [ 0.01812687  0.81554176  0.57841426]\n",
      " [ 0.0085662  -0.57861475  0.815556  ]]\n",
      "\n",
      "Translation Vector for Image-20:  [-4.04245872 -0.81103792 15.55140193]\n",
      "Rotation Matrix for Image-20: \n",
      " [[ 0.8757196   0.06724137  0.47811481]\n",
      " [ 0.17370992  0.88006483 -0.44193977]\n",
      " [-0.45048867  0.47006861  0.75900953]]\n",
      "\n",
      "Translation Vector for Image-21:  [-4.6585064  -1.32905591 15.66307676]\n",
      "Rotation Matrix for Image-21: \n",
      " [[ 0.87528898  0.07605092  0.47758294]\n",
      " [ 0.0841829   0.94851846 -0.30532929]\n",
      " [-0.47621681  0.30745568  0.82382556]]\n",
      "\n",
      "Translation Vector for Image-22:  [-1.17357333 -1.45005406 13.83622145]\n",
      "Rotation Matrix for Image-22: \n",
      " [[ 0.14137725 -0.87071797  0.47102303]\n",
      " [ 0.98919733  0.1056318  -0.10163938]\n",
      " [ 0.03874422  0.48030422  0.87624582]]\n",
      "\n",
      "Translation Vector for Image-23:  [-0.42298795 -1.75963844 13.80001721]\n",
      "Rotation Matrix for Image-23: \n",
      " [[ 0.06184254 -0.84522904  0.53081388]\n",
      " [ 0.964065    0.18825821  0.18745004]\n",
      " [-0.25836829  0.50014669  0.8264981 ]]\n",
      "\n",
      "Translation Vector for Image-24:  [-4.92066041 -0.54787213 12.28365138]\n",
      "Rotation Matrix for Image-24: \n",
      " [[ 0.23330213  0.02767523 -0.97201039]\n",
      " [ 0.03105504  0.99887297  0.0358939 ]\n",
      " [ 0.97190828 -0.03855994  0.23217973]]\n",
      "\n",
      "Translation Vector for Image-25:  [-2.89373069 -2.55679618 16.73966735]\n",
      "Rotation Matrix for Image-25: \n",
      " [[ 0.38396521 -0.3587514  -0.85080441]\n",
      " [ 0.92128765  0.21036512  0.32707121]\n",
      " [ 0.06164232 -0.90941957  0.41128612]]\n",
      "\n",
      "Translation Vector for Image-26:  [-3.46120715  0.48237108 10.9236405 ]\n",
      "Rotation Matrix for Image-26: \n",
      " [[ 0.43305051 -0.06190003 -0.8992417 ]\n",
      " [ 0.2314976   0.97181316  0.04458744]\n",
      " [ 0.87113496 -0.22748091  0.43517389]]\n",
      "\n",
      "Translation Vector for Image-27:  [-3.15804519 -0.06449233 11.48591083]\n",
      "Rotation Matrix for Image-27: \n",
      " [[ 0.35721483 -0.21893145 -0.90800142]\n",
      " [ 0.47708803  0.87852408 -0.02413392]\n",
      " [ 0.80298479 -0.42457562  0.4182714 ]]\n",
      "\n",
      "Translation Vector for Image-28:  [ 1.52239066 -2.54777009 14.57942674]\n",
      "Rotation Matrix for Image-28: \n",
      " [[ 0.51189856 -0.7769883  -0.36640013]\n",
      " [ 0.81073471  0.29594411  0.50510031]\n",
      " [-0.28402307 -0.55561342  0.78142474]]\n",
      "\n"
     ]
    }
   ],
   "source": [
    "for i in range(len(tvecs)):\n",
    "    tranlation_vector = tvecs[i].squeeze()\n",
    "    Rotation_matrix, Jacobian_matrix = cv2.Rodrigues(rvecs[i])\n",
    "    print(\"Translation Vector for Image-\" + str(i+1) + \": \", tranlation_vector)\n",
    "    print(\"Rotation Matrix for Image-\" + str(i+1) + \": \\n\", Rotation_matrix)\n",
    "    print()"
   ]
  },
  {
   "attachments": {},
   "cell_type": "markdown",
   "metadata": {},
   "source": [
    "# **Q1 Part-3**\n",
    "* ##### (5 points) Report the estimated radial distortion coefficients. Use the radial distortion coefficients to undistort 5 of the raw images and include them in your report. Observe how straight lines at the corner of the images change upon application of the distortion coefficients. Comment briefly on this observation."
   ]
  },
  {
   "cell_type": "code",
   "execution_count": 8,
   "metadata": {},
   "outputs": [
    {
     "name": "stdout",
     "output_type": "stream",
     "text": [
      "Lens distortion coefficients :\n",
      "k1 =  0.35342384286946465\n",
      "k2 =  -3.466650807348555\n",
      "p1 =  -0.02122771187422184\n",
      "p2 =  -0.013732237993644918\n",
      "k3 =  5.720941706225883\n"
     ]
    }
   ],
   "source": [
    "print(\"Lens distortion coefficients :\")\n",
    "print(\"k1 = \", distCoeffs[0,0])\n",
    "print(\"k2 = \", distCoeffs[0,1])\n",
    "print(\"p1 = \", distCoeffs[0,2])\n",
    "print(\"p2 = \", distCoeffs[0,3])\n",
    "print(\"k3 = \", distCoeffs[0,4])"
   ]
  },
  {
   "cell_type": "code",
   "execution_count": 17,
   "metadata": {},
   "outputs": [],
   "source": [
    "images_5 = np.random.choice(images, 5, replace=False)\n",
    "\n",
    "for image in images_5:\n",
    "    img = cv2.imread(image)\n",
    "\n",
    "    # perform the undistortion operation on the image\n",
    "    undistorted = cv2.undistort(img, cameraInternalMatrix, distCoeffs)\n",
    "\n",
    "    # Save the original and undistorted images \n",
    "    plt.imsave(\"Undistorted_Image/Raw_image__\" + str(image.split('\\\\')[-1].split('.')[0] + '.png'), img)\n",
    "    plt.imsave(\"Undistorted_Image/Undistorted_image__\" + str(image.split('\\\\')[-1].split('.')[0] + '.png'), undistorted)"
   ]
  },
  {
   "attachments": {},
   "cell_type": "markdown",
   "metadata": {},
   "source": [
    "# **Q1 Part-4**\n",
    "* ##### (5 points) Compute and report the re-projection error using the intrinsic and ex-trinsic camera parameters for each of the 25 selected images. Plot the error using a bar chart. Also report the mean and standard deviation of the re-projection error."
   ]
  },
  {
   "cell_type": "code",
   "execution_count": 37,
   "metadata": {},
   "outputs": [
    {
     "name": "stderr",
     "output_type": "stream",
     "text": [
      "100%|██████████| 28/28 [00:47<00:00,  1.71s/it]\n"
     ]
    }
   ],
   "source": [
    "# Arrays to store object points and image points from all the images.\n",
    "objects_points = []     \n",
    "image_points = []     \n",
    "\n",
    "# Prepare world coordinate for 3D-object points, like (0,0,0), (1,0,0), (2,0,0) ....,(6,5,0), and so on\n",
    "objp = np.zeros((1, checkerboard_size[0]*checkerboard_size[1], 3), np.float32)\n",
    "objp[0,:,:2] = np.mgrid[0:checkerboard_size[0], 0:checkerboard_size[1]].T.reshape(-1, 2)\n",
    "criteria = (cv2.TERM_CRITERIA_EPS + cv2.TERM_CRITERIA_MAX_ITER, 30, 0.001)\n",
    "\n",
    "errors = []\n",
    "i = 0\n",
    "print(\"Images Processed:\")\n",
    "\n",
    "for image_name in tqdm(images):\n",
    "    img = cv2.imread(image_name)\n",
    "    inverted_img = np.array(255 - img, dtype=np.uint8)\n",
    "    gray_img = cv2.cvtColor(inverted_img, cv2.COLOR_BGR2GRAY)\n",
    "    ret, corners = cv2.findChessboardCorners(image=gray_img, patternSize=checkerboard_size, \n",
    "            flags=cv2.CALIB_CB_ADAPTIVE_THRESH + cv2.CALIB_CB_FAST_CHECK + cv2.CALIB_CB_NORMALIZE_IMAGE)\n",
    "\n",
    "    if ret == True:\n",
    "        corners_refined = cv2.cornerSubPix(gray_img, corners, (11,11), (-1,-1), criteria)\n",
    "        objects_points.append(objp)\n",
    "        image_points.append(corners_refined)\n",
    "        \n",
    "        # project 3D points to image plane\n",
    "        reproj_imgage_points, _ = cv2.projectPoints(objp, rvecs[i], tvecs[i], cameraInternalMatrix, distCoeffs)\n",
    "        # calculate error\n",
    "        error = cv2.norm(corners_refined, reproj_imgage_points, cv2.NORM_L2)/len(reproj_imgage_points)\n",
    "        errors.append(error)\n",
    "        i += 1"
   ]
  },
  {
   "cell_type": "code",
   "execution_count": 60,
   "metadata": {},
   "outputs": [
    {
     "data": {
      "image/png": "[encoded data removed]",
      "text/plain": [
       "<Figure size 432x288 with 1 Axes>"
      ]
     },
     "metadata": {},
     "output_type": "display_data"
    }
   ],
   "source": [
    "plt.bar(np.arange(len(errors)), errors, 0.8, color='r')\n",
    "plt.title('Re-projection errors for each image')\n",
    "plt.xlabel('Image number ')\n",
    "plt.ylabel('Re-projection error for each image');"
   ]
  },
  {
   "cell_type": "code",
   "execution_count": 61,
   "metadata": {},
   "outputs": [
    {
     "name": "stdout",
     "output_type": "stream",
     "text": [
      "Mean Re-projection error for all Images: 0.48873697481323536\n",
      "Standard deviation of Re-projection error for all Images: 0.31341515953042837\n"
     ]
    }
   ],
   "source": [
    "# calculate mean and standard deviation of re-projection error\n",
    "mean_error = np.mean(errors)\n",
    "std_dev_error = np.std(errors)\n",
    "\n",
    "print('Mean Re-projection error for all Images:', mean_error)\n",
    "print('Standard deviation of Re-projection error for all Images:', std_dev_error)"
   ]
  }
 ],
 "metadata": {
  "kernelspec": {
   "display_name": "Python 3",
   "language": "python",
   "name": "python3"
  },
  "language_info": {
   "codemirror_mode": {
    "name": "ipython",
    "version": 3
   },
   "file_extension": ".py",
   "mimetype": "text/x-python",
   "name": "python",
   "nbconvert_exporter": "python",
   "pygments_lexer": "ipython3",
   "version": "3.10.1"
  },
  "orig_nbformat": 4
 },
 "nbformat": 4,
 "nbformat_minor": 2
}
