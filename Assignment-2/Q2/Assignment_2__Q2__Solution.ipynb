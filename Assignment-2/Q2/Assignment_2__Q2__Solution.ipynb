{
 "cells": [
  {
   "attachments": {},
   "cell_type": "markdown",
   "metadata": {},
   "source": [
    "# **Khushdev Pandit**\n",
    "# **Roll no: 2020211** \n",
    "# *Assignment Question-2*"
   ]
  },
  {
   "attachments": {},
   "cell_type": "markdown",
   "metadata": {},
   "source": [
    "#"
   ]
  },
  {
   "cell_type": "code",
   "execution_count": 1,
   "metadata": {},
   "outputs": [
    {
     "name": "stdout",
     "output_type": "stream",
     "text": [
      "Jupyter environment detected. Enabling Open3D WebVisualizer.\n",
      "[Open3D INFO] WebRTC GUI backend enabled.\n",
      "[Open3D INFO] WebRTCWindowSystem: HTTP handshake server disabled.\n"
     ]
    }
   ],
   "source": [
    "import numpy as np\n",
    "import matplotlib.pyplot as plt\n",
    "import cv2\n",
    "import os\n",
    "import open3d as o3d\n",
    "import glob"
   ]
  },
  {
   "attachments": {},
   "cell_type": "markdown",
   "metadata": {},
   "source": [
    "# **Q2 Part-1**\n",
    "* ##### (10 points) Compute the chessboard plane normals nLi, i ∈ {1, . . . , 25} and the corresponding offsets di , i ∈ {1, . . . , 25} using the planar LIDAR points in each of the pcd files. You can estimate these by making use of singular value decomposition."
   ]
  },
  {
   "cell_type": "code",
   "execution_count": null,
   "metadata": {},
   "outputs": [],
   "source": [
    "def load_camera_parameters(camera_matrix_path, distortion_coefficients_path):\n",
    "    with open(distortion_coefficients_path, 'r') as f:\n",
    "        contents = f.read()\n",
    "        lines = contents.split('\\n')[:1]\n",
    "        lines = np.array(lines, dtype=np.float32)\n",
    "        print(lines)\n",
    "    pass"
   ]
  },
  {
   "cell_type": "code",
   "execution_count": 2,
   "metadata": {},
   "outputs": [],
   "source": [
    "lidar_scans = glob.glob('lidar_scans/*.pcd')\n",
    "camera_images = glob.glob('camera_images/*.jpeg')\n",
    "camera_param = glob.glob('camera_images/*.jpeg')\n",
    "indices = np.arange(0, len(lidar_scans))\n",
    "indices = np.random.choice(indices, 25, replace=False)"
   ]
  },
  {
   "cell_type": "code",
   "execution_count": 3,
   "metadata": {},
   "outputs": [],
   "source": [
    "camera_images, lidar_scans, camera_param = np.array(camera_images), np.array(lidar_scans), np.array(camera_param)\n",
    "camera_images, lidar_scans, camera_param = camera_images[indices], lidar_scans[indices], camera_param[indices]"
   ]
  },
  {
   "cell_type": "code",
   "execution_count": 91,
   "metadata": {},
   "outputs": [],
   "source": [
    "normal_open3d = []\n",
    "offset_open3d = []\n",
    "\n",
    "for lidar in lidar_scans:\n",
    "    pcd = o3d.io.read_point_cloud(lidar)\n",
    "    plane_model, inliers = pcd.segment_plane(distance_threshold=0.01,\n",
    "                                             ransac_n=3,\n",
    "                                             num_iterations=1000)\n",
    "    normal = plane_model[:3]\n",
    "    offset = plane_model[3]\n",
    "    normal_open3d.append(normal)\n",
    "    offset_open3d.append(offset)\n",
    "normal_open3d, offset_open3d = np.array(normal_open3d), np.array(offset_open3d)"
   ]
  },
  {
   "cell_type": "code",
   "execution_count": 93,
   "metadata": {},
   "outputs": [],
   "source": [
    "all_normals = []\n",
    "all_offsets = []\n",
    "\n",
    "for lidar in lidar_scans:\n",
    "    pcd = o3d.io.read_point_cloud(lidar)\n",
    "    # Estimate plane model coefficients using RANSAC algorithm\n",
    "    plane_model, inliers = pcd.segment_plane(distance_threshold=0.01,\n",
    "                                             ransac_n=3,\n",
    "                                             num_iterations=1000)\n",
    "\n",
    "    # Extract inlier points\n",
    "    points = np.asarray(pcd.points)\n",
    "    # Compute centroid of the planar points\n",
    "    centroid = np.mean(points, axis=0)\n",
    "    # Subtract centroid from the points\n",
    "    centered_points = points - centroid\n",
    "    # Perform SVD on the centered points\n",
    "    __, _, vh = np.linalg.svd(centered_points)\n",
    "    # Estimate plane normal\n",
    "    normal = vh[-1, :]  # Last row of vh matrix\n",
    "    # Estimate offset of the plane\n",
    "    offset = np.dot(normal, centroid)\n",
    "    all_normals.append(normal)\n",
    "    all_offsets.append(offset)\n",
    "\n",
    "all_normals, all_offsets = np.array(all_normals), np.array(all_offsets)"
   ]
  },
  {
   "cell_type": "code",
   "execution_count": 94,
   "metadata": {},
   "outputs": [
    {
     "data": {
      "text/plain": [
       "(0.18287762487068762, 0.8123856214511134)"
      ]
     },
     "execution_count": 94,
     "metadata": {},
     "output_type": "execute_result"
    }
   ],
   "source": [
    "res = normal_open3d - all_normals\n",
    "res.mean(), res.std()"
   ]
  },
  {
   "cell_type": "code",
   "execution_count": 96,
   "metadata": {},
   "outputs": [
    {
     "name": "stdout",
     "output_type": "stream",
     "text": [
      "[ 0.56540185 -0.19615303 -0.80115217]\n",
      "[[0.5654018521308899], [-0.19615302979946136], [-0.8011521697044373]]\n"
     ]
    }
   ],
   "source": [
    "# Open the text file in read mode\n",
    "with open('camera_parameters/frame_256.jpeg/camera_normals.txt', 'r') as file:\n",
    "    contents = file.read()\n",
    "    lines = contents.split('\\n')[:3]\n",
    "    lines = np.array(lines, dtype=np.float32)\n",
    "    print(lines)\n"
   ]
  }
 ],
 "metadata": {
  "kernelspec": {
   "display_name": "Python 3",
   "language": "python",
   "name": "python3"
  },
  "language_info": {
   "codemirror_mode": {
    "name": "ipython",
    "version": 3
   },
   "file_extension": ".py",
   "mimetype": "text/x-python",
   "name": "python",
   "nbconvert_exporter": "python",
   "pygments_lexer": "ipython3",
   "version": "3.10.1"
  },
  "orig_nbformat": 4
 },
 "nbformat": 4,
 "nbformat_minor": 2
}
